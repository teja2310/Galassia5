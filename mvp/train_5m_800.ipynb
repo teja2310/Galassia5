{
  "cells": [
    {
      "cell_type": "code",
      "execution_count": 1,
      "metadata": {
        "colab": {
          "base_uri": "https://localhost:8080/"
        },
        "id": "rON1er3bNWAI",
        "outputId": "a9f01142-3642-4681-af0b-b916893ff7c4"
      },
      "outputs": [
        {
          "output_type": "stream",
          "name": "stdout",
          "text": [
            "True\n"
          ]
        },
        {
          "output_type": "execute_result",
          "data": {
            "text/plain": [
              "(15720382464, 15828320256)"
            ]
          },
          "metadata": {},
          "execution_count": 1
        }
      ],
      "source": [
        "import torch\n",
        "import os\n",
        "print(torch.cuda.is_available())\n",
        "torch.cuda.empty_cache()\n",
        "torch.cuda.mem_get_info()"
      ]
    },
    {
      "cell_type": "code",
      "source": [
        "from google.colab import drive\n",
        "drive.mount(\"/content/drive\")"
      ],
      "metadata": {
        "colab": {
          "base_uri": "https://localhost:8080/"
        },
        "id": "_JvtdW8RSAAz",
        "outputId": "a5ac22f2-2ff0-426f-a37a-daaeb98f660b"
      },
      "execution_count": 2,
      "outputs": [
        {
          "output_type": "stream",
          "name": "stdout",
          "text": [
            "Mounted at /content/drive\n"
          ]
        }
      ]
    },
    {
      "cell_type": "code",
      "source": [
        "os.chdir('/content/drive/My Drive/data800/data800-gray')"
      ],
      "metadata": {
        "id": "c8g1Uooj7p_6"
      },
      "execution_count": 3,
      "outputs": []
    },
    {
      "cell_type": "code",
      "source": [
        "!pwd"
      ],
      "metadata": {
        "id": "Ii-Xs0YJ7u4S",
        "outputId": "d08f1bf1-2476-414d-b6fd-2ca9051a4c33",
        "colab": {
          "base_uri": "https://localhost:8080/"
        }
      },
      "execution_count": 4,
      "outputs": [
        {
          "output_type": "stream",
          "name": "stdout",
          "text": [
            "/content/drive/My Drive/data800/data800-gray\n"
          ]
        }
      ]
    },
    {
      "cell_type": "code",
      "source": [
        "# Define the path\n",
        "path = '/content/drive/MyDrive/data800/data800'\n",
        "\n",
        "# List all files and directories in the specified path\n",
        "files = os.listdir(path)\n",
        "for file in files:\n",
        "    print(file)"
      ],
      "metadata": {
        "colab": {
          "base_uri": "https://localhost:8080/"
        },
        "id": "U_OvAAMvS7BQ",
        "outputId": "97f46372-79f7-495b-9543-98a19b0eb99f"
      },
      "execution_count": null,
      "outputs": [
        {
          "output_type": "stream",
          "name": "stdout",
          "text": [
            "classes.txt\n",
            "data.yaml\n",
            "yolov8n.pt\n",
            "valid\n",
            "train\n",
            "test\n",
            "data-gray.yaml\n"
          ]
        }
      ]
    },
    {
      "cell_type": "code",
      "source": [
        "!pip install ultralytics"
      ],
      "metadata": {
        "id": "S-HBFuLEd56t",
        "outputId": "35c4bdc0-c59e-439a-ebe2-7d73e8c34c25",
        "colab": {
          "base_uri": "https://localhost:8080/"
        }
      },
      "execution_count": 5,
      "outputs": [
        {
          "output_type": "stream",
          "name": "stdout",
          "text": [
            "Collecting ultralytics\n",
            "  Downloading ultralytics-8.3.75-py3-none-any.whl.metadata (35 kB)\n",
            "Requirement already satisfied: numpy<=2.1.1,>=1.23.0 in /usr/local/lib/python3.11/dist-packages (from ultralytics) (1.26.4)\n",
            "Requirement already satisfied: matplotlib>=3.3.0 in /usr/local/lib/python3.11/dist-packages (from ultralytics) (3.10.0)\n",
            "Requirement already satisfied: opencv-python>=4.6.0 in /usr/local/lib/python3.11/dist-packages (from ultralytics) (4.11.0.86)\n",
            "Requirement already satisfied: pillow>=7.1.2 in /usr/local/lib/python3.11/dist-packages (from ultralytics) (11.1.0)\n",
            "Requirement already satisfied: pyyaml>=5.3.1 in /usr/local/lib/python3.11/dist-packages (from ultralytics) (6.0.2)\n",
            "Requirement already satisfied: requests>=2.23.0 in /usr/local/lib/python3.11/dist-packages (from ultralytics) (2.32.3)\n",
            "Requirement already satisfied: scipy>=1.4.1 in /usr/local/lib/python3.11/dist-packages (from ultralytics) (1.13.1)\n",
            "Requirement already satisfied: torch>=1.8.0 in /usr/local/lib/python3.11/dist-packages (from ultralytics) (2.5.1+cu124)\n",
            "Requirement already satisfied: torchvision>=0.9.0 in /usr/local/lib/python3.11/dist-packages (from ultralytics) (0.20.1+cu124)\n",
            "Requirement already satisfied: tqdm>=4.64.0 in /usr/local/lib/python3.11/dist-packages (from ultralytics) (4.67.1)\n",
            "Requirement already satisfied: psutil in /usr/local/lib/python3.11/dist-packages (from ultralytics) (5.9.5)\n",
            "Requirement already satisfied: py-cpuinfo in /usr/local/lib/python3.11/dist-packages (from ultralytics) (9.0.0)\n",
            "Requirement already satisfied: pandas>=1.1.4 in /usr/local/lib/python3.11/dist-packages (from ultralytics) (2.2.2)\n",
            "Requirement already satisfied: seaborn>=0.11.0 in /usr/local/lib/python3.11/dist-packages (from ultralytics) (0.13.2)\n",
            "Collecting ultralytics-thop>=2.0.0 (from ultralytics)\n",
            "  Downloading ultralytics_thop-2.0.14-py3-none-any.whl.metadata (9.4 kB)\n",
            "Requirement already satisfied: contourpy>=1.0.1 in /usr/local/lib/python3.11/dist-packages (from matplotlib>=3.3.0->ultralytics) (1.3.1)\n",
            "Requirement already satisfied: cycler>=0.10 in /usr/local/lib/python3.11/dist-packages (from matplotlib>=3.3.0->ultralytics) (0.12.1)\n",
            "Requirement already satisfied: fonttools>=4.22.0 in /usr/local/lib/python3.11/dist-packages (from matplotlib>=3.3.0->ultralytics) (4.56.0)\n",
            "Requirement already satisfied: kiwisolver>=1.3.1 in /usr/local/lib/python3.11/dist-packages (from matplotlib>=3.3.0->ultralytics) (1.4.8)\n",
            "Requirement already satisfied: packaging>=20.0 in /usr/local/lib/python3.11/dist-packages (from matplotlib>=3.3.0->ultralytics) (24.2)\n",
            "Requirement already satisfied: pyparsing>=2.3.1 in /usr/local/lib/python3.11/dist-packages (from matplotlib>=3.3.0->ultralytics) (3.2.1)\n",
            "Requirement already satisfied: python-dateutil>=2.7 in /usr/local/lib/python3.11/dist-packages (from matplotlib>=3.3.0->ultralytics) (2.8.2)\n",
            "Requirement already satisfied: pytz>=2020.1 in /usr/local/lib/python3.11/dist-packages (from pandas>=1.1.4->ultralytics) (2025.1)\n",
            "Requirement already satisfied: tzdata>=2022.7 in /usr/local/lib/python3.11/dist-packages (from pandas>=1.1.4->ultralytics) (2025.1)\n",
            "Requirement already satisfied: charset-normalizer<4,>=2 in /usr/local/lib/python3.11/dist-packages (from requests>=2.23.0->ultralytics) (3.4.1)\n",
            "Requirement already satisfied: idna<4,>=2.5 in /usr/local/lib/python3.11/dist-packages (from requests>=2.23.0->ultralytics) (3.10)\n",
            "Requirement already satisfied: urllib3<3,>=1.21.1 in /usr/local/lib/python3.11/dist-packages (from requests>=2.23.0->ultralytics) (2.3.0)\n",
            "Requirement already satisfied: certifi>=2017.4.17 in /usr/local/lib/python3.11/dist-packages (from requests>=2.23.0->ultralytics) (2025.1.31)\n",
            "Requirement already satisfied: filelock in /usr/local/lib/python3.11/dist-packages (from torch>=1.8.0->ultralytics) (3.17.0)\n",
            "Requirement already satisfied: typing-extensions>=4.8.0 in /usr/local/lib/python3.11/dist-packages (from torch>=1.8.0->ultralytics) (4.12.2)\n",
            "Requirement already satisfied: networkx in /usr/local/lib/python3.11/dist-packages (from torch>=1.8.0->ultralytics) (3.4.2)\n",
            "Requirement already satisfied: jinja2 in /usr/local/lib/python3.11/dist-packages (from torch>=1.8.0->ultralytics) (3.1.5)\n",
            "Requirement already satisfied: fsspec in /usr/local/lib/python3.11/dist-packages (from torch>=1.8.0->ultralytics) (2024.10.0)\n",
            "Collecting nvidia-cuda-nvrtc-cu12==12.4.127 (from torch>=1.8.0->ultralytics)\n",
            "  Downloading nvidia_cuda_nvrtc_cu12-12.4.127-py3-none-manylinux2014_x86_64.whl.metadata (1.5 kB)\n",
            "Collecting nvidia-cuda-runtime-cu12==12.4.127 (from torch>=1.8.0->ultralytics)\n",
            "  Downloading nvidia_cuda_runtime_cu12-12.4.127-py3-none-manylinux2014_x86_64.whl.metadata (1.5 kB)\n",
            "Collecting nvidia-cuda-cupti-cu12==12.4.127 (from torch>=1.8.0->ultralytics)\n",
            "  Downloading nvidia_cuda_cupti_cu12-12.4.127-py3-none-manylinux2014_x86_64.whl.metadata (1.6 kB)\n",
            "Collecting nvidia-cudnn-cu12==9.1.0.70 (from torch>=1.8.0->ultralytics)\n",
            "  Downloading nvidia_cudnn_cu12-9.1.0.70-py3-none-manylinux2014_x86_64.whl.metadata (1.6 kB)\n",
            "Collecting nvidia-cublas-cu12==12.4.5.8 (from torch>=1.8.0->ultralytics)\n",
            "  Downloading nvidia_cublas_cu12-12.4.5.8-py3-none-manylinux2014_x86_64.whl.metadata (1.5 kB)\n",
            "Collecting nvidia-cufft-cu12==11.2.1.3 (from torch>=1.8.0->ultralytics)\n",
            "  Downloading nvidia_cufft_cu12-11.2.1.3-py3-none-manylinux2014_x86_64.whl.metadata (1.5 kB)\n",
            "Collecting nvidia-curand-cu12==10.3.5.147 (from torch>=1.8.0->ultralytics)\n",
            "  Downloading nvidia_curand_cu12-10.3.5.147-py3-none-manylinux2014_x86_64.whl.metadata (1.5 kB)\n",
            "Collecting nvidia-cusolver-cu12==11.6.1.9 (from torch>=1.8.0->ultralytics)\n",
            "  Downloading nvidia_cusolver_cu12-11.6.1.9-py3-none-manylinux2014_x86_64.whl.metadata (1.6 kB)\n",
            "Collecting nvidia-cusparse-cu12==12.3.1.170 (from torch>=1.8.0->ultralytics)\n",
            "  Downloading nvidia_cusparse_cu12-12.3.1.170-py3-none-manylinux2014_x86_64.whl.metadata (1.6 kB)\n",
            "Requirement already satisfied: nvidia-nccl-cu12==2.21.5 in /usr/local/lib/python3.11/dist-packages (from torch>=1.8.0->ultralytics) (2.21.5)\n",
            "Requirement already satisfied: nvidia-nvtx-cu12==12.4.127 in /usr/local/lib/python3.11/dist-packages (from torch>=1.8.0->ultralytics) (12.4.127)\n",
            "Collecting nvidia-nvjitlink-cu12==12.4.127 (from torch>=1.8.0->ultralytics)\n",
            "  Downloading nvidia_nvjitlink_cu12-12.4.127-py3-none-manylinux2014_x86_64.whl.metadata (1.5 kB)\n",
            "Requirement already satisfied: triton==3.1.0 in /usr/local/lib/python3.11/dist-packages (from torch>=1.8.0->ultralytics) (3.1.0)\n",
            "Requirement already satisfied: sympy==1.13.1 in /usr/local/lib/python3.11/dist-packages (from torch>=1.8.0->ultralytics) (1.13.1)\n",
            "Requirement already satisfied: mpmath<1.4,>=1.1.0 in /usr/local/lib/python3.11/dist-packages (from sympy==1.13.1->torch>=1.8.0->ultralytics) (1.3.0)\n",
            "Requirement already satisfied: six>=1.5 in /usr/local/lib/python3.11/dist-packages (from python-dateutil>=2.7->matplotlib>=3.3.0->ultralytics) (1.17.0)\n",
            "Requirement already satisfied: MarkupSafe>=2.0 in /usr/local/lib/python3.11/dist-packages (from jinja2->torch>=1.8.0->ultralytics) (3.0.2)\n",
            "Downloading ultralytics-8.3.75-py3-none-any.whl (914 kB)\n",
            "\u001b[2K   \u001b[90m━━━━━━━━━━━━━━━━━━━━━━━━━━━━━━━━━━━━━━━━\u001b[0m \u001b[32m914.9/914.9 kB\u001b[0m \u001b[31m30.3 MB/s\u001b[0m eta \u001b[36m0:00:00\u001b[0m\n",
            "\u001b[?25hDownloading nvidia_cublas_cu12-12.4.5.8-py3-none-manylinux2014_x86_64.whl (363.4 MB)\n",
            "\u001b[2K   \u001b[90m━━━━━━━━━━━━━━━━━━━━━━━━━━━━━━━━━━━━━━━━\u001b[0m \u001b[32m363.4/363.4 MB\u001b[0m \u001b[31m1.9 MB/s\u001b[0m eta \u001b[36m0:00:00\u001b[0m\n",
            "\u001b[?25hDownloading nvidia_cuda_cupti_cu12-12.4.127-py3-none-manylinux2014_x86_64.whl (13.8 MB)\n",
            "\u001b[2K   \u001b[90m━━━━━━━━━━━━━━━━━━━━━━━━━━━━━━━━━━━━━━━━\u001b[0m \u001b[32m13.8/13.8 MB\u001b[0m \u001b[31m68.8 MB/s\u001b[0m eta \u001b[36m0:00:00\u001b[0m\n",
            "\u001b[?25hDownloading nvidia_cuda_nvrtc_cu12-12.4.127-py3-none-manylinux2014_x86_64.whl (24.6 MB)\n",
            "\u001b[2K   \u001b[90m━━━━━━━━━━━━━━━━━━━━━━━━━━━━━━━━━━━━━━━━\u001b[0m \u001b[32m24.6/24.6 MB\u001b[0m \u001b[31m34.4 MB/s\u001b[0m eta \u001b[36m0:00:00\u001b[0m\n",
            "\u001b[?25hDownloading nvidia_cuda_runtime_cu12-12.4.127-py3-none-manylinux2014_x86_64.whl (883 kB)\n",
            "\u001b[2K   \u001b[90m━━━━━━━━━━━━━━━━━━━━━━━━━━━━━━━━━━━━━━━━\u001b[0m \u001b[32m883.7/883.7 kB\u001b[0m \u001b[31m31.8 MB/s\u001b[0m eta \u001b[36m0:00:00\u001b[0m\n",
            "\u001b[?25hDownloading nvidia_cudnn_cu12-9.1.0.70-py3-none-manylinux2014_x86_64.whl (664.8 MB)\n",
            "\u001b[2K   \u001b[90m━━━━━━━━━━━━━━━━━━━━━━━━━━━━━━━━━━━━━━━━\u001b[0m \u001b[32m664.8/664.8 MB\u001b[0m \u001b[31m3.4 MB/s\u001b[0m eta \u001b[36m0:00:00\u001b[0m\n",
            "\u001b[?25hDownloading nvidia_cufft_cu12-11.2.1.3-py3-none-manylinux2014_x86_64.whl (211.5 MB)\n",
            "\u001b[2K   \u001b[90m━━━━━━━━━━━━━━━━━━━━━━━━━━━━━━━━━━━━━━━━\u001b[0m \u001b[32m211.5/211.5 MB\u001b[0m \u001b[31m2.1 MB/s\u001b[0m eta \u001b[36m0:00:00\u001b[0m\n",
            "\u001b[?25hDownloading nvidia_curand_cu12-10.3.5.147-py3-none-manylinux2014_x86_64.whl (56.3 MB)\n",
            "\u001b[2K   \u001b[90m━━━━━━━━━━━━━━━━━━━━━━━━━━━━━━━━━━━━━━━━\u001b[0m \u001b[32m56.3/56.3 MB\u001b[0m \u001b[31m14.5 MB/s\u001b[0m eta \u001b[36m0:00:00\u001b[0m\n",
            "\u001b[?25hDownloading nvidia_cusolver_cu12-11.6.1.9-py3-none-manylinux2014_x86_64.whl (127.9 MB)\n",
            "\u001b[2K   \u001b[90m━━━━━━━━━━━━━━━━━━━━━━━━━━━━━━━━━━━━━━━━\u001b[0m \u001b[32m127.9/127.9 MB\u001b[0m \u001b[31m7.5 MB/s\u001b[0m eta \u001b[36m0:00:00\u001b[0m\n",
            "\u001b[?25hDownloading nvidia_cusparse_cu12-12.3.1.170-py3-none-manylinux2014_x86_64.whl (207.5 MB)\n",
            "\u001b[2K   \u001b[90m━━━━━━━━━━━━━━━━━━━━━━━━━━━━━━━━━━━━━━━━\u001b[0m \u001b[32m207.5/207.5 MB\u001b[0m \u001b[31m6.2 MB/s\u001b[0m eta \u001b[36m0:00:00\u001b[0m\n",
            "\u001b[?25hDownloading nvidia_nvjitlink_cu12-12.4.127-py3-none-manylinux2014_x86_64.whl (21.1 MB)\n",
            "\u001b[2K   \u001b[90m━━━━━━━━━━━━━━━━━━━━━━━━━━━━━━━━━━━━━━━━\u001b[0m \u001b[32m21.1/21.1 MB\u001b[0m \u001b[31m62.2 MB/s\u001b[0m eta \u001b[36m0:00:00\u001b[0m\n",
            "\u001b[?25hDownloading ultralytics_thop-2.0.14-py3-none-any.whl (26 kB)\n",
            "Installing collected packages: nvidia-nvjitlink-cu12, nvidia-curand-cu12, nvidia-cufft-cu12, nvidia-cuda-runtime-cu12, nvidia-cuda-nvrtc-cu12, nvidia-cuda-cupti-cu12, nvidia-cublas-cu12, nvidia-cusparse-cu12, nvidia-cudnn-cu12, nvidia-cusolver-cu12, ultralytics-thop, ultralytics\n",
            "  Attempting uninstall: nvidia-nvjitlink-cu12\n",
            "    Found existing installation: nvidia-nvjitlink-cu12 12.5.82\n",
            "    Uninstalling nvidia-nvjitlink-cu12-12.5.82:\n",
            "      Successfully uninstalled nvidia-nvjitlink-cu12-12.5.82\n",
            "  Attempting uninstall: nvidia-curand-cu12\n",
            "    Found existing installation: nvidia-curand-cu12 10.3.6.82\n",
            "    Uninstalling nvidia-curand-cu12-10.3.6.82:\n",
            "      Successfully uninstalled nvidia-curand-cu12-10.3.6.82\n",
            "  Attempting uninstall: nvidia-cufft-cu12\n",
            "    Found existing installation: nvidia-cufft-cu12 11.2.3.61\n",
            "    Uninstalling nvidia-cufft-cu12-11.2.3.61:\n",
            "      Successfully uninstalled nvidia-cufft-cu12-11.2.3.61\n",
            "  Attempting uninstall: nvidia-cuda-runtime-cu12\n",
            "    Found existing installation: nvidia-cuda-runtime-cu12 12.5.82\n",
            "    Uninstalling nvidia-cuda-runtime-cu12-12.5.82:\n",
            "      Successfully uninstalled nvidia-cuda-runtime-cu12-12.5.82\n",
            "  Attempting uninstall: nvidia-cuda-nvrtc-cu12\n",
            "    Found existing installation: nvidia-cuda-nvrtc-cu12 12.5.82\n",
            "    Uninstalling nvidia-cuda-nvrtc-cu12-12.5.82:\n",
            "      Successfully uninstalled nvidia-cuda-nvrtc-cu12-12.5.82\n",
            "  Attempting uninstall: nvidia-cuda-cupti-cu12\n",
            "    Found existing installation: nvidia-cuda-cupti-cu12 12.5.82\n",
            "    Uninstalling nvidia-cuda-cupti-cu12-12.5.82:\n",
            "      Successfully uninstalled nvidia-cuda-cupti-cu12-12.5.82\n",
            "  Attempting uninstall: nvidia-cublas-cu12\n",
            "    Found existing installation: nvidia-cublas-cu12 12.5.3.2\n",
            "    Uninstalling nvidia-cublas-cu12-12.5.3.2:\n",
            "      Successfully uninstalled nvidia-cublas-cu12-12.5.3.2\n",
            "  Attempting uninstall: nvidia-cusparse-cu12\n",
            "    Found existing installation: nvidia-cusparse-cu12 12.5.1.3\n",
            "    Uninstalling nvidia-cusparse-cu12-12.5.1.3:\n",
            "      Successfully uninstalled nvidia-cusparse-cu12-12.5.1.3\n",
            "  Attempting uninstall: nvidia-cudnn-cu12\n",
            "    Found existing installation: nvidia-cudnn-cu12 9.3.0.75\n",
            "    Uninstalling nvidia-cudnn-cu12-9.3.0.75:\n",
            "      Successfully uninstalled nvidia-cudnn-cu12-9.3.0.75\n",
            "  Attempting uninstall: nvidia-cusolver-cu12\n",
            "    Found existing installation: nvidia-cusolver-cu12 11.6.3.83\n",
            "    Uninstalling nvidia-cusolver-cu12-11.6.3.83:\n",
            "      Successfully uninstalled nvidia-cusolver-cu12-11.6.3.83\n",
            "Successfully installed nvidia-cublas-cu12-12.4.5.8 nvidia-cuda-cupti-cu12-12.4.127 nvidia-cuda-nvrtc-cu12-12.4.127 nvidia-cuda-runtime-cu12-12.4.127 nvidia-cudnn-cu12-9.1.0.70 nvidia-cufft-cu12-11.2.1.3 nvidia-curand-cu12-10.3.5.147 nvidia-cusolver-cu12-11.6.1.9 nvidia-cusparse-cu12-12.3.1.170 nvidia-nvjitlink-cu12-12.4.127 ultralytics-8.3.75 ultralytics-thop-2.0.14\n"
          ]
        }
      ]
    },
    {
      "cell_type": "code",
      "execution_count": 1,
      "metadata": {
        "colab": {
          "base_uri": "https://localhost:8080/"
        },
        "id": "wiMS4P43NWAJ",
        "outputId": "d4fd742d-2228-4ca1-c10c-5440b97c9059"
      },
      "outputs": [
        {
          "output_type": "stream",
          "name": "stdout",
          "text": [
            "Ultralytics 8.3.75 🚀 Python-3.11.11 torch-2.5.1+cu124 CUDA:0 (Tesla T4, 15095MiB)\n",
            "\u001b[34m\u001b[1mengine/trainer: \u001b[0mtask=detect, mode=train, model=/content/drive/My Drive/data800/data800/yolov8n.pt, data=/content/drive/My Drive/data800/data800/data-gray.yaml, epochs=300, time=None, patience=100, batch=16, imgsz=800, save=True, save_period=-1, cache=False, device=cuda, workers=8, project=None, name=train, exist_ok=False, pretrained=True, optimizer=AdamW, verbose=True, seed=0, deterministic=True, single_cls=False, rect=False, cos_lr=False, close_mosaic=10, resume=False, amp=True, fraction=1.0, profile=False, freeze=None, multi_scale=False, overlap_mask=True, mask_ratio=4, dropout=0.0, val=True, split=val, save_json=False, save_hybrid=False, conf=None, iou=0.7, max_det=300, half=False, dnn=False, plots=True, source=None, vid_stride=1, stream_buffer=False, visualize=False, augment=False, agnostic_nms=False, classes=None, retina_masks=False, embed=None, show=False, save_frames=False, save_txt=False, save_conf=False, save_crop=False, show_labels=True, show_conf=True, show_boxes=True, line_width=None, format=torchscript, keras=False, optimize=False, int8=False, dynamic=False, simplify=True, opset=None, workspace=None, nms=False, lr0=0.007, lrf=0.01, momentum=0.937, weight_decay=8e-06, warmup_epochs=3.0, warmup_momentum=0.8, warmup_bias_lr=0.1, box=7.5, cls=0.5, dfl=1.5, pose=12.0, kobj=1.0, nbs=64, hsv_h=0.015, hsv_s=0.7, hsv_v=0.4, degrees=0.0, translate=0.1, scale=0.5, shear=0.0, perspective=0.0, flipud=0.0, fliplr=0.5, bgr=0.0, mosaic=1.0, mixup=0.0, copy_paste=0.0, copy_paste_mode=flip, auto_augment=randaugment, erasing=0.4, crop_fraction=1.0, cfg=None, tracker=botsort.yaml, save_dir=runs/detect/train\n",
            "Overriding model.yaml nc=80 with nc=1\n",
            "\n",
            "                   from  n    params  module                                       arguments                     \n",
            "  0                  -1  1       464  ultralytics.nn.modules.conv.Conv             [3, 16, 3, 2]                 \n",
            "  1                  -1  1      4672  ultralytics.nn.modules.conv.Conv             [16, 32, 3, 2]                \n",
            "  2                  -1  1      7360  ultralytics.nn.modules.block.C2f             [32, 32, 1, True]             \n",
            "  3                  -1  1     18560  ultralytics.nn.modules.conv.Conv             [32, 64, 3, 2]                \n",
            "  4                  -1  2     49664  ultralytics.nn.modules.block.C2f             [64, 64, 2, True]             \n",
            "  5                  -1  1     73984  ultralytics.nn.modules.conv.Conv             [64, 128, 3, 2]               \n",
            "  6                  -1  2    197632  ultralytics.nn.modules.block.C2f             [128, 128, 2, True]           \n",
            "  7                  -1  1    295424  ultralytics.nn.modules.conv.Conv             [128, 256, 3, 2]              \n",
            "  8                  -1  1    460288  ultralytics.nn.modules.block.C2f             [256, 256, 1, True]           \n",
            "  9                  -1  1    164608  ultralytics.nn.modules.block.SPPF            [256, 256, 5]                 \n",
            " 10                  -1  1         0  torch.nn.modules.upsampling.Upsample         [None, 2, 'nearest']          \n",
            " 11             [-1, 6]  1         0  ultralytics.nn.modules.conv.Concat           [1]                           \n",
            " 12                  -1  1    148224  ultralytics.nn.modules.block.C2f             [384, 128, 1]                 \n",
            " 13                  -1  1         0  torch.nn.modules.upsampling.Upsample         [None, 2, 'nearest']          \n",
            " 14             [-1, 4]  1         0  ultralytics.nn.modules.conv.Concat           [1]                           \n",
            " 15                  -1  1     37248  ultralytics.nn.modules.block.C2f             [192, 64, 1]                  \n",
            " 16                  -1  1     36992  ultralytics.nn.modules.conv.Conv             [64, 64, 3, 2]                \n",
            " 17            [-1, 12]  1         0  ultralytics.nn.modules.conv.Concat           [1]                           \n",
            " 18                  -1  1    123648  ultralytics.nn.modules.block.C2f             [192, 128, 1]                 \n",
            " 19                  -1  1    147712  ultralytics.nn.modules.conv.Conv             [128, 128, 3, 2]              \n",
            " 20             [-1, 9]  1         0  ultralytics.nn.modules.conv.Concat           [1]                           \n",
            " 21                  -1  1    493056  ultralytics.nn.modules.block.C2f             [384, 256, 1]                 \n",
            " 22        [15, 18, 21]  1    751507  ultralytics.nn.modules.head.Detect           [1, [64, 128, 256]]           \n",
            "Model summary: 225 layers, 3,011,043 parameters, 3,011,027 gradients, 8.2 GFLOPs\n",
            "\n",
            "Transferred 319/355 items from pretrained weights\n",
            "\u001b[34m\u001b[1mTensorBoard: \u001b[0mStart with 'tensorboard --logdir runs/detect/train', view at http://localhost:6006/\n",
            "Freezing layer 'model.22.dfl.conv.weight'\n",
            "\u001b[34m\u001b[1mAMP: \u001b[0mrunning Automatic Mixed Precision (AMP) checks...\n",
            "Downloading https://github.com/ultralytics/assets/releases/download/v8.3.0/yolo11n.pt to 'yolo11n.pt'...\n"
          ]
        },
        {
          "output_type": "stream",
          "name": "stderr",
          "text": [
            "100%|██████████| 5.35M/5.35M [00:00<00:00, 129MB/s]\n"
          ]
        },
        {
          "output_type": "stream",
          "name": "stdout",
          "text": [
            "\u001b[34m\u001b[1mAMP: \u001b[0mchecks passed ✅\n"
          ]
        },
        {
          "output_type": "stream",
          "name": "stderr",
          "text": [
            "\u001b[34m\u001b[1mtrain: \u001b[0mScanning /content/drive/My Drive/data800/data800-gray/train/labels... 315 images, 214 backgrounds, 0 corrupt: 100%|██████████| 323/323 [00:58<00:00,  5.52it/s]\n"
          ]
        },
        {
          "output_type": "stream",
          "name": "stdout",
          "text": [
            "\u001b[34m\u001b[1mtrain: \u001b[0mNew cache created: /content/drive/My Drive/data800/data800-gray/train/labels.cache\n",
            "\u001b[34m\u001b[1malbumentations: \u001b[0mBlur(p=0.01, blur_limit=(3, 7)), MedianBlur(p=0.01, blur_limit=(3, 7)), ToGray(p=0.01, num_output_channels=3, method='weighted_average'), CLAHE(p=0.01, clip_limit=(1.0, 4.0), tile_grid_size=(8, 8))\n"
          ]
        },
        {
          "output_type": "stream",
          "name": "stderr",
          "text": [
            "\u001b[34m\u001b[1mval: \u001b[0mScanning /content/drive/My Drive/data800/data800-gray/val/labels... 30 images, 19 backgrounds, 0 corrupt: 100%|██████████| 30/30 [00:19<00:00,  1.58it/s]"
          ]
        },
        {
          "output_type": "stream",
          "name": "stdout",
          "text": [
            "\u001b[34m\u001b[1mval: \u001b[0mNew cache created: /content/drive/My Drive/data800/data800-gray/val/labels.cache\n"
          ]
        },
        {
          "output_type": "stream",
          "name": "stderr",
          "text": [
            "\n"
          ]
        },
        {
          "output_type": "stream",
          "name": "stdout",
          "text": [
            "Plotting labels to runs/detect/train/labels.jpg... \n",
            "\u001b[34m\u001b[1moptimizer:\u001b[0m AdamW(lr=0.007, momentum=0.937) with parameter groups 57 weight(decay=0.0), 64 weight(decay=8e-06), 63 bias(decay=0.0)\n",
            "\u001b[34m\u001b[1mTensorBoard: \u001b[0mmodel graph visualization added ✅\n",
            "Image sizes 800 train, 800 val\n",
            "Using 2 dataloader workers\n",
            "Logging results to \u001b[1mruns/detect/train\u001b[0m\n",
            "Starting training for 300 epochs...\n",
            "\n",
            "      Epoch    GPU_mem   box_loss   cls_loss   dfl_loss  Instances       Size\n"
          ]
        },
        {
          "output_type": "stream",
          "name": "stderr",
          "text": [
            "      1/300      3.54G      2.203      14.54      1.257          2        800: 100%|██████████| 21/21 [00:12<00:00,  1.75it/s]\n",
            "                 Class     Images  Instances      Box(P          R      mAP50  mAP50-95): 100%|██████████| 1/1 [00:01<00:00,  1.94s/it]"
          ]
        },
        {
          "output_type": "stream",
          "name": "stdout",
          "text": [
            "                   all         30         35          0          0          0          0\n"
          ]
        },
        {
          "output_type": "stream",
          "name": "stderr",
          "text": [
            "\n"
          ]
        },
        {
          "output_type": "stream",
          "name": "stdout",
          "text": [
            "\n",
            "      Epoch    GPU_mem   box_loss   cls_loss   dfl_loss  Instances       Size\n"
          ]
        },
        {
          "output_type": "stream",
          "name": "stderr",
          "text": [
            "      2/300      3.38G      2.383      2.239      1.273         11        800: 100%|██████████| 21/21 [00:09<00:00,  2.22it/s]\n",
            "                 Class     Images  Instances      Box(P          R      mAP50  mAP50-95): 100%|██████████| 1/1 [00:00<00:00,  3.58it/s]"
          ]
        },
        {
          "output_type": "stream",
          "name": "stdout",
          "text": [
            "                   all         30         35      0.238      0.286      0.323      0.155\n"
          ]
        },
        {
          "output_type": "stream",
          "name": "stderr",
          "text": [
            "\n"
          ]
        },
        {
          "output_type": "stream",
          "name": "stdout",
          "text": [
            "\n",
            "      Epoch    GPU_mem   box_loss   cls_loss   dfl_loss  Instances       Size\n"
          ]
        },
        {
          "output_type": "stream",
          "name": "stderr",
          "text": [
            "      3/300      3.41G      2.173       1.97      1.222          0        800: 100%|██████████| 21/21 [00:07<00:00,  2.66it/s]\n",
            "                 Class     Images  Instances      Box(P          R      mAP50  mAP50-95): 100%|██████████| 1/1 [00:00<00:00,  1.81it/s]"
          ]
        },
        {
          "output_type": "stream",
          "name": "stdout",
          "text": [
            "                   all         30         35   0.000161     0.0286   9.36e-05   9.36e-06\n"
          ]
        },
        {
          "output_type": "stream",
          "name": "stderr",
          "text": [
            "\n"
          ]
        },
        {
          "output_type": "stream",
          "name": "stdout",
          "text": [
            "\n",
            "      Epoch    GPU_mem   box_loss   cls_loss   dfl_loss  Instances       Size\n"
          ]
        },
        {
          "output_type": "stream",
          "name": "stderr",
          "text": [
            "      4/300      3.31G      2.497       2.35      1.405          1        800: 100%|██████████| 21/21 [00:08<00:00,  2.62it/s]\n",
            "                 Class     Images  Instances      Box(P          R      mAP50  mAP50-95): 100%|██████████| 1/1 [00:01<00:00,  1.11s/it]"
          ]
        },
        {
          "output_type": "stream",
          "name": "stdout",
          "text": [
            "                   all         30         35   0.000111     0.0286    5.8e-05   1.16e-05\n"
          ]
        },
        {
          "output_type": "stream",
          "name": "stderr",
          "text": [
            "\n"
          ]
        },
        {
          "output_type": "stream",
          "name": "stdout",
          "text": [
            "\n",
            "      Epoch    GPU_mem   box_loss   cls_loss   dfl_loss  Instances       Size\n"
          ]
        },
        {
          "output_type": "stream",
          "name": "stderr",
          "text": [
            "      5/300      3.32G      2.335      1.969      1.305         19        800: 100%|██████████| 21/21 [00:09<00:00,  2.27it/s]\n",
            "                 Class     Images  Instances      Box(P          R      mAP50  mAP50-95): 100%|██████████| 1/1 [00:00<00:00,  2.68it/s]"
          ]
        },
        {
          "output_type": "stream",
          "name": "stdout",
          "text": [
            "                   all         30         35   0.000111     0.0286    5.8e-05   1.16e-05\n"
          ]
        },
        {
          "output_type": "stream",
          "name": "stderr",
          "text": [
            "\n"
          ]
        },
        {
          "output_type": "stream",
          "name": "stdout",
          "text": [
            "\n",
            "      Epoch    GPU_mem   box_loss   cls_loss   dfl_loss  Instances       Size\n"
          ]
        },
        {
          "output_type": "stream",
          "name": "stderr",
          "text": [
            "      6/300      3.45G      2.325      2.086      1.323         23        800: 100%|██████████| 21/21 [00:09<00:00,  2.29it/s]\n",
            "                 Class     Images  Instances      Box(P          R      mAP50  mAP50-95): 100%|██████████| 1/1 [00:00<00:00,  3.09it/s]"
          ]
        },
        {
          "output_type": "stream",
          "name": "stdout",
          "text": [
            "                   all         30         35      0.002     0.0286    0.00109   0.000434\n"
          ]
        },
        {
          "output_type": "stream",
          "name": "stderr",
          "text": [
            "\n"
          ]
        },
        {
          "output_type": "stream",
          "name": "stdout",
          "text": [
            "\n",
            "      Epoch    GPU_mem   box_loss   cls_loss   dfl_loss  Instances       Size\n"
          ]
        },
        {
          "output_type": "stream",
          "name": "stderr",
          "text": [
            "      7/300       3.5G      2.447      2.375      1.298          5        800: 100%|██████████| 21/21 [00:07<00:00,  2.63it/s]\n",
            "                 Class     Images  Instances      Box(P          R      mAP50  mAP50-95): 100%|██████████| 1/1 [00:00<00:00,  1.66it/s]"
          ]
        },
        {
          "output_type": "stream",
          "name": "stdout",
          "text": [
            "                   all         30         35      0.268      0.429      0.226      0.116\n"
          ]
        },
        {
          "output_type": "stream",
          "name": "stderr",
          "text": [
            "\n"
          ]
        },
        {
          "output_type": "stream",
          "name": "stdout",
          "text": [
            "\n",
            "      Epoch    GPU_mem   box_loss   cls_loss   dfl_loss  Instances       Size\n"
          ]
        },
        {
          "output_type": "stream",
          "name": "stderr",
          "text": [
            "      8/300      3.49G      2.293      2.062      1.248         12        800: 100%|██████████| 21/21 [00:07<00:00,  2.73it/s]\n",
            "                 Class     Images  Instances      Box(P          R      mAP50  mAP50-95): 100%|██████████| 1/1 [00:00<00:00,  2.38it/s]"
          ]
        },
        {
          "output_type": "stream",
          "name": "stdout",
          "text": [
            "                   all         30         35      0.341        0.4      0.359      0.214\n"
          ]
        },
        {
          "output_type": "stream",
          "name": "stderr",
          "text": [
            "\n"
          ]
        },
        {
          "output_type": "stream",
          "name": "stdout",
          "text": [
            "\n",
            "      Epoch    GPU_mem   box_loss   cls_loss   dfl_loss  Instances       Size\n"
          ]
        },
        {
          "output_type": "stream",
          "name": "stderr",
          "text": [
            "      9/300      3.28G       2.11      2.034      1.152          0        800: 100%|██████████| 21/21 [00:09<00:00,  2.20it/s]\n",
            "                 Class     Images  Instances      Box(P          R      mAP50  mAP50-95): 100%|██████████| 1/1 [00:00<00:00,  2.59it/s]"
          ]
        },
        {
          "output_type": "stream",
          "name": "stdout",
          "text": [
            "                   all         30         35      0.283      0.286      0.238      0.151\n"
          ]
        },
        {
          "output_type": "stream",
          "name": "stderr",
          "text": [
            "\n"
          ]
        },
        {
          "output_type": "stream",
          "name": "stdout",
          "text": [
            "\n",
            "      Epoch    GPU_mem   box_loss   cls_loss   dfl_loss  Instances       Size\n"
          ]
        },
        {
          "output_type": "stream",
          "name": "stderr",
          "text": [
            "     10/300      3.49G      2.084      1.827       1.27          1        800: 100%|██████████| 21/21 [00:09<00:00,  2.27it/s]\n",
            "                 Class     Images  Instances      Box(P          R      mAP50  mAP50-95): 100%|██████████| 1/1 [00:00<00:00,  1.89it/s]"
          ]
        },
        {
          "output_type": "stream",
          "name": "stdout",
          "text": [
            "                   all         30         35      0.339      0.714      0.503      0.274\n"
          ]
        },
        {
          "output_type": "stream",
          "name": "stderr",
          "text": [
            "\n"
          ]
        },
        {
          "output_type": "stream",
          "name": "stdout",
          "text": [
            "\n",
            "      Epoch    GPU_mem   box_loss   cls_loss   dfl_loss  Instances       Size\n"
          ]
        },
        {
          "output_type": "stream",
          "name": "stderr",
          "text": [
            "     11/300      3.53G       2.11      1.842      1.249          0        800: 100%|██████████| 21/21 [00:08<00:00,  2.41it/s]\n",
            "                 Class     Images  Instances      Box(P          R      mAP50  mAP50-95): 100%|██████████| 1/1 [00:00<00:00,  1.90it/s]"
          ]
        },
        {
          "output_type": "stream",
          "name": "stdout",
          "text": [
            "                   all         30         35      0.347      0.244      0.291      0.119\n"
          ]
        },
        {
          "output_type": "stream",
          "name": "stderr",
          "text": [
            "\n"
          ]
        },
        {
          "output_type": "stream",
          "name": "stdout",
          "text": [
            "\n",
            "      Epoch    GPU_mem   box_loss   cls_loss   dfl_loss  Instances       Size\n"
          ]
        },
        {
          "output_type": "stream",
          "name": "stderr",
          "text": [
            "     12/300      3.49G      2.032       1.69      1.193          0        800: 100%|██████████| 21/21 [00:07<00:00,  2.73it/s]\n",
            "                 Class     Images  Instances      Box(P          R      mAP50  mAP50-95): 100%|██████████| 1/1 [00:00<00:00,  1.96it/s]"
          ]
        },
        {
          "output_type": "stream",
          "name": "stdout",
          "text": [
            "                   all         30         35      0.629      0.229      0.248      0.105\n"
          ]
        },
        {
          "output_type": "stream",
          "name": "stderr",
          "text": [
            "\n"
          ]
        },
        {
          "output_type": "stream",
          "name": "stdout",
          "text": [
            "\n",
            "      Epoch    GPU_mem   box_loss   cls_loss   dfl_loss  Instances       Size\n"
          ]
        },
        {
          "output_type": "stream",
          "name": "stderr",
          "text": [
            "     13/300      3.36G      2.201      1.831      1.234          9        800: 100%|██████████| 21/21 [00:08<00:00,  2.40it/s]\n",
            "                 Class     Images  Instances      Box(P          R      mAP50  mAP50-95): 100%|██████████| 1/1 [00:00<00:00,  2.40it/s]"
          ]
        },
        {
          "output_type": "stream",
          "name": "stdout",
          "text": [
            "                   all         30         35      0.311      0.114     0.0861     0.0361\n"
          ]
        },
        {
          "output_type": "stream",
          "name": "stderr",
          "text": [
            "\n"
          ]
        },
        {
          "output_type": "stream",
          "name": "stdout",
          "text": [
            "\n",
            "      Epoch    GPU_mem   box_loss   cls_loss   dfl_loss  Instances       Size\n"
          ]
        },
        {
          "output_type": "stream",
          "name": "stderr",
          "text": [
            "     14/300      3.42G      2.088      1.808       1.24          6        800: 100%|██████████| 21/21 [00:09<00:00,  2.27it/s]\n",
            "                 Class     Images  Instances      Box(P          R      mAP50  mAP50-95): 100%|██████████| 1/1 [00:00<00:00,  3.26it/s]"
          ]
        },
        {
          "output_type": "stream",
          "name": "stdout",
          "text": [
            "                   all         30         35      0.667      0.457      0.568      0.315\n"
          ]
        },
        {
          "output_type": "stream",
          "name": "stderr",
          "text": [
            "\n"
          ]
        },
        {
          "output_type": "stream",
          "name": "stdout",
          "text": [
            "\n",
            "      Epoch    GPU_mem   box_loss   cls_loss   dfl_loss  Instances       Size\n"
          ]
        },
        {
          "output_type": "stream",
          "name": "stderr",
          "text": [
            "     15/300      3.49G      2.175      1.808      1.224         11        800: 100%|██████████| 21/21 [00:08<00:00,  2.37it/s]\n",
            "                 Class     Images  Instances      Box(P          R      mAP50  mAP50-95): 100%|██████████| 1/1 [00:00<00:00,  1.80it/s]"
          ]
        },
        {
          "output_type": "stream",
          "name": "stdout",
          "text": [
            "                   all         30         35      0.499      0.571      0.502       0.27\n"
          ]
        },
        {
          "output_type": "stream",
          "name": "stderr",
          "text": [
            "\n"
          ]
        },
        {
          "output_type": "stream",
          "name": "stdout",
          "text": [
            "\n",
            "      Epoch    GPU_mem   box_loss   cls_loss   dfl_loss  Instances       Size\n"
          ]
        },
        {
          "output_type": "stream",
          "name": "stderr",
          "text": [
            "     16/300      3.66G      2.041      1.709      1.224         10        800: 100%|██████████| 21/21 [00:07<00:00,  2.70it/s]\n",
            "                 Class     Images  Instances      Box(P          R      mAP50  mAP50-95): 100%|██████████| 1/1 [00:00<00:00,  2.59it/s]"
          ]
        },
        {
          "output_type": "stream",
          "name": "stdout",
          "text": [
            "                   all         30         35      0.709        0.4      0.547      0.326\n"
          ]
        },
        {
          "output_type": "stream",
          "name": "stderr",
          "text": [
            "\n"
          ]
        },
        {
          "output_type": "stream",
          "name": "stdout",
          "text": [
            "\n",
            "      Epoch    GPU_mem   box_loss   cls_loss   dfl_loss  Instances       Size\n"
          ]
        },
        {
          "output_type": "stream",
          "name": "stderr",
          "text": [
            "     17/300      3.44G      2.078      1.805      1.197          3        800: 100%|██████████| 21/21 [00:09<00:00,  2.31it/s]\n",
            "                 Class     Images  Instances      Box(P          R      mAP50  mAP50-95): 100%|██████████| 1/1 [00:00<00:00,  2.72it/s]"
          ]
        },
        {
          "output_type": "stream",
          "name": "stdout",
          "text": [
            "                   all         30         35      0.525      0.457      0.537      0.282\n"
          ]
        },
        {
          "output_type": "stream",
          "name": "stderr",
          "text": [
            "\n"
          ]
        },
        {
          "output_type": "stream",
          "name": "stdout",
          "text": [
            "\n",
            "      Epoch    GPU_mem   box_loss   cls_loss   dfl_loss  Instances       Size\n"
          ]
        },
        {
          "output_type": "stream",
          "name": "stderr",
          "text": [
            "     18/300      3.49G      1.936      1.593      1.086          0        800: 100%|██████████| 21/21 [00:08<00:00,  2.35it/s]\n",
            "                 Class     Images  Instances      Box(P          R      mAP50  mAP50-95): 100%|██████████| 1/1 [00:00<00:00,  3.73it/s]"
          ]
        },
        {
          "output_type": "stream",
          "name": "stdout",
          "text": [
            "                   all         30         35      0.628      0.343      0.446      0.227\n"
          ]
        },
        {
          "output_type": "stream",
          "name": "stderr",
          "text": [
            "\n"
          ]
        },
        {
          "output_type": "stream",
          "name": "stdout",
          "text": [
            "\n",
            "      Epoch    GPU_mem   box_loss   cls_loss   dfl_loss  Instances       Size\n"
          ]
        },
        {
          "output_type": "stream",
          "name": "stderr",
          "text": [
            "     19/300      3.61G      2.004        1.6      1.155          0        800: 100%|██████████| 21/21 [00:08<00:00,  2.38it/s]\n",
            "                 Class     Images  Instances      Box(P          R      mAP50  mAP50-95): 100%|██████████| 1/1 [00:00<00:00,  2.15it/s]"
          ]
        },
        {
          "output_type": "stream",
          "name": "stdout",
          "text": [
            "                   all         30         35      0.898      0.429      0.586      0.351\n"
          ]
        },
        {
          "output_type": "stream",
          "name": "stderr",
          "text": [
            "\n"
          ]
        },
        {
          "output_type": "stream",
          "name": "stdout",
          "text": [
            "\n",
            "      Epoch    GPU_mem   box_loss   cls_loss   dfl_loss  Instances       Size\n"
          ]
        },
        {
          "output_type": "stream",
          "name": "stderr",
          "text": [
            "     20/300      3.45G      1.973      1.569      1.187          6        800: 100%|██████████| 21/21 [00:07<00:00,  2.64it/s]\n",
            "                 Class     Images  Instances      Box(P          R      mAP50  mAP50-95): 100%|██████████| 1/1 [00:00<00:00,  2.03it/s]"
          ]
        },
        {
          "output_type": "stream",
          "name": "stdout",
          "text": [
            "                   all         30         35      0.503      0.492      0.507      0.321\n"
          ]
        },
        {
          "output_type": "stream",
          "name": "stderr",
          "text": [
            "\n"
          ]
        },
        {
          "output_type": "stream",
          "name": "stdout",
          "text": [
            "\n",
            "      Epoch    GPU_mem   box_loss   cls_loss   dfl_loss  Instances       Size\n"
          ]
        },
        {
          "output_type": "stream",
          "name": "stderr",
          "text": [
            "     21/300      3.36G      1.945      1.775      1.134          0        800: 100%|██████████| 21/21 [00:08<00:00,  2.46it/s]\n",
            "                 Class     Images  Instances      Box(P          R      mAP50  mAP50-95): 100%|██████████| 1/1 [00:00<00:00,  2.29it/s]"
          ]
        },
        {
          "output_type": "stream",
          "name": "stdout",
          "text": [
            "                   all         30         35      0.544      0.257      0.341      0.187\n"
          ]
        },
        {
          "output_type": "stream",
          "name": "stderr",
          "text": [
            "\n"
          ]
        },
        {
          "output_type": "stream",
          "name": "stdout",
          "text": [
            "\n",
            "      Epoch    GPU_mem   box_loss   cls_loss   dfl_loss  Instances       Size\n"
          ]
        },
        {
          "output_type": "stream",
          "name": "stderr",
          "text": [
            "     22/300      3.44G      1.777      1.377      1.033          0        800: 100%|██████████| 21/21 [00:09<00:00,  2.24it/s]\n",
            "                 Class     Images  Instances      Box(P          R      mAP50  mAP50-95): 100%|██████████| 1/1 [00:00<00:00,  3.38it/s]"
          ]
        },
        {
          "output_type": "stream",
          "name": "stdout",
          "text": [
            "                   all         30         35     0.0889      0.114      0.063     0.0466\n"
          ]
        },
        {
          "output_type": "stream",
          "name": "stderr",
          "text": [
            "\n"
          ]
        },
        {
          "output_type": "stream",
          "name": "stdout",
          "text": [
            "\n",
            "      Epoch    GPU_mem   box_loss   cls_loss   dfl_loss  Instances       Size\n"
          ]
        },
        {
          "output_type": "stream",
          "name": "stderr",
          "text": [
            "     23/300      3.45G      1.998      1.595      1.172          7        800: 100%|██████████| 21/21 [00:09<00:00,  2.31it/s]\n",
            "                 Class     Images  Instances      Box(P          R      mAP50  mAP50-95): 100%|██████████| 1/1 [00:00<00:00,  2.68it/s]"
          ]
        },
        {
          "output_type": "stream",
          "name": "stdout",
          "text": [
            "                   all         30         35      0.781      0.486      0.649      0.394\n"
          ]
        },
        {
          "output_type": "stream",
          "name": "stderr",
          "text": [
            "\n"
          ]
        },
        {
          "output_type": "stream",
          "name": "stdout",
          "text": [
            "\n",
            "      Epoch    GPU_mem   box_loss   cls_loss   dfl_loss  Instances       Size\n"
          ]
        },
        {
          "output_type": "stream",
          "name": "stderr",
          "text": [
            "     24/300       3.5G      2.042      1.584      1.158         11        800: 100%|██████████| 21/21 [00:07<00:00,  2.71it/s]\n",
            "                 Class     Images  Instances      Box(P          R      mAP50  mAP50-95): 100%|██████████| 1/1 [00:00<00:00,  2.21it/s]"
          ]
        },
        {
          "output_type": "stream",
          "name": "stdout",
          "text": [
            "                   all         30         35      0.699      0.429      0.429      0.261\n"
          ]
        },
        {
          "output_type": "stream",
          "name": "stderr",
          "text": [
            "\n"
          ]
        },
        {
          "output_type": "stream",
          "name": "stdout",
          "text": [
            "\n",
            "      Epoch    GPU_mem   box_loss   cls_loss   dfl_loss  Instances       Size\n"
          ]
        },
        {
          "output_type": "stream",
          "name": "stderr",
          "text": [
            "     25/300      3.34G      1.944      1.569      1.098          0        800: 100%|██████████| 21/21 [00:08<00:00,  2.57it/s]\n",
            "                 Class     Images  Instances      Box(P          R      mAP50  mAP50-95): 100%|██████████| 1/1 [00:00<00:00,  2.38it/s]"
          ]
        },
        {
          "output_type": "stream",
          "name": "stdout",
          "text": [
            "                   all         30         35      0.665      0.429      0.454       0.26\n"
          ]
        },
        {
          "output_type": "stream",
          "name": "stderr",
          "text": [
            "\n"
          ]
        },
        {
          "output_type": "stream",
          "name": "stdout",
          "text": [
            "\n",
            "      Epoch    GPU_mem   box_loss   cls_loss   dfl_loss  Instances       Size\n"
          ]
        },
        {
          "output_type": "stream",
          "name": "stderr",
          "text": [
            "     26/300      3.49G      1.874       1.56      1.155         15        800: 100%|██████████| 21/21 [00:09<00:00,  2.33it/s]\n",
            "                 Class     Images  Instances      Box(P          R      mAP50  mAP50-95): 100%|██████████| 1/1 [00:00<00:00,  2.65it/s]"
          ]
        },
        {
          "output_type": "stream",
          "name": "stdout",
          "text": [
            "                   all         30         35       0.67      0.371      0.398      0.236\n"
          ]
        },
        {
          "output_type": "stream",
          "name": "stderr",
          "text": [
            "\n"
          ]
        },
        {
          "output_type": "stream",
          "name": "stdout",
          "text": [
            "\n",
            "      Epoch    GPU_mem   box_loss   cls_loss   dfl_loss  Instances       Size\n"
          ]
        },
        {
          "output_type": "stream",
          "name": "stderr",
          "text": [
            "     27/300       3.5G      1.836       1.48      1.074          0        800: 100%|██████████| 21/21 [00:08<00:00,  2.39it/s]\n",
            "                 Class     Images  Instances      Box(P          R      mAP50  mAP50-95): 100%|██████████| 1/1 [00:00<00:00,  3.59it/s]"
          ]
        },
        {
          "output_type": "stream",
          "name": "stdout",
          "text": [
            "                   all         30         35      0.538        0.2      0.332      0.231\n"
          ]
        },
        {
          "output_type": "stream",
          "name": "stderr",
          "text": [
            "\n"
          ]
        },
        {
          "output_type": "stream",
          "name": "stdout",
          "text": [
            "\n",
            "      Epoch    GPU_mem   box_loss   cls_loss   dfl_loss  Instances       Size\n"
          ]
        },
        {
          "output_type": "stream",
          "name": "stderr",
          "text": [
            "     28/300      3.49G      1.824      1.464      1.139          2        800: 100%|██████████| 21/21 [00:07<00:00,  2.81it/s]\n",
            "                 Class     Images  Instances      Box(P          R      mAP50  mAP50-95): 100%|██████████| 1/1 [00:00<00:00,  2.41it/s]"
          ]
        },
        {
          "output_type": "stream",
          "name": "stdout",
          "text": [
            "                   all         30         35      0.207      0.514      0.301      0.197\n"
          ]
        },
        {
          "output_type": "stream",
          "name": "stderr",
          "text": [
            "\n"
          ]
        },
        {
          "output_type": "stream",
          "name": "stdout",
          "text": [
            "\n",
            "      Epoch    GPU_mem   box_loss   cls_loss   dfl_loss  Instances       Size\n"
          ]
        },
        {
          "output_type": "stream",
          "name": "stderr",
          "text": [
            "     29/300      3.35G      1.933      1.751      1.079          2        800: 100%|██████████| 21/21 [00:08<00:00,  2.43it/s]\n",
            "                 Class     Images  Instances      Box(P          R      mAP50  mAP50-95): 100%|██████████| 1/1 [00:00<00:00,  2.07it/s]"
          ]
        },
        {
          "output_type": "stream",
          "name": "stdout",
          "text": [
            "                   all         30         35      0.526      0.714      0.646       0.38\n"
          ]
        },
        {
          "output_type": "stream",
          "name": "stderr",
          "text": [
            "\n"
          ]
        },
        {
          "output_type": "stream",
          "name": "stdout",
          "text": [
            "\n",
            "      Epoch    GPU_mem   box_loss   cls_loss   dfl_loss  Instances       Size\n"
          ]
        },
        {
          "output_type": "stream",
          "name": "stderr",
          "text": [
            "     30/300      3.41G      1.797      1.448      1.071          0        800: 100%|██████████| 21/21 [00:08<00:00,  2.35it/s]\n",
            "                 Class     Images  Instances      Box(P          R      mAP50  mAP50-95): 100%|██████████| 1/1 [00:00<00:00,  2.19it/s]"
          ]
        },
        {
          "output_type": "stream",
          "name": "stdout",
          "text": [
            "                   all         30         35      0.842      0.686      0.784      0.437\n"
          ]
        },
        {
          "output_type": "stream",
          "name": "stderr",
          "text": [
            "\n"
          ]
        },
        {
          "output_type": "stream",
          "name": "stdout",
          "text": [
            "\n",
            "      Epoch    GPU_mem   box_loss   cls_loss   dfl_loss  Instances       Size\n"
          ]
        },
        {
          "output_type": "stream",
          "name": "stderr",
          "text": [
            "     31/300      3.45G      1.817      1.381       1.13          9        800: 100%|██████████| 21/21 [00:08<00:00,  2.47it/s]\n",
            "                 Class     Images  Instances      Box(P          R      mAP50  mAP50-95): 100%|██████████| 1/1 [00:00<00:00,  2.13it/s]"
          ]
        },
        {
          "output_type": "stream",
          "name": "stdout",
          "text": [
            "                   all         30         35      0.509      0.343      0.344      0.202\n"
          ]
        },
        {
          "output_type": "stream",
          "name": "stderr",
          "text": [
            "\n"
          ]
        },
        {
          "output_type": "stream",
          "name": "stdout",
          "text": [
            "\n",
            "      Epoch    GPU_mem   box_loss   cls_loss   dfl_loss  Instances       Size\n"
          ]
        },
        {
          "output_type": "stream",
          "name": "stderr",
          "text": [
            "     32/300      3.54G       1.94      1.411      1.121          5        800: 100%|██████████| 21/21 [00:07<00:00,  2.71it/s]\n",
            "                 Class     Images  Instances      Box(P          R      mAP50  mAP50-95): 100%|██████████| 1/1 [00:00<00:00,  2.71it/s]"
          ]
        },
        {
          "output_type": "stream",
          "name": "stdout",
          "text": [
            "                   all         30         35      0.298      0.257      0.229      0.142\n"
          ]
        },
        {
          "output_type": "stream",
          "name": "stderr",
          "text": [
            "\n"
          ]
        },
        {
          "output_type": "stream",
          "name": "stdout",
          "text": [
            "\n",
            "      Epoch    GPU_mem   box_loss   cls_loss   dfl_loss  Instances       Size\n"
          ]
        },
        {
          "output_type": "stream",
          "name": "stderr",
          "text": [
            "     33/300      3.28G      1.881      1.381      1.155          6        800: 100%|██████████| 21/21 [00:08<00:00,  2.39it/s]\n",
            "                 Class     Images  Instances      Box(P          R      mAP50  mAP50-95): 100%|██████████| 1/1 [00:00<00:00,  2.78it/s]"
          ]
        },
        {
          "output_type": "stream",
          "name": "stdout",
          "text": [
            "                   all         30         35      0.674        0.4      0.476      0.286\n"
          ]
        },
        {
          "output_type": "stream",
          "name": "stderr",
          "text": [
            "\n"
          ]
        },
        {
          "output_type": "stream",
          "name": "stdout",
          "text": [
            "\n",
            "      Epoch    GPU_mem   box_loss   cls_loss   dfl_loss  Instances       Size\n"
          ]
        },
        {
          "output_type": "stream",
          "name": "stderr",
          "text": [
            "     34/300      3.44G      1.861      1.433      1.088         11        800: 100%|██████████| 21/21 [00:09<00:00,  2.27it/s]\n",
            "                 Class     Images  Instances      Box(P          R      mAP50  mAP50-95): 100%|██████████| 1/1 [00:00<00:00,  3.66it/s]"
          ]
        },
        {
          "output_type": "stream",
          "name": "stdout",
          "text": [
            "                   all         30         35      0.125        0.2      0.145     0.0926\n"
          ]
        },
        {
          "output_type": "stream",
          "name": "stderr",
          "text": [
            "\n"
          ]
        },
        {
          "output_type": "stream",
          "name": "stdout",
          "text": [
            "\n",
            "      Epoch    GPU_mem   box_loss   cls_loss   dfl_loss  Instances       Size\n"
          ]
        },
        {
          "output_type": "stream",
          "name": "stderr",
          "text": [
            "     35/300      3.42G      1.774       1.31      1.103         10        800: 100%|██████████| 21/21 [00:08<00:00,  2.50it/s]\n",
            "                 Class     Images  Instances      Box(P          R      mAP50  mAP50-95): 100%|██████████| 1/1 [00:00<00:00,  2.11it/s]"
          ]
        },
        {
          "output_type": "stream",
          "name": "stdout",
          "text": [
            "                   all         30         35      0.604      0.343      0.389       0.28\n"
          ]
        },
        {
          "output_type": "stream",
          "name": "stderr",
          "text": [
            "\n"
          ]
        },
        {
          "output_type": "stream",
          "name": "stdout",
          "text": [
            "\n",
            "      Epoch    GPU_mem   box_loss   cls_loss   dfl_loss  Instances       Size\n"
          ]
        },
        {
          "output_type": "stream",
          "name": "stderr",
          "text": [
            "     36/300      3.48G       1.83      1.335      1.071          4        800: 100%|██████████| 21/21 [00:07<00:00,  2.68it/s]\n",
            "                 Class     Images  Instances      Box(P          R      mAP50  mAP50-95): 100%|██████████| 1/1 [00:00<00:00,  3.48it/s]"
          ]
        },
        {
          "output_type": "stream",
          "name": "stdout",
          "text": [
            "                   all         30         35      0.458      0.387      0.411      0.232\n"
          ]
        },
        {
          "output_type": "stream",
          "name": "stderr",
          "text": [
            "\n"
          ]
        },
        {
          "output_type": "stream",
          "name": "stdout",
          "text": [
            "\n",
            "      Epoch    GPU_mem   box_loss   cls_loss   dfl_loss  Instances       Size\n"
          ]
        },
        {
          "output_type": "stream",
          "name": "stderr",
          "text": [
            "     37/300      3.28G      1.822      1.386      1.123         55        800: 100%|██████████| 21/21 [00:09<00:00,  2.33it/s]\n",
            "                 Class     Images  Instances      Box(P          R      mAP50  mAP50-95): 100%|██████████| 1/1 [00:00<00:00,  2.14it/s]"
          ]
        },
        {
          "output_type": "stream",
          "name": "stdout",
          "text": [
            "                   all         30         35      0.614      0.592      0.617      0.339\n"
          ]
        },
        {
          "output_type": "stream",
          "name": "stderr",
          "text": [
            "\n"
          ]
        },
        {
          "output_type": "stream",
          "name": "stdout",
          "text": [
            "\n",
            "      Epoch    GPU_mem   box_loss   cls_loss   dfl_loss  Instances       Size\n"
          ]
        },
        {
          "output_type": "stream",
          "name": "stderr",
          "text": [
            "     38/300      3.49G      1.761      1.272      1.064         18        800: 100%|██████████| 21/21 [00:08<00:00,  2.33it/s]\n",
            "                 Class     Images  Instances      Box(P          R      mAP50  mAP50-95): 100%|██████████| 1/1 [00:00<00:00,  3.27it/s]"
          ]
        },
        {
          "output_type": "stream",
          "name": "stdout",
          "text": [
            "                   all         30         35      0.735      0.429      0.536      0.344\n"
          ]
        },
        {
          "output_type": "stream",
          "name": "stderr",
          "text": [
            "\n"
          ]
        },
        {
          "output_type": "stream",
          "name": "stdout",
          "text": [
            "\n",
            "      Epoch    GPU_mem   box_loss   cls_loss   dfl_loss  Instances       Size\n"
          ]
        },
        {
          "output_type": "stream",
          "name": "stderr",
          "text": [
            "     39/300      3.46G      1.804      1.329      1.137          7        800: 100%|██████████| 21/21 [00:08<00:00,  2.61it/s]\n",
            "                 Class     Images  Instances      Box(P          R      mAP50  mAP50-95): 100%|██████████| 1/1 [00:00<00:00,  1.62it/s]"
          ]
        },
        {
          "output_type": "stream",
          "name": "stdout",
          "text": [
            "                   all         30         35      0.518      0.457      0.438      0.265\n"
          ]
        },
        {
          "output_type": "stream",
          "name": "stderr",
          "text": [
            "\n"
          ]
        },
        {
          "output_type": "stream",
          "name": "stdout",
          "text": [
            "\n",
            "      Epoch    GPU_mem   box_loss   cls_loss   dfl_loss  Instances       Size\n"
          ]
        },
        {
          "output_type": "stream",
          "name": "stderr",
          "text": [
            "     40/300      3.46G      1.776      1.329      1.078          6        800: 100%|██████████| 21/21 [00:07<00:00,  2.66it/s]\n",
            "                 Class     Images  Instances      Box(P          R      mAP50  mAP50-95): 100%|██████████| 1/1 [00:00<00:00,  2.26it/s]"
          ]
        },
        {
          "output_type": "stream",
          "name": "stdout",
          "text": [
            "                   all         30         35      0.571      0.684      0.627      0.387\n"
          ]
        },
        {
          "output_type": "stream",
          "name": "stderr",
          "text": [
            "\n"
          ]
        },
        {
          "output_type": "stream",
          "name": "stdout",
          "text": [
            "\n",
            "      Epoch    GPU_mem   box_loss   cls_loss   dfl_loss  Instances       Size\n"
          ]
        },
        {
          "output_type": "stream",
          "name": "stderr",
          "text": [
            "     41/300      3.32G      1.781      1.356      1.143          8        800: 100%|██████████| 21/21 [00:09<00:00,  2.29it/s]\n",
            "                 Class     Images  Instances      Box(P          R      mAP50  mAP50-95): 100%|██████████| 1/1 [00:00<00:00,  3.21it/s]"
          ]
        },
        {
          "output_type": "stream",
          "name": "stdout",
          "text": [
            "                   all         30         35       0.85      0.647      0.781      0.439\n"
          ]
        },
        {
          "output_type": "stream",
          "name": "stderr",
          "text": [
            "\n"
          ]
        },
        {
          "output_type": "stream",
          "name": "stdout",
          "text": [
            "\n",
            "      Epoch    GPU_mem   box_loss   cls_loss   dfl_loss  Instances       Size\n"
          ]
        },
        {
          "output_type": "stream",
          "name": "stderr",
          "text": [
            "     42/300      3.42G      1.859      1.424      1.099          4        800: 100%|██████████| 21/21 [00:09<00:00,  2.30it/s]\n",
            "                 Class     Images  Instances      Box(P          R      mAP50  mAP50-95): 100%|██████████| 1/1 [00:00<00:00,  2.73it/s]"
          ]
        },
        {
          "output_type": "stream",
          "name": "stdout",
          "text": [
            "                   all         30         35      0.793      0.655      0.715      0.454\n"
          ]
        },
        {
          "output_type": "stream",
          "name": "stderr",
          "text": [
            "\n"
          ]
        },
        {
          "output_type": "stream",
          "name": "stdout",
          "text": [
            "\n",
            "      Epoch    GPU_mem   box_loss   cls_loss   dfl_loss  Instances       Size\n"
          ]
        },
        {
          "output_type": "stream",
          "name": "stderr",
          "text": [
            "     43/300       3.5G      1.767      1.279       1.08          6        800: 100%|██████████| 21/21 [00:08<00:00,  2.48it/s]\n",
            "                 Class     Images  Instances      Box(P          R      mAP50  mAP50-95): 100%|██████████| 1/1 [00:00<00:00,  1.98it/s]"
          ]
        },
        {
          "output_type": "stream",
          "name": "stdout",
          "text": [
            "                   all         30         35      0.792      0.371      0.525      0.337\n"
          ]
        },
        {
          "output_type": "stream",
          "name": "stderr",
          "text": [
            "\n"
          ]
        },
        {
          "output_type": "stream",
          "name": "stdout",
          "text": [
            "\n",
            "      Epoch    GPU_mem   box_loss   cls_loss   dfl_loss  Instances       Size\n"
          ]
        },
        {
          "output_type": "stream",
          "name": "stderr",
          "text": [
            "     44/300      3.49G      1.743      1.289      1.044          9        800: 100%|██████████| 21/21 [00:07<00:00,  2.75it/s]\n",
            "                 Class     Images  Instances      Box(P          R      mAP50  mAP50-95): 100%|██████████| 1/1 [00:00<00:00,  3.07it/s]"
          ]
        },
        {
          "output_type": "stream",
          "name": "stdout",
          "text": [
            "                   all         30         35      0.748      0.486      0.527      0.314\n"
          ]
        },
        {
          "output_type": "stream",
          "name": "stderr",
          "text": [
            "\n"
          ]
        },
        {
          "output_type": "stream",
          "name": "stdout",
          "text": [
            "\n",
            "      Epoch    GPU_mem   box_loss   cls_loss   dfl_loss  Instances       Size\n"
          ]
        },
        {
          "output_type": "stream",
          "name": "stderr",
          "text": [
            "     45/300       3.3G      1.744      1.341       1.12         12        800: 100%|██████████| 21/21 [00:09<00:00,  2.30it/s]\n",
            "                 Class     Images  Instances      Box(P          R      mAP50  mAP50-95): 100%|██████████| 1/1 [00:00<00:00,  2.27it/s]"
          ]
        },
        {
          "output_type": "stream",
          "name": "stdout",
          "text": [
            "                   all         30         35      0.552        0.6      0.589      0.359\n"
          ]
        },
        {
          "output_type": "stream",
          "name": "stderr",
          "text": [
            "\n"
          ]
        },
        {
          "output_type": "stream",
          "name": "stdout",
          "text": [
            "\n",
            "      Epoch    GPU_mem   box_loss   cls_loss   dfl_loss  Instances       Size\n"
          ]
        },
        {
          "output_type": "stream",
          "name": "stderr",
          "text": [
            "     46/300      3.49G       1.74      1.265      1.055         44        800: 100%|██████████| 21/21 [00:09<00:00,  2.28it/s]\n",
            "                 Class     Images  Instances      Box(P          R      mAP50  mAP50-95): 100%|██████████| 1/1 [00:00<00:00,  2.49it/s]"
          ]
        },
        {
          "output_type": "stream",
          "name": "stdout",
          "text": [
            "                   all         30         35      0.472      0.743      0.567      0.329\n"
          ]
        },
        {
          "output_type": "stream",
          "name": "stderr",
          "text": [
            "\n"
          ]
        },
        {
          "output_type": "stream",
          "name": "stdout",
          "text": [
            "\n",
            "      Epoch    GPU_mem   box_loss   cls_loss   dfl_loss  Instances       Size\n"
          ]
        },
        {
          "output_type": "stream",
          "name": "stderr",
          "text": [
            "     47/300      3.45G      1.841       1.29      1.124          7        800: 100%|██████████| 21/21 [00:07<00:00,  2.68it/s]\n",
            "                 Class     Images  Instances      Box(P          R      mAP50  mAP50-95): 100%|██████████| 1/1 [00:00<00:00,  1.78it/s]"
          ]
        },
        {
          "output_type": "stream",
          "name": "stdout",
          "text": [
            "                   all         30         35      0.856      0.686      0.774      0.445\n"
          ]
        },
        {
          "output_type": "stream",
          "name": "stderr",
          "text": [
            "\n"
          ]
        },
        {
          "output_type": "stream",
          "name": "stdout",
          "text": [
            "\n",
            "      Epoch    GPU_mem   box_loss   cls_loss   dfl_loss  Instances       Size\n"
          ]
        },
        {
          "output_type": "stream",
          "name": "stderr",
          "text": [
            "     48/300       3.5G      1.684      1.254      1.064          7        800: 100%|██████████| 21/21 [00:07<00:00,  2.65it/s]\n",
            "                 Class     Images  Instances      Box(P          R      mAP50  mAP50-95): 100%|██████████| 1/1 [00:00<00:00,  2.72it/s]"
          ]
        },
        {
          "output_type": "stream",
          "name": "stdout",
          "text": [
            "                   all         30         35      0.621      0.686       0.71      0.423\n"
          ]
        },
        {
          "output_type": "stream",
          "name": "stderr",
          "text": [
            "\n"
          ]
        },
        {
          "output_type": "stream",
          "name": "stdout",
          "text": [
            "\n",
            "      Epoch    GPU_mem   box_loss   cls_loss   dfl_loss  Instances       Size\n"
          ]
        },
        {
          "output_type": "stream",
          "name": "stderr",
          "text": [
            "     49/300      3.32G      1.828      1.362      1.046          2        800: 100%|██████████| 21/21 [00:09<00:00,  2.23it/s]\n",
            "                 Class     Images  Instances      Box(P          R      mAP50  mAP50-95): 100%|██████████| 1/1 [00:00<00:00,  2.35it/s]"
          ]
        },
        {
          "output_type": "stream",
          "name": "stdout",
          "text": [
            "                   all         30         35      0.459      0.571      0.519      0.334\n"
          ]
        },
        {
          "output_type": "stream",
          "name": "stderr",
          "text": [
            "\n"
          ]
        },
        {
          "output_type": "stream",
          "name": "stdout",
          "text": [
            "\n",
            "      Epoch    GPU_mem   box_loss   cls_loss   dfl_loss  Instances       Size\n"
          ]
        },
        {
          "output_type": "stream",
          "name": "stderr",
          "text": [
            "     50/300      3.57G      1.781      1.445      1.091         10        800: 100%|██████████| 21/21 [00:09<00:00,  2.22it/s]\n",
            "                 Class     Images  Instances      Box(P          R      mAP50  mAP50-95): 100%|██████████| 1/1 [00:00<00:00,  2.94it/s]"
          ]
        },
        {
          "output_type": "stream",
          "name": "stdout",
          "text": [
            "                   all         30         35       0.93        0.4       0.55      0.371\n"
          ]
        },
        {
          "output_type": "stream",
          "name": "stderr",
          "text": [
            "\n"
          ]
        },
        {
          "output_type": "stream",
          "name": "stdout",
          "text": [
            "\n",
            "      Epoch    GPU_mem   box_loss   cls_loss   dfl_loss  Instances       Size\n"
          ]
        },
        {
          "output_type": "stream",
          "name": "stderr",
          "text": [
            "     51/300      3.45G      1.777      1.352      1.064          3        800: 100%|██████████| 21/21 [00:08<00:00,  2.58it/s]\n",
            "                 Class     Images  Instances      Box(P          R      mAP50  mAP50-95): 100%|██████████| 1/1 [00:00<00:00,  2.16it/s]"
          ]
        },
        {
          "output_type": "stream",
          "name": "stdout",
          "text": [
            "                   all         30         35      0.647      0.686       0.72       0.44\n"
          ]
        },
        {
          "output_type": "stream",
          "name": "stderr",
          "text": [
            "\n"
          ]
        },
        {
          "output_type": "stream",
          "name": "stdout",
          "text": [
            "\n",
            "      Epoch    GPU_mem   box_loss   cls_loss   dfl_loss  Instances       Size\n"
          ]
        },
        {
          "output_type": "stream",
          "name": "stderr",
          "text": [
            "     52/300       3.5G      1.637       1.25      1.043          2        800: 100%|██████████| 21/21 [00:07<00:00,  2.74it/s]\n",
            "                 Class     Images  Instances      Box(P          R      mAP50  mAP50-95): 100%|██████████| 1/1 [00:00<00:00,  2.63it/s]"
          ]
        },
        {
          "output_type": "stream",
          "name": "stdout",
          "text": [
            "                   all         30         35      0.631      0.657      0.663      0.405\n"
          ]
        },
        {
          "output_type": "stream",
          "name": "stderr",
          "text": [
            "\n"
          ]
        },
        {
          "output_type": "stream",
          "name": "stdout",
          "text": [
            "\n",
            "      Epoch    GPU_mem   box_loss   cls_loss   dfl_loss  Instances       Size\n"
          ]
        },
        {
          "output_type": "stream",
          "name": "stderr",
          "text": [
            "     53/300      3.32G      1.635       1.16      1.032          3        800: 100%|██████████| 21/21 [00:08<00:00,  2.35it/s]\n",
            "                 Class     Images  Instances      Box(P          R      mAP50  mAP50-95): 100%|██████████| 1/1 [00:00<00:00,  2.60it/s]"
          ]
        },
        {
          "output_type": "stream",
          "name": "stdout",
          "text": [
            "                   all         30         35      0.697      0.629      0.699      0.469\n"
          ]
        },
        {
          "output_type": "stream",
          "name": "stderr",
          "text": [
            "\n"
          ]
        },
        {
          "output_type": "stream",
          "name": "stdout",
          "text": [
            "\n",
            "      Epoch    GPU_mem   box_loss   cls_loss   dfl_loss  Instances       Size\n"
          ]
        },
        {
          "output_type": "stream",
          "name": "stderr",
          "text": [
            "     54/300      3.68G      1.717      1.337      1.049          9        800: 100%|██████████| 21/21 [00:09<00:00,  2.32it/s]\n",
            "                 Class     Images  Instances      Box(P          R      mAP50  mAP50-95): 100%|██████████| 1/1 [00:00<00:00,  2.90it/s]"
          ]
        },
        {
          "output_type": "stream",
          "name": "stdout",
          "text": [
            "                   all         30         35      0.696      0.514      0.563      0.345\n"
          ]
        },
        {
          "output_type": "stream",
          "name": "stderr",
          "text": [
            "\n"
          ]
        },
        {
          "output_type": "stream",
          "name": "stdout",
          "text": [
            "\n",
            "      Epoch    GPU_mem   box_loss   cls_loss   dfl_loss  Instances       Size\n"
          ]
        },
        {
          "output_type": "stream",
          "name": "stderr",
          "text": [
            "     55/300      3.49G      1.609      1.197     0.9882          0        800: 100%|██████████| 21/21 [00:07<00:00,  2.76it/s]\n",
            "                 Class     Images  Instances      Box(P          R      mAP50  mAP50-95): 100%|██████████| 1/1 [00:00<00:00,  1.95it/s]"
          ]
        },
        {
          "output_type": "stream",
          "name": "stdout",
          "text": [
            "                   all         30         35       0.66      0.629      0.678      0.425\n"
          ]
        },
        {
          "output_type": "stream",
          "name": "stderr",
          "text": [
            "\n"
          ]
        },
        {
          "output_type": "stream",
          "name": "stdout",
          "text": [
            "\n",
            "      Epoch    GPU_mem   box_loss   cls_loss   dfl_loss  Instances       Size\n"
          ]
        },
        {
          "output_type": "stream",
          "name": "stderr",
          "text": [
            "     56/300      3.49G      1.893      1.305      1.015          3        800: 100%|██████████| 21/21 [00:07<00:00,  2.68it/s]\n",
            "                 Class     Images  Instances      Box(P          R      mAP50  mAP50-95): 100%|██████████| 1/1 [00:00<00:00,  2.46it/s]"
          ]
        },
        {
          "output_type": "stream",
          "name": "stdout",
          "text": [
            "                   all         30         35      0.825      0.629      0.716       0.47\n"
          ]
        },
        {
          "output_type": "stream",
          "name": "stderr",
          "text": [
            "\n"
          ]
        },
        {
          "output_type": "stream",
          "name": "stdout",
          "text": [
            "\n",
            "      Epoch    GPU_mem   box_loss   cls_loss   dfl_loss  Instances       Size\n"
          ]
        },
        {
          "output_type": "stream",
          "name": "stderr",
          "text": [
            "     57/300      3.28G      1.869      1.278      1.118          1        800: 100%|██████████| 21/21 [00:09<00:00,  2.24it/s]\n",
            "                 Class     Images  Instances      Box(P          R      mAP50  mAP50-95): 100%|██████████| 1/1 [00:00<00:00,  2.41it/s]"
          ]
        },
        {
          "output_type": "stream",
          "name": "stdout",
          "text": [
            "                   all         30         35      0.878      0.629      0.712      0.454\n"
          ]
        },
        {
          "output_type": "stream",
          "name": "stderr",
          "text": [
            "\n"
          ]
        },
        {
          "output_type": "stream",
          "name": "stdout",
          "text": [
            "\n",
            "      Epoch    GPU_mem   box_loss   cls_loss   dfl_loss  Instances       Size\n"
          ]
        },
        {
          "output_type": "stream",
          "name": "stderr",
          "text": [
            "     58/300      3.52G      1.713      1.294       1.04          2        800: 100%|██████████| 21/21 [00:09<00:00,  2.26it/s]\n",
            "                 Class     Images  Instances      Box(P          R      mAP50  mAP50-95): 100%|██████████| 1/1 [00:00<00:00,  2.45it/s]"
          ]
        },
        {
          "output_type": "stream",
          "name": "stdout",
          "text": [
            "                   all         30         35      0.787        0.6      0.708      0.469\n"
          ]
        },
        {
          "output_type": "stream",
          "name": "stderr",
          "text": [
            "\n"
          ]
        },
        {
          "output_type": "stream",
          "name": "stdout",
          "text": [
            "\n",
            "      Epoch    GPU_mem   box_loss   cls_loss   dfl_loss  Instances       Size\n"
          ]
        },
        {
          "output_type": "stream",
          "name": "stderr",
          "text": [
            "     59/300      3.41G      1.759      1.321      1.018          1        800: 100%|██████████| 21/21 [00:07<00:00,  2.64it/s]\n",
            "                 Class     Images  Instances      Box(P          R      mAP50  mAP50-95): 100%|██████████| 1/1 [00:00<00:00,  1.81it/s]"
          ]
        },
        {
          "output_type": "stream",
          "name": "stdout",
          "text": [
            "                   all         30         35      0.758      0.543      0.624      0.391\n"
          ]
        },
        {
          "output_type": "stream",
          "name": "stderr",
          "text": [
            "\n"
          ]
        },
        {
          "output_type": "stream",
          "name": "stdout",
          "text": [
            "\n",
            "      Epoch    GPU_mem   box_loss   cls_loss   dfl_loss  Instances       Size\n"
          ]
        },
        {
          "output_type": "stream",
          "name": "stderr",
          "text": [
            "     60/300      3.53G      1.614      1.098      1.034          2        800: 100%|██████████| 21/21 [00:07<00:00,  2.68it/s]\n",
            "                 Class     Images  Instances      Box(P          R      mAP50  mAP50-95): 100%|██████████| 1/1 [00:00<00:00,  2.60it/s]"
          ]
        },
        {
          "output_type": "stream",
          "name": "stdout",
          "text": [
            "                   all         30         35      0.898      0.486      0.652      0.413\n"
          ]
        },
        {
          "output_type": "stream",
          "name": "stderr",
          "text": [
            "\n"
          ]
        },
        {
          "output_type": "stream",
          "name": "stdout",
          "text": [
            "\n",
            "      Epoch    GPU_mem   box_loss   cls_loss   dfl_loss  Instances       Size\n"
          ]
        },
        {
          "output_type": "stream",
          "name": "stderr",
          "text": [
            "     61/300      3.35G      1.605      1.129      1.036         11        800: 100%|██████████| 21/21 [00:08<00:00,  2.34it/s]\n",
            "                 Class     Images  Instances      Box(P          R      mAP50  mAP50-95): 100%|██████████| 1/1 [00:00<00:00,  2.30it/s]"
          ]
        },
        {
          "output_type": "stream",
          "name": "stdout",
          "text": [
            "                   all         30         35      0.893      0.571      0.722      0.421\n"
          ]
        },
        {
          "output_type": "stream",
          "name": "stderr",
          "text": [
            "\n"
          ]
        },
        {
          "output_type": "stream",
          "name": "stdout",
          "text": [
            "\n",
            "      Epoch    GPU_mem   box_loss   cls_loss   dfl_loss  Instances       Size\n"
          ]
        },
        {
          "output_type": "stream",
          "name": "stderr",
          "text": [
            "     62/300      3.32G        1.8      1.252      1.088          5        800: 100%|██████████| 21/21 [00:08<00:00,  2.34it/s]\n",
            "                 Class     Images  Instances      Box(P          R      mAP50  mAP50-95): 100%|██████████| 1/1 [00:00<00:00,  2.39it/s]"
          ]
        },
        {
          "output_type": "stream",
          "name": "stdout",
          "text": [
            "                   all         30         35      0.397      0.429      0.356      0.175\n"
          ]
        },
        {
          "output_type": "stream",
          "name": "stderr",
          "text": [
            "\n"
          ]
        },
        {
          "output_type": "stream",
          "name": "stdout",
          "text": [
            "\n",
            "      Epoch    GPU_mem   box_loss   cls_loss   dfl_loss  Instances       Size\n"
          ]
        },
        {
          "output_type": "stream",
          "name": "stderr",
          "text": [
            "     63/300      3.62G      1.613      1.118      1.034         15        800: 100%|██████████| 21/21 [00:08<00:00,  2.47it/s]\n",
            "                 Class     Images  Instances      Box(P          R      mAP50  mAP50-95): 100%|██████████| 1/1 [00:00<00:00,  2.61it/s]"
          ]
        },
        {
          "output_type": "stream",
          "name": "stdout",
          "text": [
            "                   all         30         35      0.856       0.51      0.625      0.385\n"
          ]
        },
        {
          "output_type": "stream",
          "name": "stderr",
          "text": [
            "\n"
          ]
        },
        {
          "output_type": "stream",
          "name": "stdout",
          "text": [
            "\n",
            "      Epoch    GPU_mem   box_loss   cls_loss   dfl_loss  Instances       Size\n"
          ]
        },
        {
          "output_type": "stream",
          "name": "stderr",
          "text": [
            "     64/300      3.42G      1.671      1.196      1.026          4        800: 100%|██████████| 21/21 [00:07<00:00,  2.78it/s]\n",
            "                 Class     Images  Instances      Box(P          R      mAP50  mAP50-95): 100%|██████████| 1/1 [00:00<00:00,  2.72it/s]"
          ]
        },
        {
          "output_type": "stream",
          "name": "stdout",
          "text": [
            "                   all         30         35      0.907      0.657      0.723       0.49\n"
          ]
        },
        {
          "output_type": "stream",
          "name": "stderr",
          "text": [
            "\n"
          ]
        },
        {
          "output_type": "stream",
          "name": "stdout",
          "text": [
            "\n",
            "      Epoch    GPU_mem   box_loss   cls_loss   dfl_loss  Instances       Size\n"
          ]
        },
        {
          "output_type": "stream",
          "name": "stderr",
          "text": [
            "     65/300      3.32G       1.72      1.241       1.03          6        800: 100%|██████████| 21/21 [00:09<00:00,  2.28it/s]\n",
            "                 Class     Images  Instances      Box(P          R      mAP50  mAP50-95): 100%|██████████| 1/1 [00:00<00:00,  2.86it/s]"
          ]
        },
        {
          "output_type": "stream",
          "name": "stdout",
          "text": [
            "                   all         30         35      0.909      0.486      0.589      0.434\n"
          ]
        },
        {
          "output_type": "stream",
          "name": "stderr",
          "text": [
            "\n"
          ]
        },
        {
          "output_type": "stream",
          "name": "stdout",
          "text": [
            "\n",
            "      Epoch    GPU_mem   box_loss   cls_loss   dfl_loss  Instances       Size\n"
          ]
        },
        {
          "output_type": "stream",
          "name": "stderr",
          "text": [
            "     66/300      3.49G      1.508      1.119     0.9688          0        800: 100%|██████████| 21/21 [00:09<00:00,  2.31it/s]\n",
            "                 Class     Images  Instances      Box(P          R      mAP50  mAP50-95): 100%|██████████| 1/1 [00:00<00:00,  3.12it/s]"
          ]
        },
        {
          "output_type": "stream",
          "name": "stdout",
          "text": [
            "                   all         30         35      0.829      0.486      0.574      0.373\n"
          ]
        },
        {
          "output_type": "stream",
          "name": "stderr",
          "text": [
            "\n"
          ]
        },
        {
          "output_type": "stream",
          "name": "stdout",
          "text": [
            "\n",
            "      Epoch    GPU_mem   box_loss   cls_loss   dfl_loss  Instances       Size\n"
          ]
        },
        {
          "output_type": "stream",
          "name": "stderr",
          "text": [
            "     67/300      3.42G       1.58      1.116      1.032          5        800: 100%|██████████| 21/21 [00:07<00:00,  2.72it/s]\n",
            "                 Class     Images  Instances      Box(P          R      mAP50  mAP50-95): 100%|██████████| 1/1 [00:00<00:00,  2.19it/s]"
          ]
        },
        {
          "output_type": "stream",
          "name": "stdout",
          "text": [
            "                   all         30         35       0.95      0.657      0.809       0.55\n"
          ]
        },
        {
          "output_type": "stream",
          "name": "stderr",
          "text": [
            "\n"
          ]
        },
        {
          "output_type": "stream",
          "name": "stdout",
          "text": [
            "\n",
            "      Epoch    GPU_mem   box_loss   cls_loss   dfl_loss  Instances       Size\n"
          ]
        },
        {
          "output_type": "stream",
          "name": "stderr",
          "text": [
            "     68/300       3.5G      1.685      1.205      1.026          2        800: 100%|██████████| 21/21 [00:07<00:00,  2.79it/s]\n",
            "                 Class     Images  Instances      Box(P          R      mAP50  mAP50-95): 100%|██████████| 1/1 [00:00<00:00,  2.45it/s]"
          ]
        },
        {
          "output_type": "stream",
          "name": "stdout",
          "text": [
            "                   all         30         35      0.604      0.436      0.473      0.287\n"
          ]
        },
        {
          "output_type": "stream",
          "name": "stderr",
          "text": [
            "\n"
          ]
        },
        {
          "output_type": "stream",
          "name": "stdout",
          "text": [
            "\n",
            "      Epoch    GPU_mem   box_loss   cls_loss   dfl_loss  Instances       Size\n"
          ]
        },
        {
          "output_type": "stream",
          "name": "stderr",
          "text": [
            "     69/300      3.31G      1.643       1.17      1.076          1        800: 100%|██████████| 21/21 [00:09<00:00,  2.24it/s]\n",
            "                 Class     Images  Instances      Box(P          R      mAP50  mAP50-95): 100%|██████████| 1/1 [00:00<00:00,  2.48it/s]"
          ]
        },
        {
          "output_type": "stream",
          "name": "stdout",
          "text": [
            "                   all         30         35          1      0.341       0.54      0.349\n"
          ]
        },
        {
          "output_type": "stream",
          "name": "stderr",
          "text": [
            "\n"
          ]
        },
        {
          "output_type": "stream",
          "name": "stdout",
          "text": [
            "\n",
            "      Epoch    GPU_mem   box_loss   cls_loss   dfl_loss  Instances       Size\n"
          ]
        },
        {
          "output_type": "stream",
          "name": "stderr",
          "text": [
            "     70/300       3.6G      1.645      1.171      1.006          1        800: 100%|██████████| 21/21 [00:08<00:00,  2.35it/s]\n",
            "                 Class     Images  Instances      Box(P          R      mAP50  mAP50-95): 100%|██████████| 1/1 [00:00<00:00,  3.46it/s]"
          ]
        },
        {
          "output_type": "stream",
          "name": "stdout",
          "text": [
            "                   all         30         35      0.535      0.314      0.295      0.175\n"
          ]
        },
        {
          "output_type": "stream",
          "name": "stderr",
          "text": [
            "\n"
          ]
        },
        {
          "output_type": "stream",
          "name": "stdout",
          "text": [
            "\n",
            "      Epoch    GPU_mem   box_loss   cls_loss   dfl_loss  Instances       Size\n"
          ]
        },
        {
          "output_type": "stream",
          "name": "stderr",
          "text": [
            "     71/300      3.44G      1.631      1.132      1.027          9        800: 100%|██████████| 21/21 [00:07<00:00,  2.73it/s]\n",
            "                 Class     Images  Instances      Box(P          R      mAP50  mAP50-95): 100%|██████████| 1/1 [00:00<00:00,  1.98it/s]"
          ]
        },
        {
          "output_type": "stream",
          "name": "stdout",
          "text": [
            "                   all         30         35      0.396      0.371      0.366      0.263\n"
          ]
        },
        {
          "output_type": "stream",
          "name": "stderr",
          "text": [
            "\n"
          ]
        },
        {
          "output_type": "stream",
          "name": "stdout",
          "text": [
            "\n",
            "      Epoch    GPU_mem   box_loss   cls_loss   dfl_loss  Instances       Size\n"
          ]
        },
        {
          "output_type": "stream",
          "name": "stderr",
          "text": [
            "     72/300      3.41G      1.696      1.156      1.042         12        800: 100%|██████████| 21/21 [00:07<00:00,  2.66it/s]\n",
            "                 Class     Images  Instances      Box(P          R      mAP50  mAP50-95): 100%|██████████| 1/1 [00:00<00:00,  2.24it/s]"
          ]
        },
        {
          "output_type": "stream",
          "name": "stdout",
          "text": [
            "                   all         30         35      0.699      0.657        0.7      0.461\n"
          ]
        },
        {
          "output_type": "stream",
          "name": "stderr",
          "text": [
            "\n"
          ]
        },
        {
          "output_type": "stream",
          "name": "stdout",
          "text": [
            "\n",
            "      Epoch    GPU_mem   box_loss   cls_loss   dfl_loss  Instances       Size\n"
          ]
        },
        {
          "output_type": "stream",
          "name": "stderr",
          "text": [
            "     73/300      3.31G      1.693      1.163       1.04          6        800: 100%|██████████| 21/21 [00:09<00:00,  2.33it/s]\n",
            "                 Class     Images  Instances      Box(P          R      mAP50  mAP50-95): 100%|██████████| 1/1 [00:00<00:00,  2.35it/s]"
          ]
        },
        {
          "output_type": "stream",
          "name": "stdout",
          "text": [
            "                   all         30         35      0.731        0.4      0.432        0.3\n"
          ]
        },
        {
          "output_type": "stream",
          "name": "stderr",
          "text": [
            "\n"
          ]
        },
        {
          "output_type": "stream",
          "name": "stdout",
          "text": [
            "\n",
            "      Epoch    GPU_mem   box_loss   cls_loss   dfl_loss  Instances       Size\n"
          ]
        },
        {
          "output_type": "stream",
          "name": "stderr",
          "text": [
            "     74/300      3.44G      1.584      1.138     0.9521          1        800: 100%|██████████| 21/21 [00:09<00:00,  2.29it/s]\n",
            "                 Class     Images  Instances      Box(P          R      mAP50  mAP50-95): 100%|██████████| 1/1 [00:00<00:00,  3.89it/s]"
          ]
        },
        {
          "output_type": "stream",
          "name": "stdout",
          "text": [
            "                   all         30         35       0.77      0.429      0.517      0.341\n"
          ]
        },
        {
          "output_type": "stream",
          "name": "stderr",
          "text": [
            "\n"
          ]
        },
        {
          "output_type": "stream",
          "name": "stdout",
          "text": [
            "\n",
            "      Epoch    GPU_mem   box_loss   cls_loss   dfl_loss  Instances       Size\n"
          ]
        },
        {
          "output_type": "stream",
          "name": "stderr",
          "text": [
            "     75/300      3.45G      1.585      1.087       1.01          4        800: 100%|██████████| 21/21 [00:07<00:00,  2.81it/s]\n",
            "                 Class     Images  Instances      Box(P          R      mAP50  mAP50-95): 100%|██████████| 1/1 [00:00<00:00,  1.75it/s]"
          ]
        },
        {
          "output_type": "stream",
          "name": "stdout",
          "text": [
            "                   all         30         35      0.857      0.685      0.748       0.46\n"
          ]
        },
        {
          "output_type": "stream",
          "name": "stderr",
          "text": [
            "\n"
          ]
        },
        {
          "output_type": "stream",
          "name": "stdout",
          "text": [
            "\n",
            "      Epoch    GPU_mem   box_loss   cls_loss   dfl_loss  Instances       Size\n"
          ]
        },
        {
          "output_type": "stream",
          "name": "stderr",
          "text": [
            "     76/300      3.46G      1.586      1.079      1.071          8        800: 100%|██████████| 21/21 [00:07<00:00,  2.72it/s]\n",
            "                 Class     Images  Instances      Box(P          R      mAP50  mAP50-95): 100%|██████████| 1/1 [00:00<00:00,  2.52it/s]"
          ]
        },
        {
          "output_type": "stream",
          "name": "stdout",
          "text": [
            "                   all         30         35      0.439      0.457      0.412      0.229\n"
          ]
        },
        {
          "output_type": "stream",
          "name": "stderr",
          "text": [
            "\n"
          ]
        },
        {
          "output_type": "stream",
          "name": "stdout",
          "text": [
            "\n",
            "      Epoch    GPU_mem   box_loss   cls_loss   dfl_loss  Instances       Size\n"
          ]
        },
        {
          "output_type": "stream",
          "name": "stderr",
          "text": [
            "     77/300      3.32G      1.538      1.099      1.013         18        800: 100%|██████████| 21/21 [00:09<00:00,  2.30it/s]\n",
            "                 Class     Images  Instances      Box(P          R      mAP50  mAP50-95): 100%|██████████| 1/1 [00:00<00:00,  2.82it/s]"
          ]
        },
        {
          "output_type": "stream",
          "name": "stdout",
          "text": [
            "                   all         30         35      0.378      0.286      0.291      0.173\n"
          ]
        },
        {
          "output_type": "stream",
          "name": "stderr",
          "text": [
            "\n"
          ]
        },
        {
          "output_type": "stream",
          "name": "stdout",
          "text": [
            "\n",
            "      Epoch    GPU_mem   box_loss   cls_loss   dfl_loss  Instances       Size\n"
          ]
        },
        {
          "output_type": "stream",
          "name": "stderr",
          "text": [
            "     78/300      3.44G      1.611      1.073      1.025         25        800: 100%|██████████| 21/21 [00:09<00:00,  2.32it/s]\n",
            "                 Class     Images  Instances      Box(P          R      mAP50  mAP50-95): 100%|██████████| 1/1 [00:00<00:00,  3.41it/s]"
          ]
        },
        {
          "output_type": "stream",
          "name": "stdout",
          "text": [
            "                   all         30         35      0.764      0.571      0.635      0.454\n"
          ]
        },
        {
          "output_type": "stream",
          "name": "stderr",
          "text": [
            "\n"
          ]
        },
        {
          "output_type": "stream",
          "name": "stdout",
          "text": [
            "\n",
            "      Epoch    GPU_mem   box_loss   cls_loss   dfl_loss  Instances       Size\n"
          ]
        },
        {
          "output_type": "stream",
          "name": "stderr",
          "text": [
            "     79/300      3.46G      1.734      1.178       1.05          5        800: 100%|██████████| 21/21 [00:07<00:00,  2.78it/s]\n",
            "                 Class     Images  Instances      Box(P          R      mAP50  mAP50-95): 100%|██████████| 1/1 [00:00<00:00,  1.75it/s]"
          ]
        },
        {
          "output_type": "stream",
          "name": "stdout",
          "text": [
            "                   all         30         35      0.891        0.6      0.738      0.486\n"
          ]
        },
        {
          "output_type": "stream",
          "name": "stderr",
          "text": [
            "\n"
          ]
        },
        {
          "output_type": "stream",
          "name": "stdout",
          "text": [
            "\n",
            "      Epoch    GPU_mem   box_loss   cls_loss   dfl_loss  Instances       Size\n"
          ]
        },
        {
          "output_type": "stream",
          "name": "stderr",
          "text": [
            "     80/300      3.41G      1.591      1.118      1.019          0        800: 100%|██████████| 21/21 [00:07<00:00,  2.69it/s]\n",
            "                 Class     Images  Instances      Box(P          R      mAP50  mAP50-95): 100%|██████████| 1/1 [00:00<00:00,  2.59it/s]"
          ]
        },
        {
          "output_type": "stream",
          "name": "stdout",
          "text": [
            "                   all         30         35      0.752      0.629      0.658      0.359\n"
          ]
        },
        {
          "output_type": "stream",
          "name": "stderr",
          "text": [
            "\n"
          ]
        },
        {
          "output_type": "stream",
          "name": "stdout",
          "text": [
            "\n",
            "      Epoch    GPU_mem   box_loss   cls_loss   dfl_loss  Instances       Size\n"
          ]
        },
        {
          "output_type": "stream",
          "name": "stderr",
          "text": [
            "     81/300      3.34G      1.618      1.078      1.034         15        800: 100%|██████████| 21/21 [00:09<00:00,  2.28it/s]\n",
            "                 Class     Images  Instances      Box(P          R      mAP50  mAP50-95): 100%|██████████| 1/1 [00:00<00:00,  2.24it/s]"
          ]
        },
        {
          "output_type": "stream",
          "name": "stdout",
          "text": [
            "                   all         30         35      0.745      0.571       0.64      0.372\n"
          ]
        },
        {
          "output_type": "stream",
          "name": "stderr",
          "text": [
            "\n"
          ]
        },
        {
          "output_type": "stream",
          "name": "stdout",
          "text": [
            "\n",
            "      Epoch    GPU_mem   box_loss   cls_loss   dfl_loss  Instances       Size\n"
          ]
        },
        {
          "output_type": "stream",
          "name": "stderr",
          "text": [
            "     82/300       3.4G       1.53      1.025      1.019          2        800: 100%|██████████| 21/21 [00:09<00:00,  2.33it/s]\n",
            "                 Class     Images  Instances      Box(P          R      mAP50  mAP50-95): 100%|██████████| 1/1 [00:00<00:00,  3.05it/s]"
          ]
        },
        {
          "output_type": "stream",
          "name": "stdout",
          "text": [
            "                   all         30         35        0.6      0.571      0.608      0.341\n"
          ]
        },
        {
          "output_type": "stream",
          "name": "stderr",
          "text": [
            "\n"
          ]
        },
        {
          "output_type": "stream",
          "name": "stdout",
          "text": [
            "\n",
            "      Epoch    GPU_mem   box_loss   cls_loss   dfl_loss  Instances       Size\n"
          ]
        },
        {
          "output_type": "stream",
          "name": "stderr",
          "text": [
            "     83/300      3.48G      1.601      1.088      1.005         13        800: 100%|██████████| 21/21 [00:07<00:00,  2.76it/s]\n",
            "                 Class     Images  Instances      Box(P          R      mAP50  mAP50-95): 100%|██████████| 1/1 [00:00<00:00,  2.39it/s]"
          ]
        },
        {
          "output_type": "stream",
          "name": "stdout",
          "text": [
            "                   all         30         35      0.761      0.544      0.654      0.422\n"
          ]
        },
        {
          "output_type": "stream",
          "name": "stderr",
          "text": [
            "\n"
          ]
        },
        {
          "output_type": "stream",
          "name": "stdout",
          "text": [
            "\n",
            "      Epoch    GPU_mem   box_loss   cls_loss   dfl_loss  Instances       Size\n"
          ]
        },
        {
          "output_type": "stream",
          "name": "stderr",
          "text": [
            "     84/300      3.53G      1.672      1.139     0.9934         13        800: 100%|██████████| 21/21 [00:08<00:00,  2.37it/s]\n",
            "                 Class     Images  Instances      Box(P          R      mAP50  mAP50-95): 100%|██████████| 1/1 [00:00<00:00,  2.68it/s]"
          ]
        },
        {
          "output_type": "stream",
          "name": "stdout",
          "text": [
            "                   all         30         35      0.941      0.543      0.648       0.46\n"
          ]
        },
        {
          "output_type": "stream",
          "name": "stderr",
          "text": [
            "\n"
          ]
        },
        {
          "output_type": "stream",
          "name": "stdout",
          "text": [
            "\n",
            "      Epoch    GPU_mem   box_loss   cls_loss   dfl_loss  Instances       Size\n"
          ]
        },
        {
          "output_type": "stream",
          "name": "stderr",
          "text": [
            "     85/300      3.31G       1.53      1.045       1.01          8        800: 100%|██████████| 21/21 [00:09<00:00,  2.32it/s]\n",
            "                 Class     Images  Instances      Box(P          R      mAP50  mAP50-95): 100%|██████████| 1/1 [00:00<00:00,  1.97it/s]"
          ]
        },
        {
          "output_type": "stream",
          "name": "stdout",
          "text": [
            "                   all         30         35          1      0.571      0.669      0.446\n"
          ]
        },
        {
          "output_type": "stream",
          "name": "stderr",
          "text": [
            "\n"
          ]
        },
        {
          "output_type": "stream",
          "name": "stdout",
          "text": [
            "\n",
            "      Epoch    GPU_mem   box_loss   cls_loss   dfl_loss  Instances       Size\n"
          ]
        },
        {
          "output_type": "stream",
          "name": "stderr",
          "text": [
            "     86/300      3.29G      1.579      1.034      1.024          2        800: 100%|██████████| 21/21 [00:09<00:00,  2.32it/s]\n",
            "                 Class     Images  Instances      Box(P          R      mAP50  mAP50-95): 100%|██████████| 1/1 [00:00<00:00,  2.29it/s]"
          ]
        },
        {
          "output_type": "stream",
          "name": "stdout",
          "text": [
            "                   all         30         35          1      0.457      0.633      0.423\n"
          ]
        },
        {
          "output_type": "stream",
          "name": "stderr",
          "text": [
            "\n"
          ]
        },
        {
          "output_type": "stream",
          "name": "stdout",
          "text": [
            "\n",
            "      Epoch    GPU_mem   box_loss   cls_loss   dfl_loss  Instances       Size\n"
          ]
        },
        {
          "output_type": "stream",
          "name": "stderr",
          "text": [
            "     87/300      3.51G       1.55       1.03      1.013         20        800: 100%|██████████| 21/21 [00:08<00:00,  2.58it/s]\n",
            "                 Class     Images  Instances      Box(P          R      mAP50  mAP50-95): 100%|██████████| 1/1 [00:00<00:00,  2.87it/s]"
          ]
        },
        {
          "output_type": "stream",
          "name": "stdout",
          "text": [
            "                   all         30         35       0.71      0.698      0.722      0.351\n"
          ]
        },
        {
          "output_type": "stream",
          "name": "stderr",
          "text": [
            "\n"
          ]
        },
        {
          "output_type": "stream",
          "name": "stdout",
          "text": [
            "\n",
            "      Epoch    GPU_mem   box_loss   cls_loss   dfl_loss  Instances       Size\n"
          ]
        },
        {
          "output_type": "stream",
          "name": "stderr",
          "text": [
            "     88/300       3.5G      1.486     0.9738     0.9766         18        800: 100%|██████████| 21/21 [00:07<00:00,  2.76it/s]\n",
            "                 Class     Images  Instances      Box(P          R      mAP50  mAP50-95): 100%|██████████| 1/1 [00:00<00:00,  2.57it/s]"
          ]
        },
        {
          "output_type": "stream",
          "name": "stdout",
          "text": [
            "                   all         30         35      0.557      0.257      0.345       0.24\n"
          ]
        },
        {
          "output_type": "stream",
          "name": "stderr",
          "text": [
            "\n"
          ]
        },
        {
          "output_type": "stream",
          "name": "stdout",
          "text": [
            "\n",
            "      Epoch    GPU_mem   box_loss   cls_loss   dfl_loss  Instances       Size\n"
          ]
        },
        {
          "output_type": "stream",
          "name": "stderr",
          "text": [
            "     89/300      3.36G      1.608      1.087      1.019          5        800: 100%|██████████| 21/21 [00:09<00:00,  2.31it/s]\n",
            "                 Class     Images  Instances      Box(P          R      mAP50  mAP50-95): 100%|██████████| 1/1 [00:00<00:00,  2.46it/s]"
          ]
        },
        {
          "output_type": "stream",
          "name": "stdout",
          "text": [
            "                   all         30         35      0.749      0.286      0.377      0.267\n"
          ]
        },
        {
          "output_type": "stream",
          "name": "stderr",
          "text": [
            "\n"
          ]
        },
        {
          "output_type": "stream",
          "name": "stdout",
          "text": [
            "\n",
            "      Epoch    GPU_mem   box_loss   cls_loss   dfl_loss  Instances       Size\n"
          ]
        },
        {
          "output_type": "stream",
          "name": "stderr",
          "text": [
            "     90/300       3.5G      1.457     0.9479     0.9737          3        800: 100%|██████████| 21/21 [00:08<00:00,  2.35it/s]\n",
            "                 Class     Images  Instances      Box(P          R      mAP50  mAP50-95): 100%|██████████| 1/1 [00:00<00:00,  2.79it/s]"
          ]
        },
        {
          "output_type": "stream",
          "name": "stdout",
          "text": [
            "                   all         30         35       0.75        0.4      0.506      0.359\n"
          ]
        },
        {
          "output_type": "stream",
          "name": "stderr",
          "text": [
            "\n"
          ]
        },
        {
          "output_type": "stream",
          "name": "stdout",
          "text": [
            "\n",
            "      Epoch    GPU_mem   box_loss   cls_loss   dfl_loss  Instances       Size\n"
          ]
        },
        {
          "output_type": "stream",
          "name": "stderr",
          "text": [
            "     91/300      3.63G      1.483      1.016      1.047          2        800: 100%|██████████| 21/21 [00:07<00:00,  2.76it/s]\n",
            "                 Class     Images  Instances      Box(P          R      mAP50  mAP50-95): 100%|██████████| 1/1 [00:00<00:00,  2.60it/s]"
          ]
        },
        {
          "output_type": "stream",
          "name": "stdout",
          "text": [
            "                   all         30         35      0.768      0.571      0.616      0.446\n"
          ]
        },
        {
          "output_type": "stream",
          "name": "stderr",
          "text": [
            "\n"
          ]
        },
        {
          "output_type": "stream",
          "name": "stdout",
          "text": [
            "\n",
            "      Epoch    GPU_mem   box_loss   cls_loss   dfl_loss  Instances       Size\n"
          ]
        },
        {
          "output_type": "stream",
          "name": "stderr",
          "text": [
            "     92/300      3.44G      1.515      1.012      1.001          3        800: 100%|██████████| 21/21 [00:08<00:00,  2.60it/s]\n",
            "                 Class     Images  Instances      Box(P          R      mAP50  mAP50-95): 100%|██████████| 1/1 [00:00<00:00,  2.60it/s]"
          ]
        },
        {
          "output_type": "stream",
          "name": "stdout",
          "text": [
            "                   all         30         35      0.683      0.676      0.697      0.443\n"
          ]
        },
        {
          "output_type": "stream",
          "name": "stderr",
          "text": [
            "\n"
          ]
        },
        {
          "output_type": "stream",
          "name": "stdout",
          "text": [
            "\n",
            "      Epoch    GPU_mem   box_loss   cls_loss   dfl_loss  Instances       Size\n"
          ]
        },
        {
          "output_type": "stream",
          "name": "stderr",
          "text": [
            "     93/300       3.4G      1.529      1.046     0.9751         16        800: 100%|██████████| 21/21 [00:09<00:00,  2.29it/s]\n",
            "                 Class     Images  Instances      Box(P          R      mAP50  mAP50-95): 100%|██████████| 1/1 [00:00<00:00,  2.72it/s]"
          ]
        },
        {
          "output_type": "stream",
          "name": "stdout",
          "text": [
            "                   all         30         35      0.726      0.629      0.653      0.417\n"
          ]
        },
        {
          "output_type": "stream",
          "name": "stderr",
          "text": [
            "\n"
          ]
        },
        {
          "output_type": "stream",
          "name": "stdout",
          "text": [
            "\n",
            "      Epoch    GPU_mem   box_loss   cls_loss   dfl_loss  Instances       Size\n"
          ]
        },
        {
          "output_type": "stream",
          "name": "stderr",
          "text": [
            "     94/300      3.55G      1.471      1.001      0.931          0        800: 100%|██████████| 21/21 [00:08<00:00,  2.47it/s]\n",
            "                 Class     Images  Instances      Box(P          R      mAP50  mAP50-95): 100%|██████████| 1/1 [00:00<00:00,  1.96it/s]"
          ]
        },
        {
          "output_type": "stream",
          "name": "stdout",
          "text": [
            "                   all         30         35      0.711      0.571      0.606      0.366\n"
          ]
        },
        {
          "output_type": "stream",
          "name": "stderr",
          "text": [
            "\n"
          ]
        },
        {
          "output_type": "stream",
          "name": "stdout",
          "text": [
            "\n",
            "      Epoch    GPU_mem   box_loss   cls_loss   dfl_loss  Instances       Size\n"
          ]
        },
        {
          "output_type": "stream",
          "name": "stderr",
          "text": [
            "     95/300      3.52G      1.461     0.9775     0.9457          0        800: 100%|██████████| 21/21 [00:07<00:00,  2.71it/s]\n",
            "                 Class     Images  Instances      Box(P          R      mAP50  mAP50-95): 100%|██████████| 1/1 [00:00<00:00,  2.91it/s]"
          ]
        },
        {
          "output_type": "stream",
          "name": "stdout",
          "text": [
            "                   all         30         35      0.787      0.423      0.557      0.364\n"
          ]
        },
        {
          "output_type": "stream",
          "name": "stderr",
          "text": [
            "\n"
          ]
        },
        {
          "output_type": "stream",
          "name": "stdout",
          "text": [
            "\n",
            "      Epoch    GPU_mem   box_loss   cls_loss   dfl_loss  Instances       Size\n"
          ]
        },
        {
          "output_type": "stream",
          "name": "stderr",
          "text": [
            "     96/300      3.54G      1.624      1.025      1.027          8        800: 100%|██████████| 21/21 [00:08<00:00,  2.49it/s]\n",
            "                 Class     Images  Instances      Box(P          R      mAP50  mAP50-95): 100%|██████████| 1/1 [00:00<00:00,  2.64it/s]"
          ]
        },
        {
          "output_type": "stream",
          "name": "stdout",
          "text": [
            "                   all         30         35      0.657        0.6      0.606      0.392\n"
          ]
        },
        {
          "output_type": "stream",
          "name": "stderr",
          "text": [
            "\n"
          ]
        },
        {
          "output_type": "stream",
          "name": "stdout",
          "text": [
            "\n",
            "      Epoch    GPU_mem   box_loss   cls_loss   dfl_loss  Instances       Size\n"
          ]
        },
        {
          "output_type": "stream",
          "name": "stderr",
          "text": [
            "     97/300      3.35G      1.537      1.131      1.002          5        800: 100%|██████████| 21/21 [00:09<00:00,  2.28it/s]\n",
            "                 Class     Images  Instances      Box(P          R      mAP50  mAP50-95): 100%|██████████| 1/1 [00:00<00:00,  2.58it/s]"
          ]
        },
        {
          "output_type": "stream",
          "name": "stdout",
          "text": [
            "                   all         30         35      0.886        0.6      0.684      0.451\n"
          ]
        },
        {
          "output_type": "stream",
          "name": "stderr",
          "text": [
            "\n"
          ]
        },
        {
          "output_type": "stream",
          "name": "stdout",
          "text": [
            "\n",
            "      Epoch    GPU_mem   box_loss   cls_loss   dfl_loss  Instances       Size\n"
          ]
        },
        {
          "output_type": "stream",
          "name": "stderr",
          "text": [
            "     98/300      3.31G      1.689      1.107      1.065          2        800: 100%|██████████| 21/21 [00:08<00:00,  2.39it/s]\n",
            "                 Class     Images  Instances      Box(P          R      mAP50  mAP50-95): 100%|██████████| 1/1 [00:00<00:00,  2.02it/s]"
          ]
        },
        {
          "output_type": "stream",
          "name": "stdout",
          "text": [
            "                   all         30         35      0.519      0.457      0.512      0.314\n"
          ]
        },
        {
          "output_type": "stream",
          "name": "stderr",
          "text": [
            "\n"
          ]
        },
        {
          "output_type": "stream",
          "name": "stdout",
          "text": [
            "\n",
            "      Epoch    GPU_mem   box_loss   cls_loss   dfl_loss  Instances       Size\n"
          ]
        },
        {
          "output_type": "stream",
          "name": "stderr",
          "text": [
            "     99/300      3.46G      1.472     0.9461     0.9387          0        800: 100%|██████████| 21/21 [00:07<00:00,  2.77it/s]\n",
            "                 Class     Images  Instances      Box(P          R      mAP50  mAP50-95): 100%|██████████| 1/1 [00:00<00:00,  2.83it/s]"
          ]
        },
        {
          "output_type": "stream",
          "name": "stdout",
          "text": [
            "                   all         30         35      0.727      0.314      0.406      0.236\n"
          ]
        },
        {
          "output_type": "stream",
          "name": "stderr",
          "text": [
            "\n"
          ]
        },
        {
          "output_type": "stream",
          "name": "stdout",
          "text": [
            "\n",
            "      Epoch    GPU_mem   box_loss   cls_loss   dfl_loss  Instances       Size\n"
          ]
        },
        {
          "output_type": "stream",
          "name": "stderr",
          "text": [
            "    100/300      3.25G      1.492     0.9699     0.9949          2        800: 100%|██████████| 21/21 [00:08<00:00,  2.39it/s]\n",
            "                 Class     Images  Instances      Box(P          R      mAP50  mAP50-95): 100%|██████████| 1/1 [00:00<00:00,  2.21it/s]"
          ]
        },
        {
          "output_type": "stream",
          "name": "stdout",
          "text": [
            "                   all         30         35      0.642       0.41      0.514      0.339\n"
          ]
        },
        {
          "output_type": "stream",
          "name": "stderr",
          "text": [
            "\n"
          ]
        },
        {
          "output_type": "stream",
          "name": "stdout",
          "text": [
            "\n",
            "      Epoch    GPU_mem   box_loss   cls_loss   dfl_loss  Instances       Size\n"
          ]
        },
        {
          "output_type": "stream",
          "name": "stderr",
          "text": [
            "    101/300      3.28G      1.549     0.9739     0.9648          8        800: 100%|██████████| 21/21 [00:09<00:00,  2.31it/s]\n",
            "                 Class     Images  Instances      Box(P          R      mAP50  mAP50-95): 100%|██████████| 1/1 [00:00<00:00,  3.03it/s]"
          ]
        },
        {
          "output_type": "stream",
          "name": "stdout",
          "text": [
            "                   all         30         35      0.732      0.779      0.801      0.529\n"
          ]
        },
        {
          "output_type": "stream",
          "name": "stderr",
          "text": [
            "\n"
          ]
        },
        {
          "output_type": "stream",
          "name": "stdout",
          "text": [
            "\n",
            "      Epoch    GPU_mem   box_loss   cls_loss   dfl_loss  Instances       Size\n"
          ]
        },
        {
          "output_type": "stream",
          "name": "stderr",
          "text": [
            "    102/300      3.36G      1.468     0.9873     0.9985          9        800: 100%|██████████| 21/21 [00:08<00:00,  2.46it/s]\n",
            "                 Class     Images  Instances      Box(P          R      mAP50  mAP50-95): 100%|██████████| 1/1 [00:00<00:00,  2.17it/s]"
          ]
        },
        {
          "output_type": "stream",
          "name": "stdout",
          "text": [
            "                   all         30         35      0.671      0.571      0.599      0.349\n"
          ]
        },
        {
          "output_type": "stream",
          "name": "stderr",
          "text": [
            "\n"
          ]
        },
        {
          "output_type": "stream",
          "name": "stdout",
          "text": [
            "\n",
            "      Epoch    GPU_mem   box_loss   cls_loss   dfl_loss  Instances       Size\n"
          ]
        },
        {
          "output_type": "stream",
          "name": "stderr",
          "text": [
            "    103/300      3.45G      1.519     0.9587      1.015          7        800: 100%|██████████| 21/21 [00:07<00:00,  2.80it/s]\n",
            "                 Class     Images  Instances      Box(P          R      mAP50  mAP50-95): 100%|██████████| 1/1 [00:00<00:00,  2.63it/s]"
          ]
        },
        {
          "output_type": "stream",
          "name": "stdout",
          "text": [
            "                   all         30         35       0.59      0.571      0.575       0.36\n"
          ]
        },
        {
          "output_type": "stream",
          "name": "stderr",
          "text": [
            "\n"
          ]
        },
        {
          "output_type": "stream",
          "name": "stdout",
          "text": [
            "\n",
            "      Epoch    GPU_mem   box_loss   cls_loss   dfl_loss  Instances       Size\n"
          ]
        },
        {
          "output_type": "stream",
          "name": "stderr",
          "text": [
            "    104/300      3.37G       1.48     0.9145     0.9884         12        800: 100%|██████████| 21/21 [00:08<00:00,  2.37it/s]\n",
            "                 Class     Images  Instances      Box(P          R      mAP50  mAP50-95): 100%|██████████| 1/1 [00:00<00:00,  2.57it/s]"
          ]
        },
        {
          "output_type": "stream",
          "name": "stdout",
          "text": [
            "                   all         30         35      0.668      0.543      0.618      0.395\n"
          ]
        },
        {
          "output_type": "stream",
          "name": "stderr",
          "text": [
            "\n"
          ]
        },
        {
          "output_type": "stream",
          "name": "stdout",
          "text": [
            "\n",
            "      Epoch    GPU_mem   box_loss   cls_loss   dfl_loss  Instances       Size\n"
          ]
        },
        {
          "output_type": "stream",
          "name": "stderr",
          "text": [
            "    105/300      3.35G       1.44     0.9382      0.926          0        800: 100%|██████████| 21/21 [00:08<00:00,  2.36it/s]\n",
            "                 Class     Images  Instances      Box(P          R      mAP50  mAP50-95): 100%|██████████| 1/1 [00:00<00:00,  3.12it/s]"
          ]
        },
        {
          "output_type": "stream",
          "name": "stdout",
          "text": [
            "                   all         30         35      0.492      0.657      0.615      0.379\n"
          ]
        },
        {
          "output_type": "stream",
          "name": "stderr",
          "text": [
            "\n"
          ]
        },
        {
          "output_type": "stream",
          "name": "stdout",
          "text": [
            "\n",
            "      Epoch    GPU_mem   box_loss   cls_loss   dfl_loss  Instances       Size\n"
          ]
        },
        {
          "output_type": "stream",
          "name": "stderr",
          "text": [
            "    106/300      3.38G       1.46     0.9183      1.019         10        800: 100%|██████████| 21/21 [00:08<00:00,  2.49it/s]\n",
            "                 Class     Images  Instances      Box(P          R      mAP50  mAP50-95): 100%|██████████| 1/1 [00:00<00:00,  2.39it/s]"
          ]
        },
        {
          "output_type": "stream",
          "name": "stdout",
          "text": [
            "                   all         30         35      0.892      0.629      0.699      0.498\n"
          ]
        },
        {
          "output_type": "stream",
          "name": "stderr",
          "text": [
            "\n"
          ]
        },
        {
          "output_type": "stream",
          "name": "stdout",
          "text": [
            "\n",
            "      Epoch    GPU_mem   box_loss   cls_loss   dfl_loss  Instances       Size\n"
          ]
        },
        {
          "output_type": "stream",
          "name": "stderr",
          "text": [
            "    107/300      3.38G      1.496     0.9778      1.015          3        800: 100%|██████████| 21/21 [00:07<00:00,  2.80it/s]\n",
            "                 Class     Images  Instances      Box(P          R      mAP50  mAP50-95): 100%|██████████| 1/1 [00:00<00:00,  2.74it/s]"
          ]
        },
        {
          "output_type": "stream",
          "name": "stdout",
          "text": [
            "                   all         30         35      0.873      0.591      0.692       0.45\n"
          ]
        },
        {
          "output_type": "stream",
          "name": "stderr",
          "text": [
            "\n"
          ]
        },
        {
          "output_type": "stream",
          "name": "stdout",
          "text": [
            "\n",
            "      Epoch    GPU_mem   box_loss   cls_loss   dfl_loss  Instances       Size\n"
          ]
        },
        {
          "output_type": "stream",
          "name": "stderr",
          "text": [
            "    108/300      3.34G      1.465     0.9771     0.9762         13        800: 100%|██████████| 21/21 [00:09<00:00,  2.32it/s]\n",
            "                 Class     Images  Instances      Box(P          R      mAP50  mAP50-95): 100%|██████████| 1/1 [00:00<00:00,  2.61it/s]"
          ]
        },
        {
          "output_type": "stream",
          "name": "stdout",
          "text": [
            "                   all         30         35      0.745      0.657      0.658      0.426\n"
          ]
        },
        {
          "output_type": "stream",
          "name": "stderr",
          "text": [
            "\n"
          ]
        },
        {
          "output_type": "stream",
          "name": "stdout",
          "text": [
            "\n",
            "      Epoch    GPU_mem   box_loss   cls_loss   dfl_loss  Instances       Size\n"
          ]
        },
        {
          "output_type": "stream",
          "name": "stderr",
          "text": [
            "    109/300      3.47G      1.401     0.8877     0.9153          0        800: 100%|██████████| 21/21 [00:09<00:00,  2.27it/s]\n",
            "                 Class     Images  Instances      Box(P          R      mAP50  mAP50-95): 100%|██████████| 1/1 [00:00<00:00,  2.62it/s]"
          ]
        },
        {
          "output_type": "stream",
          "name": "stdout",
          "text": [
            "                   all         30         35      0.459      0.486      0.462      0.288\n"
          ]
        },
        {
          "output_type": "stream",
          "name": "stderr",
          "text": [
            "\n"
          ]
        },
        {
          "output_type": "stream",
          "name": "stdout",
          "text": [
            "\n",
            "      Epoch    GPU_mem   box_loss   cls_loss   dfl_loss  Instances       Size\n"
          ]
        },
        {
          "output_type": "stream",
          "name": "stderr",
          "text": [
            "    110/300      3.37G      1.574     0.9673     0.9566          1        800: 100%|██████████| 21/21 [00:07<00:00,  2.77it/s]\n",
            "                 Class     Images  Instances      Box(P          R      mAP50  mAP50-95): 100%|██████████| 1/1 [00:00<00:00,  2.30it/s]"
          ]
        },
        {
          "output_type": "stream",
          "name": "stdout",
          "text": [
            "                   all         30         35      0.574      0.629       0.66      0.405\n"
          ]
        },
        {
          "output_type": "stream",
          "name": "stderr",
          "text": [
            "\n"
          ]
        },
        {
          "output_type": "stream",
          "name": "stdout",
          "text": [
            "\n",
            "      Epoch    GPU_mem   box_loss   cls_loss   dfl_loss  Instances       Size\n"
          ]
        },
        {
          "output_type": "stream",
          "name": "stderr",
          "text": [
            "    111/300       3.3G      1.512     0.9738     0.9978          5        800: 100%|██████████| 21/21 [00:07<00:00,  2.74it/s]\n",
            "                 Class     Images  Instances      Box(P          R      mAP50  mAP50-95): 100%|██████████| 1/1 [00:00<00:00,  2.30it/s]"
          ]
        },
        {
          "output_type": "stream",
          "name": "stdout",
          "text": [
            "                   all         30         35      0.502      0.571      0.532      0.301\n"
          ]
        },
        {
          "output_type": "stream",
          "name": "stderr",
          "text": [
            "\n"
          ]
        },
        {
          "output_type": "stream",
          "name": "stdout",
          "text": [
            "\n",
            "      Epoch    GPU_mem   box_loss   cls_loss   dfl_loss  Instances       Size\n"
          ]
        },
        {
          "output_type": "stream",
          "name": "stderr",
          "text": [
            "    112/300      3.29G      1.546     0.9752     0.9997         29        800: 100%|██████████| 21/21 [00:09<00:00,  2.31it/s]\n",
            "                 Class     Images  Instances      Box(P          R      mAP50  mAP50-95): 100%|██████████| 1/1 [00:00<00:00,  3.82it/s]"
          ]
        },
        {
          "output_type": "stream",
          "name": "stdout",
          "text": [
            "                   all         30         35      0.687        0.6       0.64      0.391\n"
          ]
        },
        {
          "output_type": "stream",
          "name": "stderr",
          "text": [
            "\n"
          ]
        },
        {
          "output_type": "stream",
          "name": "stdout",
          "text": [
            "\n",
            "      Epoch    GPU_mem   box_loss   cls_loss   dfl_loss  Instances       Size\n"
          ]
        },
        {
          "output_type": "stream",
          "name": "stderr",
          "text": [
            "    113/300      3.46G      1.614      1.018     0.9738          2        800: 100%|██████████| 21/21 [00:09<00:00,  2.32it/s]\n",
            "                 Class     Images  Instances      Box(P          R      mAP50  mAP50-95): 100%|██████████| 1/1 [00:00<00:00,  3.49it/s]"
          ]
        },
        {
          "output_type": "stream",
          "name": "stdout",
          "text": [
            "                   all         30         35      0.667        0.6       0.61      0.397\n"
          ]
        },
        {
          "output_type": "stream",
          "name": "stderr",
          "text": [
            "\n"
          ]
        },
        {
          "output_type": "stream",
          "name": "stdout",
          "text": [
            "\n",
            "      Epoch    GPU_mem   box_loss   cls_loss   dfl_loss  Instances       Size\n"
          ]
        },
        {
          "output_type": "stream",
          "name": "stderr",
          "text": [
            "    114/300      3.47G      1.505      0.922     0.9856         23        800: 100%|██████████| 21/21 [00:07<00:00,  2.71it/s]\n",
            "                 Class     Images  Instances      Box(P          R      mAP50  mAP50-95): 100%|██████████| 1/1 [00:00<00:00,  2.20it/s]"
          ]
        },
        {
          "output_type": "stream",
          "name": "stdout",
          "text": [
            "                   all         30         35      0.643      0.514      0.557       0.33\n"
          ]
        },
        {
          "output_type": "stream",
          "name": "stderr",
          "text": [
            "\n"
          ]
        },
        {
          "output_type": "stream",
          "name": "stdout",
          "text": [
            "\n",
            "      Epoch    GPU_mem   box_loss   cls_loss   dfl_loss  Instances       Size\n"
          ]
        },
        {
          "output_type": "stream",
          "name": "stderr",
          "text": [
            "    115/300       3.3G      1.487     0.9217     0.9702          5        800: 100%|██████████| 21/21 [00:07<00:00,  2.74it/s]\n",
            "                 Class     Images  Instances      Box(P          R      mAP50  mAP50-95): 100%|██████████| 1/1 [00:00<00:00,  2.43it/s]"
          ]
        },
        {
          "output_type": "stream",
          "name": "stdout",
          "text": [
            "                   all         30         35      0.921        0.6      0.752      0.474\n"
          ]
        },
        {
          "output_type": "stream",
          "name": "stderr",
          "text": [
            "\n"
          ]
        },
        {
          "output_type": "stream",
          "name": "stdout",
          "text": [
            "\n",
            "      Epoch    GPU_mem   box_loss   cls_loss   dfl_loss  Instances       Size\n"
          ]
        },
        {
          "output_type": "stream",
          "name": "stderr",
          "text": [
            "    116/300      3.29G      1.543     0.9347     0.9639          4        800: 100%|██████████| 21/21 [00:09<00:00,  2.30it/s]\n",
            "                 Class     Images  Instances      Box(P          R      mAP50  mAP50-95): 100%|██████████| 1/1 [00:00<00:00,  2.70it/s]"
          ]
        },
        {
          "output_type": "stream",
          "name": "stdout",
          "text": [
            "                   all         30         35       0.82      0.657      0.779      0.512\n"
          ]
        },
        {
          "output_type": "stream",
          "name": "stderr",
          "text": [
            "\n"
          ]
        },
        {
          "output_type": "stream",
          "name": "stdout",
          "text": [
            "\n",
            "      Epoch    GPU_mem   box_loss   cls_loss   dfl_loss  Instances       Size\n"
          ]
        },
        {
          "output_type": "stream",
          "name": "stderr",
          "text": [
            "    117/300      3.28G      1.496     0.8703     0.9607          3        800: 100%|██████████| 21/21 [00:09<00:00,  2.28it/s]\n",
            "                 Class     Images  Instances      Box(P          R      mAP50  mAP50-95): 100%|██████████| 1/1 [00:00<00:00,  3.30it/s]"
          ]
        },
        {
          "output_type": "stream",
          "name": "stdout",
          "text": [
            "                   all         30         35      0.724      0.629      0.682      0.463\n"
          ]
        },
        {
          "output_type": "stream",
          "name": "stderr",
          "text": [
            "\n"
          ]
        },
        {
          "output_type": "stream",
          "name": "stdout",
          "text": [
            "\n",
            "      Epoch    GPU_mem   box_loss   cls_loss   dfl_loss  Instances       Size\n"
          ]
        },
        {
          "output_type": "stream",
          "name": "stderr",
          "text": [
            "    118/300      3.33G      1.465     0.9106     0.9712         13        800: 100%|██████████| 21/21 [00:07<00:00,  2.79it/s]\n",
            "                 Class     Images  Instances      Box(P          R      mAP50  mAP50-95): 100%|██████████| 1/1 [00:00<00:00,  1.71it/s]"
          ]
        },
        {
          "output_type": "stream",
          "name": "stdout",
          "text": [
            "                   all         30         35      0.748      0.592      0.674      0.459\n"
          ]
        },
        {
          "output_type": "stream",
          "name": "stderr",
          "text": [
            "\n"
          ]
        },
        {
          "output_type": "stream",
          "name": "stdout",
          "text": [
            "\n",
            "      Epoch    GPU_mem   box_loss   cls_loss   dfl_loss  Instances       Size\n"
          ]
        },
        {
          "output_type": "stream",
          "name": "stderr",
          "text": [
            "    119/300      3.32G      1.346     0.8287     0.9484          5        800: 100%|██████████| 21/21 [00:08<00:00,  2.59it/s]\n",
            "                 Class     Images  Instances      Box(P          R      mAP50  mAP50-95): 100%|██████████| 1/1 [00:00<00:00,  2.78it/s]"
          ]
        },
        {
          "output_type": "stream",
          "name": "stdout",
          "text": [
            "                   all         30         35      0.839      0.714      0.821      0.548\n"
          ]
        },
        {
          "output_type": "stream",
          "name": "stderr",
          "text": [
            "\n"
          ]
        },
        {
          "output_type": "stream",
          "name": "stdout",
          "text": [
            "\n",
            "      Epoch    GPU_mem   box_loss   cls_loss   dfl_loss  Instances       Size\n"
          ]
        },
        {
          "output_type": "stream",
          "name": "stderr",
          "text": [
            "    120/300       3.3G      1.418     0.8662     0.9536          3        800: 100%|██████████| 21/21 [00:09<00:00,  2.29it/s]\n",
            "                 Class     Images  Instances      Box(P          R      mAP50  mAP50-95): 100%|██████████| 1/1 [00:00<00:00,  2.31it/s]"
          ]
        },
        {
          "output_type": "stream",
          "name": "stdout",
          "text": [
            "                   all         30         35      0.853      0.661      0.795      0.491\n"
          ]
        },
        {
          "output_type": "stream",
          "name": "stderr",
          "text": [
            "\n"
          ]
        },
        {
          "output_type": "stream",
          "name": "stdout",
          "text": [
            "\n",
            "      Epoch    GPU_mem   box_loss   cls_loss   dfl_loss  Instances       Size\n"
          ]
        },
        {
          "output_type": "stream",
          "name": "stderr",
          "text": [
            "    121/300      3.28G      1.449     0.8853     0.9734          3        800: 100%|██████████| 21/21 [00:09<00:00,  2.33it/s]\n",
            "                 Class     Images  Instances      Box(P          R      mAP50  mAP50-95): 100%|██████████| 1/1 [00:00<00:00,  2.25it/s]"
          ]
        },
        {
          "output_type": "stream",
          "name": "stdout",
          "text": [
            "                   all         30         35      0.592      0.714       0.67      0.432\n"
          ]
        },
        {
          "output_type": "stream",
          "name": "stderr",
          "text": [
            "\n"
          ]
        },
        {
          "output_type": "stream",
          "name": "stdout",
          "text": [
            "\n",
            "      Epoch    GPU_mem   box_loss   cls_loss   dfl_loss  Instances       Size\n"
          ]
        },
        {
          "output_type": "stream",
          "name": "stderr",
          "text": [
            "    122/300      3.38G      1.421     0.9208     0.9877          8        800: 100%|██████████| 21/21 [00:07<00:00,  2.75it/s]\n",
            "                 Class     Images  Instances      Box(P          R      mAP50  mAP50-95): 100%|██████████| 1/1 [00:00<00:00,  3.08it/s]"
          ]
        },
        {
          "output_type": "stream",
          "name": "stdout",
          "text": [
            "                   all         30         35      0.832      0.514      0.641      0.459\n"
          ]
        },
        {
          "output_type": "stream",
          "name": "stderr",
          "text": [
            "\n"
          ]
        },
        {
          "output_type": "stream",
          "name": "stdout",
          "text": [
            "\n",
            "      Epoch    GPU_mem   box_loss   cls_loss   dfl_loss  Instances       Size\n"
          ]
        },
        {
          "output_type": "stream",
          "name": "stderr",
          "text": [
            "    123/300      3.36G      1.469     0.9425     0.9846         16        800: 100%|██████████| 21/21 [00:08<00:00,  2.60it/s]\n",
            "                 Class     Images  Instances      Box(P          R      mAP50  mAP50-95): 100%|██████████| 1/1 [00:00<00:00,  3.31it/s]"
          ]
        },
        {
          "output_type": "stream",
          "name": "stdout",
          "text": [
            "                   all         30         35      0.782      0.616      0.673      0.443\n"
          ]
        },
        {
          "output_type": "stream",
          "name": "stderr",
          "text": [
            "\n"
          ]
        },
        {
          "output_type": "stream",
          "name": "stdout",
          "text": [
            "\n",
            "      Epoch    GPU_mem   box_loss   cls_loss   dfl_loss  Instances       Size\n"
          ]
        },
        {
          "output_type": "stream",
          "name": "stderr",
          "text": [
            "    124/300      3.37G      1.462     0.9097     0.9555          4        800: 100%|██████████| 21/21 [00:09<00:00,  2.28it/s]\n",
            "                 Class     Images  Instances      Box(P          R      mAP50  mAP50-95): 100%|██████████| 1/1 [00:00<00:00,  2.66it/s]"
          ]
        },
        {
          "output_type": "stream",
          "name": "stdout",
          "text": [
            "                   all         30         35      0.799      0.571      0.658       0.46\n"
          ]
        },
        {
          "output_type": "stream",
          "name": "stderr",
          "text": [
            "\n"
          ]
        },
        {
          "output_type": "stream",
          "name": "stdout",
          "text": [
            "\n",
            "      Epoch    GPU_mem   box_loss   cls_loss   dfl_loss  Instances       Size\n"
          ]
        },
        {
          "output_type": "stream",
          "name": "stderr",
          "text": [
            "    125/300      3.31G      1.453     0.9104     0.9601          0        800: 100%|██████████| 21/21 [00:08<00:00,  2.35it/s]\n",
            "                 Class     Images  Instances      Box(P          R      mAP50  mAP50-95): 100%|██████████| 1/1 [00:00<00:00,  2.18it/s]"
          ]
        },
        {
          "output_type": "stream",
          "name": "stdout",
          "text": [
            "                   all         30         35       0.74      0.514      0.554      0.394\n"
          ]
        },
        {
          "output_type": "stream",
          "name": "stderr",
          "text": [
            "\n"
          ]
        },
        {
          "output_type": "stream",
          "name": "stdout",
          "text": [
            "\n",
            "      Epoch    GPU_mem   box_loss   cls_loss   dfl_loss  Instances       Size\n"
          ]
        },
        {
          "output_type": "stream",
          "name": "stderr",
          "text": [
            "    126/300      3.29G      1.502      0.895      1.002          2        800: 100%|██████████| 21/21 [00:07<00:00,  2.76it/s]\n",
            "                 Class     Images  Instances      Box(P          R      mAP50  mAP50-95): 100%|██████████| 1/1 [00:00<00:00,  2.37it/s]"
          ]
        },
        {
          "output_type": "stream",
          "name": "stdout",
          "text": [
            "                   all         30         35      0.857        0.6      0.659      0.436\n"
          ]
        },
        {
          "output_type": "stream",
          "name": "stderr",
          "text": [
            "\n"
          ]
        },
        {
          "output_type": "stream",
          "name": "stdout",
          "text": [
            "\n",
            "      Epoch    GPU_mem   box_loss   cls_loss   dfl_loss  Instances       Size\n"
          ]
        },
        {
          "output_type": "stream",
          "name": "stderr",
          "text": [
            "    127/300      3.38G      1.493     0.9676     0.9821         10        800: 100%|██████████| 21/21 [00:08<00:00,  2.39it/s]\n",
            "                 Class     Images  Instances      Box(P          R      mAP50  mAP50-95): 100%|██████████| 1/1 [00:00<00:00,  2.55it/s]"
          ]
        },
        {
          "output_type": "stream",
          "name": "stdout",
          "text": [
            "                   all         30         35      0.551      0.571      0.518      0.364\n"
          ]
        },
        {
          "output_type": "stream",
          "name": "stderr",
          "text": [
            "\n"
          ]
        },
        {
          "output_type": "stream",
          "name": "stdout",
          "text": [
            "\n",
            "      Epoch    GPU_mem   box_loss   cls_loss   dfl_loss  Instances       Size\n"
          ]
        },
        {
          "output_type": "stream",
          "name": "stderr",
          "text": [
            "    128/300      3.32G      1.457     0.9186     0.9765          1        800: 100%|██████████| 21/21 [00:09<00:00,  2.30it/s]\n",
            "                 Class     Images  Instances      Box(P          R      mAP50  mAP50-95): 100%|██████████| 1/1 [00:00<00:00,  3.20it/s]"
          ]
        },
        {
          "output_type": "stream",
          "name": "stdout",
          "text": [
            "                   all         30         35      0.762      0.543      0.639       0.48\n"
          ]
        },
        {
          "output_type": "stream",
          "name": "stderr",
          "text": [
            "\n"
          ]
        },
        {
          "output_type": "stream",
          "name": "stdout",
          "text": [
            "\n",
            "      Epoch    GPU_mem   box_loss   cls_loss   dfl_loss  Instances       Size\n"
          ]
        },
        {
          "output_type": "stream",
          "name": "stderr",
          "text": [
            "    129/300      3.37G      1.515     0.9246     0.9846          4        800: 100%|██████████| 21/21 [00:07<00:00,  2.68it/s]\n",
            "                 Class     Images  Instances      Box(P          R      mAP50  mAP50-95): 100%|██████████| 1/1 [00:00<00:00,  1.98it/s]"
          ]
        },
        {
          "output_type": "stream",
          "name": "stdout",
          "text": [
            "                   all         30         35       0.76        0.6      0.699      0.472\n"
          ]
        },
        {
          "output_type": "stream",
          "name": "stderr",
          "text": [
            "\n"
          ]
        },
        {
          "output_type": "stream",
          "name": "stdout",
          "text": [
            "\n",
            "      Epoch    GPU_mem   box_loss   cls_loss   dfl_loss  Instances       Size\n"
          ]
        },
        {
          "output_type": "stream",
          "name": "stderr",
          "text": [
            "    130/300       3.3G      1.485     0.8751     0.9944          4        800: 100%|██████████| 21/21 [00:07<00:00,  2.78it/s]\n",
            "                 Class     Images  Instances      Box(P          R      mAP50  mAP50-95): 100%|██████████| 1/1 [00:00<00:00,  3.12it/s]"
          ]
        },
        {
          "output_type": "stream",
          "name": "stdout",
          "text": [
            "                   all         30         35      0.739      0.514      0.554      0.363\n"
          ]
        },
        {
          "output_type": "stream",
          "name": "stderr",
          "text": [
            "\n"
          ]
        },
        {
          "output_type": "stream",
          "name": "stdout",
          "text": [
            "\n",
            "      Epoch    GPU_mem   box_loss   cls_loss   dfl_loss  Instances       Size\n"
          ]
        },
        {
          "output_type": "stream",
          "name": "stderr",
          "text": [
            "    131/300      3.36G      1.422     0.9006     0.9411         30        800: 100%|██████████| 21/21 [00:08<00:00,  2.40it/s]\n",
            "                 Class     Images  Instances      Box(P          R      mAP50  mAP50-95): 100%|██████████| 1/1 [00:00<00:00,  3.73it/s]"
          ]
        },
        {
          "output_type": "stream",
          "name": "stdout",
          "text": [
            "                   all         30         35      0.747      0.507       0.59      0.392\n"
          ]
        },
        {
          "output_type": "stream",
          "name": "stderr",
          "text": [
            "\n"
          ]
        },
        {
          "output_type": "stream",
          "name": "stdout",
          "text": [
            "\n",
            "      Epoch    GPU_mem   box_loss   cls_loss   dfl_loss  Instances       Size\n"
          ]
        },
        {
          "output_type": "stream",
          "name": "stderr",
          "text": [
            "    132/300      3.42G      1.481     0.8847      0.983          8        800: 100%|██████████| 21/21 [00:09<00:00,  2.28it/s]\n",
            "                 Class     Images  Instances      Box(P          R      mAP50  mAP50-95): 100%|██████████| 1/1 [00:00<00:00,  2.32it/s]"
          ]
        },
        {
          "output_type": "stream",
          "name": "stdout",
          "text": [
            "                   all         30         35      0.907        0.6      0.727      0.523\n"
          ]
        },
        {
          "output_type": "stream",
          "name": "stderr",
          "text": [
            "\n"
          ]
        },
        {
          "output_type": "stream",
          "name": "stdout",
          "text": [
            "\n",
            "      Epoch    GPU_mem   box_loss   cls_loss   dfl_loss  Instances       Size\n"
          ]
        },
        {
          "output_type": "stream",
          "name": "stderr",
          "text": [
            "    133/300      3.32G      1.403      0.878      0.949          2        800: 100%|██████████| 21/21 [00:07<00:00,  2.80it/s]\n",
            "                 Class     Images  Instances      Box(P          R      mAP50  mAP50-95): 100%|██████████| 1/1 [00:00<00:00,  1.75it/s]"
          ]
        },
        {
          "output_type": "stream",
          "name": "stdout",
          "text": [
            "                   all         30         35      0.774      0.687      0.719      0.488\n"
          ]
        },
        {
          "output_type": "stream",
          "name": "stderr",
          "text": [
            "\n"
          ]
        },
        {
          "output_type": "stream",
          "name": "stdout",
          "text": [
            "\n",
            "      Epoch    GPU_mem   box_loss   cls_loss   dfl_loss  Instances       Size\n"
          ]
        },
        {
          "output_type": "stream",
          "name": "stderr",
          "text": [
            "    134/300      3.32G      1.439     0.8652     0.9822          8        800: 100%|██████████| 21/21 [00:07<00:00,  2.70it/s]\n",
            "                 Class     Images  Instances      Box(P          R      mAP50  mAP50-95): 100%|██████████| 1/1 [00:00<00:00,  2.36it/s]"
          ]
        },
        {
          "output_type": "stream",
          "name": "stdout",
          "text": [
            "                   all         30         35      0.784      0.622      0.709      0.466\n"
          ]
        },
        {
          "output_type": "stream",
          "name": "stderr",
          "text": [
            "\n"
          ]
        },
        {
          "output_type": "stream",
          "name": "stdout",
          "text": [
            "\n",
            "      Epoch    GPU_mem   box_loss   cls_loss   dfl_loss  Instances       Size\n"
          ]
        },
        {
          "output_type": "stream",
          "name": "stderr",
          "text": [
            "    135/300      3.42G      1.425     0.8734     0.9537          3        800: 100%|██████████| 21/21 [00:09<00:00,  2.30it/s]\n",
            "                 Class     Images  Instances      Box(P          R      mAP50  mAP50-95): 100%|██████████| 1/1 [00:00<00:00,  2.41it/s]"
          ]
        },
        {
          "output_type": "stream",
          "name": "stdout",
          "text": [
            "                   all         30         35      0.747      0.675      0.693      0.475\n"
          ]
        },
        {
          "output_type": "stream",
          "name": "stderr",
          "text": [
            "\n"
          ]
        },
        {
          "output_type": "stream",
          "name": "stdout",
          "text": [
            "\n",
            "      Epoch    GPU_mem   box_loss   cls_loss   dfl_loss  Instances       Size\n"
          ]
        },
        {
          "output_type": "stream",
          "name": "stderr",
          "text": [
            "    136/300      3.29G      1.385     0.8157     0.9351          0        800: 100%|██████████| 21/21 [00:08<00:00,  2.34it/s]\n",
            "                 Class     Images  Instances      Box(P          R      mAP50  mAP50-95): 100%|██████████| 1/1 [00:00<00:00,  2.47it/s]"
          ]
        },
        {
          "output_type": "stream",
          "name": "stdout",
          "text": [
            "                   all         30         35      0.872      0.582      0.722      0.497\n"
          ]
        },
        {
          "output_type": "stream",
          "name": "stderr",
          "text": [
            "\n"
          ]
        },
        {
          "output_type": "stream",
          "name": "stdout",
          "text": [
            "\n",
            "      Epoch    GPU_mem   box_loss   cls_loss   dfl_loss  Instances       Size\n"
          ]
        },
        {
          "output_type": "stream",
          "name": "stderr",
          "text": [
            "    137/300      3.31G      1.397     0.9076     0.9753          0        800: 100%|██████████| 21/21 [00:07<00:00,  2.73it/s]\n",
            "                 Class     Images  Instances      Box(P          R      mAP50  mAP50-95): 100%|██████████| 1/1 [00:00<00:00,  1.85it/s]"
          ]
        },
        {
          "output_type": "stream",
          "name": "stdout",
          "text": [
            "                   all         30         35      0.626      0.686      0.677      0.453\n"
          ]
        },
        {
          "output_type": "stream",
          "name": "stderr",
          "text": [
            "\n"
          ]
        },
        {
          "output_type": "stream",
          "name": "stdout",
          "text": [
            "\n",
            "      Epoch    GPU_mem   box_loss   cls_loss   dfl_loss  Instances       Size\n"
          ]
        },
        {
          "output_type": "stream",
          "name": "stderr",
          "text": [
            "    138/300      3.36G      1.507     0.9555     0.9627          3        800: 100%|██████████| 21/21 [00:07<00:00,  2.66it/s]\n",
            "                 Class     Images  Instances      Box(P          R      mAP50  mAP50-95): 100%|██████████| 1/1 [00:00<00:00,  2.84it/s]"
          ]
        },
        {
          "output_type": "stream",
          "name": "stdout",
          "text": [
            "                   all         30         35      0.697      0.514      0.584      0.393\n"
          ]
        },
        {
          "output_type": "stream",
          "name": "stderr",
          "text": [
            "\n"
          ]
        },
        {
          "output_type": "stream",
          "name": "stdout",
          "text": [
            "\n",
            "      Epoch    GPU_mem   box_loss   cls_loss   dfl_loss  Instances       Size\n"
          ]
        },
        {
          "output_type": "stream",
          "name": "stderr",
          "text": [
            "    139/300      3.33G      1.382     0.8828     0.9261          6        800: 100%|██████████| 21/21 [00:09<00:00,  2.31it/s]\n",
            "                 Class     Images  Instances      Box(P          R      mAP50  mAP50-95): 100%|██████████| 1/1 [00:00<00:00,  2.51it/s]"
          ]
        },
        {
          "output_type": "stream",
          "name": "stdout",
          "text": [
            "                   all         30         35      0.772      0.429      0.556      0.377\n"
          ]
        },
        {
          "output_type": "stream",
          "name": "stderr",
          "text": [
            "\n"
          ]
        },
        {
          "output_type": "stream",
          "name": "stdout",
          "text": [
            "\n",
            "      Epoch    GPU_mem   box_loss   cls_loss   dfl_loss  Instances       Size\n"
          ]
        },
        {
          "output_type": "stream",
          "name": "stderr",
          "text": [
            "    140/300      3.36G      1.508     0.8471     0.9716          2        800: 100%|██████████| 21/21 [00:08<00:00,  2.39it/s]\n",
            "                 Class     Images  Instances      Box(P          R      mAP50  mAP50-95): 100%|██████████| 1/1 [00:00<00:00,  2.11it/s]"
          ]
        },
        {
          "output_type": "stream",
          "name": "stdout",
          "text": [
            "                   all         30         35      0.808      0.457      0.617      0.446\n"
          ]
        },
        {
          "output_type": "stream",
          "name": "stderr",
          "text": [
            "\n"
          ]
        },
        {
          "output_type": "stream",
          "name": "stdout",
          "text": [
            "\n",
            "      Epoch    GPU_mem   box_loss   cls_loss   dfl_loss  Instances       Size\n"
          ]
        },
        {
          "output_type": "stream",
          "name": "stderr",
          "text": [
            "    141/300      3.58G      1.482      1.001     0.9036          2        800: 100%|██████████| 21/21 [00:07<00:00,  2.78it/s]\n",
            "                 Class     Images  Instances      Box(P          R      mAP50  mAP50-95): 100%|██████████| 1/1 [00:00<00:00,  2.82it/s]"
          ]
        },
        {
          "output_type": "stream",
          "name": "stdout",
          "text": [
            "                   all         30         35      0.697      0.656      0.643      0.443\n"
          ]
        },
        {
          "output_type": "stream",
          "name": "stderr",
          "text": [
            "\n"
          ]
        },
        {
          "output_type": "stream",
          "name": "stdout",
          "text": [
            "\n",
            "      Epoch    GPU_mem   box_loss   cls_loss   dfl_loss  Instances       Size\n"
          ]
        },
        {
          "output_type": "stream",
          "name": "stderr",
          "text": [
            "    142/300      3.29G      1.358     0.8575     0.9822         17        800: 100%|██████████| 21/21 [00:08<00:00,  2.53it/s]\n",
            "                 Class     Images  Instances      Box(P          R      mAP50  mAP50-95): 100%|██████████| 1/1 [00:00<00:00,  3.48it/s]"
          ]
        },
        {
          "output_type": "stream",
          "name": "stdout",
          "text": [
            "                   all         30         35      0.721      0.571      0.625      0.463\n"
          ]
        },
        {
          "output_type": "stream",
          "name": "stderr",
          "text": [
            "\n"
          ]
        },
        {
          "output_type": "stream",
          "name": "stdout",
          "text": [
            "\n",
            "      Epoch    GPU_mem   box_loss   cls_loss   dfl_loss  Instances       Size\n"
          ]
        },
        {
          "output_type": "stream",
          "name": "stderr",
          "text": [
            "    143/300      3.41G      1.432     0.9365     0.9728          4        800: 100%|██████████| 21/21 [00:08<00:00,  2.35it/s]\n",
            "                 Class     Images  Instances      Box(P          R      mAP50  mAP50-95): 100%|██████████| 1/1 [00:00<00:00,  3.20it/s]"
          ]
        },
        {
          "output_type": "stream",
          "name": "stdout",
          "text": [
            "                   all         30         35      0.903      0.535      0.692      0.496\n"
          ]
        },
        {
          "output_type": "stream",
          "name": "stderr",
          "text": [
            "\n"
          ]
        },
        {
          "output_type": "stream",
          "name": "stdout",
          "text": [
            "\n",
            "      Epoch    GPU_mem   box_loss   cls_loss   dfl_loss  Instances       Size\n"
          ]
        },
        {
          "output_type": "stream",
          "name": "stderr",
          "text": [
            "    144/300      3.37G       1.46      0.971     0.9619          1        800: 100%|██████████| 21/21 [00:08<00:00,  2.34it/s]\n",
            "                 Class     Images  Instances      Box(P          R      mAP50  mAP50-95): 100%|██████████| 1/1 [00:00<00:00,  1.96it/s]"
          ]
        },
        {
          "output_type": "stream",
          "name": "stdout",
          "text": [
            "                   all         30         35      0.848      0.514      0.664      0.436\n"
          ]
        },
        {
          "output_type": "stream",
          "name": "stderr",
          "text": [
            "\n"
          ]
        },
        {
          "output_type": "stream",
          "name": "stdout",
          "text": [
            "\n",
            "      Epoch    GPU_mem   box_loss   cls_loss   dfl_loss  Instances       Size\n"
          ]
        },
        {
          "output_type": "stream",
          "name": "stderr",
          "text": [
            "    145/300      3.28G      1.415     0.8541     0.9792         10        800: 100%|██████████| 21/21 [00:07<00:00,  2.75it/s]\n",
            "                 Class     Images  Instances      Box(P          R      mAP50  mAP50-95): 100%|██████████| 1/1 [00:00<00:00,  2.58it/s]"
          ]
        },
        {
          "output_type": "stream",
          "name": "stdout",
          "text": [
            "                   all         30         35      0.695      0.455      0.517       0.36\n"
          ]
        },
        {
          "output_type": "stream",
          "name": "stderr",
          "text": [
            "\n"
          ]
        },
        {
          "output_type": "stream",
          "name": "stdout",
          "text": [
            "\n",
            "      Epoch    GPU_mem   box_loss   cls_loss   dfl_loss  Instances       Size\n"
          ]
        },
        {
          "output_type": "stream",
          "name": "stderr",
          "text": [
            "    146/300      3.29G       1.38     0.8302     0.9664         18        800: 100%|██████████| 21/21 [00:08<00:00,  2.49it/s]\n",
            "                 Class     Images  Instances      Box(P          R      mAP50  mAP50-95): 100%|██████████| 1/1 [00:00<00:00,  3.43it/s]"
          ]
        },
        {
          "output_type": "stream",
          "name": "stdout",
          "text": [
            "                   all         30         35      0.645      0.371      0.441      0.325\n"
          ]
        },
        {
          "output_type": "stream",
          "name": "stderr",
          "text": [
            "\n"
          ]
        },
        {
          "output_type": "stream",
          "name": "stdout",
          "text": [
            "\n",
            "      Epoch    GPU_mem   box_loss   cls_loss   dfl_loss  Instances       Size\n"
          ]
        },
        {
          "output_type": "stream",
          "name": "stderr",
          "text": [
            "    147/300      3.32G      1.398     0.8727     0.9552         32        800: 100%|██████████| 21/21 [00:09<00:00,  2.30it/s]\n",
            "                 Class     Images  Instances      Box(P          R      mAP50  mAP50-95): 100%|██████████| 1/1 [00:00<00:00,  3.12it/s]"
          ]
        },
        {
          "output_type": "stream",
          "name": "stdout",
          "text": [
            "                   all         30         35      0.667      0.514      0.596      0.406\n"
          ]
        },
        {
          "output_type": "stream",
          "name": "stderr",
          "text": [
            "\n"
          ]
        },
        {
          "output_type": "stream",
          "name": "stdout",
          "text": [
            "\n",
            "      Epoch    GPU_mem   box_loss   cls_loss   dfl_loss  Instances       Size\n"
          ]
        },
        {
          "output_type": "stream",
          "name": "stderr",
          "text": [
            "    148/300      3.42G       1.53     0.9811      1.015          1        800: 100%|██████████| 21/21 [00:08<00:00,  2.42it/s]\n",
            "                 Class     Images  Instances      Box(P          R      mAP50  mAP50-95): 100%|██████████| 1/1 [00:00<00:00,  2.12it/s]"
          ]
        },
        {
          "output_type": "stream",
          "name": "stdout",
          "text": [
            "                   all         30         35      0.957      0.629      0.792      0.555\n"
          ]
        },
        {
          "output_type": "stream",
          "name": "stderr",
          "text": [
            "\n"
          ]
        },
        {
          "output_type": "stream",
          "name": "stdout",
          "text": [
            "\n",
            "      Epoch    GPU_mem   box_loss   cls_loss   dfl_loss  Instances       Size\n"
          ]
        },
        {
          "output_type": "stream",
          "name": "stderr",
          "text": [
            "    149/300      3.31G      1.615     0.9293     0.9919         10        800: 100%|██████████| 21/21 [00:07<00:00,  2.83it/s]\n",
            "                 Class     Images  Instances      Box(P          R      mAP50  mAP50-95): 100%|██████████| 1/1 [00:00<00:00,  2.56it/s]"
          ]
        },
        {
          "output_type": "stream",
          "name": "stdout",
          "text": [
            "                   all         30         35      0.815      0.502      0.598      0.448\n"
          ]
        },
        {
          "output_type": "stream",
          "name": "stderr",
          "text": [
            "\n"
          ]
        },
        {
          "output_type": "stream",
          "name": "stdout",
          "text": [
            "\n",
            "      Epoch    GPU_mem   box_loss   cls_loss   dfl_loss  Instances       Size\n"
          ]
        },
        {
          "output_type": "stream",
          "name": "stderr",
          "text": [
            "    150/300      3.31G      1.705       1.16      1.044          4        800: 100%|██████████| 21/21 [00:08<00:00,  2.38it/s]\n",
            "                 Class     Images  Instances      Box(P          R      mAP50  mAP50-95): 100%|██████████| 1/1 [00:00<00:00,  2.19it/s]"
          ]
        },
        {
          "output_type": "stream",
          "name": "stdout",
          "text": [
            "                   all         30         35      0.772      0.571      0.631       0.47\n"
          ]
        },
        {
          "output_type": "stream",
          "name": "stderr",
          "text": [
            "\n"
          ]
        },
        {
          "output_type": "stream",
          "name": "stdout",
          "text": [
            "\n",
            "      Epoch    GPU_mem   box_loss   cls_loss   dfl_loss  Instances       Size\n"
          ]
        },
        {
          "output_type": "stream",
          "name": "stderr",
          "text": [
            "    151/300      3.29G      1.466      0.901     0.9463          4        800: 100%|██████████| 21/21 [00:09<00:00,  2.31it/s]\n",
            "                 Class     Images  Instances      Box(P          R      mAP50  mAP50-95): 100%|██████████| 1/1 [00:00<00:00,  2.63it/s]"
          ]
        },
        {
          "output_type": "stream",
          "name": "stdout",
          "text": [
            "                   all         30         35      0.813      0.497       0.61      0.455\n"
          ]
        },
        {
          "output_type": "stream",
          "name": "stderr",
          "text": [
            "\n"
          ]
        },
        {
          "output_type": "stream",
          "name": "stdout",
          "text": [
            "\n",
            "      Epoch    GPU_mem   box_loss   cls_loss   dfl_loss  Instances       Size\n"
          ]
        },
        {
          "output_type": "stream",
          "name": "stderr",
          "text": [
            "    152/300      3.33G      1.332     0.8703     0.9271          0        800: 100%|██████████| 21/21 [00:07<00:00,  2.64it/s]\n",
            "                 Class     Images  Instances      Box(P          R      mAP50  mAP50-95): 100%|██████████| 1/1 [00:00<00:00,  1.78it/s]"
          ]
        },
        {
          "output_type": "stream",
          "name": "stdout",
          "text": [
            "                   all         30         35      0.953        0.6      0.741      0.539\n"
          ]
        },
        {
          "output_type": "stream",
          "name": "stderr",
          "text": [
            "\n"
          ]
        },
        {
          "output_type": "stream",
          "name": "stdout",
          "text": [
            "\n",
            "      Epoch    GPU_mem   box_loss   cls_loss   dfl_loss  Instances       Size\n"
          ]
        },
        {
          "output_type": "stream",
          "name": "stderr",
          "text": [
            "    153/300      3.28G      1.432     0.8853     0.9427          1        800: 100%|██████████| 21/21 [00:07<00:00,  2.78it/s]\n",
            "                 Class     Images  Instances      Box(P          R      mAP50  mAP50-95): 100%|██████████| 1/1 [00:00<00:00,  3.12it/s]"
          ]
        },
        {
          "output_type": "stream",
          "name": "stdout",
          "text": [
            "                   all         30         35      0.827      0.547      0.595      0.396\n"
          ]
        },
        {
          "output_type": "stream",
          "name": "stderr",
          "text": [
            "\n"
          ]
        },
        {
          "output_type": "stream",
          "name": "stdout",
          "text": [
            "\n",
            "      Epoch    GPU_mem   box_loss   cls_loss   dfl_loss  Instances       Size\n"
          ]
        },
        {
          "output_type": "stream",
          "name": "stderr",
          "text": [
            "    154/300      3.33G      1.404     0.8393     0.9962          2        800: 100%|██████████| 21/21 [00:08<00:00,  2.34it/s]\n",
            "                 Class     Images  Instances      Box(P          R      mAP50  mAP50-95): 100%|██████████| 1/1 [00:00<00:00,  3.16it/s]"
          ]
        },
        {
          "output_type": "stream",
          "name": "stdout",
          "text": [
            "                   all         30         35      0.548      0.514      0.541      0.369\n"
          ]
        },
        {
          "output_type": "stream",
          "name": "stderr",
          "text": [
            "\n"
          ]
        },
        {
          "output_type": "stream",
          "name": "stdout",
          "text": [
            "\n",
            "      Epoch    GPU_mem   box_loss   cls_loss   dfl_loss  Instances       Size\n"
          ]
        },
        {
          "output_type": "stream",
          "name": "stderr",
          "text": [
            "    155/300      3.33G      1.292     0.8168     0.9056          0        800: 100%|██████████| 21/21 [00:09<00:00,  2.31it/s]\n",
            "                 Class     Images  Instances      Box(P          R      mAP50  mAP50-95): 100%|██████████| 1/1 [00:00<00:00,  2.16it/s]"
          ]
        },
        {
          "output_type": "stream",
          "name": "stdout",
          "text": [
            "                   all         30         35      0.789      0.514      0.644      0.459\n"
          ]
        },
        {
          "output_type": "stream",
          "name": "stderr",
          "text": [
            "\n"
          ]
        },
        {
          "output_type": "stream",
          "name": "stdout",
          "text": [
            "\n",
            "      Epoch    GPU_mem   box_loss   cls_loss   dfl_loss  Instances       Size\n"
          ]
        },
        {
          "output_type": "stream",
          "name": "stderr",
          "text": [
            "    156/300      3.29G       1.39     0.8516      0.956         50        800: 100%|██████████| 21/21 [00:07<00:00,  2.69it/s]\n",
            "                 Class     Images  Instances      Box(P          R      mAP50  mAP50-95): 100%|██████████| 1/1 [00:00<00:00,  2.02it/s]"
          ]
        },
        {
          "output_type": "stream",
          "name": "stdout",
          "text": [
            "                   all         30         35      0.442        0.4      0.387      0.288\n"
          ]
        },
        {
          "output_type": "stream",
          "name": "stderr",
          "text": [
            "\n"
          ]
        },
        {
          "output_type": "stream",
          "name": "stdout",
          "text": [
            "\n",
            "      Epoch    GPU_mem   box_loss   cls_loss   dfl_loss  Instances       Size\n"
          ]
        },
        {
          "output_type": "stream",
          "name": "stderr",
          "text": [
            "    157/300      3.35G      1.406     0.8921     0.9569          9        800: 100%|██████████| 21/21 [00:07<00:00,  2.68it/s]\n",
            "                 Class     Images  Instances      Box(P          R      mAP50  mAP50-95): 100%|██████████| 1/1 [00:00<00:00,  2.84it/s]"
          ]
        },
        {
          "output_type": "stream",
          "name": "stdout",
          "text": [
            "                   all         30         35      0.571      0.286      0.292      0.212\n"
          ]
        },
        {
          "output_type": "stream",
          "name": "stderr",
          "text": [
            "\n"
          ]
        },
        {
          "output_type": "stream",
          "name": "stdout",
          "text": [
            "\n",
            "      Epoch    GPU_mem   box_loss   cls_loss   dfl_loss  Instances       Size\n"
          ]
        },
        {
          "output_type": "stream",
          "name": "stderr",
          "text": [
            "    158/300      3.33G      1.451     0.8427     0.9965         14        800: 100%|██████████| 21/21 [00:09<00:00,  2.30it/s]\n",
            "                 Class     Images  Instances      Box(P          R      mAP50  mAP50-95): 100%|██████████| 1/1 [00:00<00:00,  2.62it/s]"
          ]
        },
        {
          "output_type": "stream",
          "name": "stdout",
          "text": [
            "                   all         30         35      0.658      0.371      0.476      0.321\n"
          ]
        },
        {
          "output_type": "stream",
          "name": "stderr",
          "text": [
            "\n"
          ]
        },
        {
          "output_type": "stream",
          "name": "stdout",
          "text": [
            "\n",
            "      Epoch    GPU_mem   box_loss   cls_loss   dfl_loss  Instances       Size\n"
          ]
        },
        {
          "output_type": "stream",
          "name": "stderr",
          "text": [
            "    159/300      3.32G       1.37     0.8028     0.9388         17        800: 100%|██████████| 21/21 [00:09<00:00,  2.26it/s]\n",
            "                 Class     Images  Instances      Box(P          R      mAP50  mAP50-95): 100%|██████████| 1/1 [00:00<00:00,  2.13it/s]"
          ]
        },
        {
          "output_type": "stream",
          "name": "stdout",
          "text": [
            "                   all         30         35      0.635      0.449      0.484      0.319\n"
          ]
        },
        {
          "output_type": "stream",
          "name": "stderr",
          "text": [
            "\n"
          ]
        },
        {
          "output_type": "stream",
          "name": "stdout",
          "text": [
            "\n",
            "      Epoch    GPU_mem   box_loss   cls_loss   dfl_loss  Instances       Size\n"
          ]
        },
        {
          "output_type": "stream",
          "name": "stderr",
          "text": [
            "    160/300      3.33G      1.469     0.9197     0.9895         20        800: 100%|██████████| 21/21 [00:08<00:00,  2.42it/s]\n",
            "                 Class     Images  Instances      Box(P          R      mAP50  mAP50-95): 100%|██████████| 1/1 [00:00<00:00,  1.86it/s]"
          ]
        },
        {
          "output_type": "stream",
          "name": "stdout",
          "text": [
            "                   all         30         35      0.527      0.447      0.452      0.319\n"
          ]
        },
        {
          "output_type": "stream",
          "name": "stderr",
          "text": [
            "\n"
          ]
        },
        {
          "output_type": "stream",
          "name": "stdout",
          "text": [
            "\n",
            "      Epoch    GPU_mem   box_loss   cls_loss   dfl_loss  Instances       Size\n"
          ]
        },
        {
          "output_type": "stream",
          "name": "stderr",
          "text": [
            "    161/300      3.34G      1.321     0.7665     0.9572         19        800: 100%|██████████| 21/21 [00:07<00:00,  2.72it/s]\n",
            "                 Class     Images  Instances      Box(P          R      mAP50  mAP50-95): 100%|██████████| 1/1 [00:00<00:00,  2.28it/s]"
          ]
        },
        {
          "output_type": "stream",
          "name": "stdout",
          "text": [
            "                   all         30         35      0.752      0.629      0.721      0.468\n"
          ]
        },
        {
          "output_type": "stream",
          "name": "stderr",
          "text": [
            "\n"
          ]
        },
        {
          "output_type": "stream",
          "name": "stdout",
          "text": [
            "\n",
            "      Epoch    GPU_mem   box_loss   cls_loss   dfl_loss  Instances       Size\n"
          ]
        },
        {
          "output_type": "stream",
          "name": "stderr",
          "text": [
            "    162/300      3.32G      1.377     0.7689     0.9612          6        800: 100%|██████████| 21/21 [00:09<00:00,  2.32it/s]\n",
            "                 Class     Images  Instances      Box(P          R      mAP50  mAP50-95): 100%|██████████| 1/1 [00:00<00:00,  2.85it/s]"
          ]
        },
        {
          "output_type": "stream",
          "name": "stdout",
          "text": [
            "                   all         30         35      0.638      0.514      0.568       0.39\n"
          ]
        },
        {
          "output_type": "stream",
          "name": "stderr",
          "text": [
            "\n"
          ]
        },
        {
          "output_type": "stream",
          "name": "stdout",
          "text": [
            "\n",
            "      Epoch    GPU_mem   box_loss   cls_loss   dfl_loss  Instances       Size\n"
          ]
        },
        {
          "output_type": "stream",
          "name": "stderr",
          "text": [
            "    163/300      3.42G      1.405     0.8218     0.9773          4        800: 100%|██████████| 21/21 [00:09<00:00,  2.27it/s]\n",
            "                 Class     Images  Instances      Box(P          R      mAP50  mAP50-95): 100%|██████████| 1/1 [00:00<00:00,  2.40it/s]"
          ]
        },
        {
          "output_type": "stream",
          "name": "stdout",
          "text": [
            "                   all         30         35      0.581      0.429      0.525      0.347\n"
          ]
        },
        {
          "output_type": "stream",
          "name": "stderr",
          "text": [
            "\n"
          ]
        },
        {
          "output_type": "stream",
          "name": "stdout",
          "text": [
            "\n",
            "      Epoch    GPU_mem   box_loss   cls_loss   dfl_loss  Instances       Size\n"
          ]
        },
        {
          "output_type": "stream",
          "name": "stderr",
          "text": [
            "    164/300      3.36G       1.43     0.8871     0.9435          2        800: 100%|██████████| 21/21 [00:08<00:00,  2.42it/s]\n",
            "                 Class     Images  Instances      Box(P          R      mAP50  mAP50-95): 100%|██████████| 1/1 [00:00<00:00,  1.49it/s]"
          ]
        },
        {
          "output_type": "stream",
          "name": "stdout",
          "text": [
            "                   all         30         35      0.506        0.6      0.588        0.4\n"
          ]
        },
        {
          "output_type": "stream",
          "name": "stderr",
          "text": [
            "\n"
          ]
        },
        {
          "output_type": "stream",
          "name": "stdout",
          "text": [
            "\n",
            "      Epoch    GPU_mem   box_loss   cls_loss   dfl_loss  Instances       Size\n"
          ]
        },
        {
          "output_type": "stream",
          "name": "stderr",
          "text": [
            "    165/300      3.37G      1.411     0.8707     0.9252          3        800: 100%|██████████| 21/21 [00:07<00:00,  2.78it/s]\n",
            "                 Class     Images  Instances      Box(P          R      mAP50  mAP50-95): 100%|██████████| 1/1 [00:00<00:00,  2.49it/s]"
          ]
        },
        {
          "output_type": "stream",
          "name": "stdout",
          "text": [
            "                   all         30         35      0.753      0.429      0.518      0.367\n"
          ]
        },
        {
          "output_type": "stream",
          "name": "stderr",
          "text": [
            "\n"
          ]
        },
        {
          "output_type": "stream",
          "name": "stdout",
          "text": [
            "\n",
            "      Epoch    GPU_mem   box_loss   cls_loss   dfl_loss  Instances       Size\n"
          ]
        },
        {
          "output_type": "stream",
          "name": "stderr",
          "text": [
            "    166/300      3.37G      1.369     0.7775     0.9795          3        800: 100%|██████████| 21/21 [00:08<00:00,  2.34it/s]\n",
            "                 Class     Images  Instances      Box(P          R      mAP50  mAP50-95): 100%|██████████| 1/1 [00:00<00:00,  3.84it/s]"
          ]
        },
        {
          "output_type": "stream",
          "name": "stdout",
          "text": [
            "                   all         30         35      0.605      0.714      0.638      0.443\n"
          ]
        },
        {
          "output_type": "stream",
          "name": "stderr",
          "text": [
            "\n"
          ]
        },
        {
          "output_type": "stream",
          "name": "stdout",
          "text": [
            "\n",
            "      Epoch    GPU_mem   box_loss   cls_loss   dfl_loss  Instances       Size\n"
          ]
        },
        {
          "output_type": "stream",
          "name": "stderr",
          "text": [
            "    167/300      3.51G      1.414     0.8494     0.9692          2        800: 100%|██████████| 21/21 [00:09<00:00,  2.32it/s]\n",
            "                 Class     Images  Instances      Box(P          R      mAP50  mAP50-95): 100%|██████████| 1/1 [00:00<00:00,  2.51it/s]"
          ]
        },
        {
          "output_type": "stream",
          "name": "stdout",
          "text": [
            "                   all         30         35      0.923      0.429      0.634      0.426\n"
          ]
        },
        {
          "output_type": "stream",
          "name": "stderr",
          "text": [
            "\n"
          ]
        },
        {
          "output_type": "stream",
          "name": "stdout",
          "text": [
            "\n",
            "      Epoch    GPU_mem   box_loss   cls_loss   dfl_loss  Instances       Size\n"
          ]
        },
        {
          "output_type": "stream",
          "name": "stderr",
          "text": [
            "    168/300      3.43G      1.591      1.033     0.9933         14        800: 100%|██████████| 21/21 [00:08<00:00,  2.55it/s]\n",
            "                 Class     Images  Instances      Box(P          R      mAP50  mAP50-95): 100%|██████████| 1/1 [00:00<00:00,  1.98it/s]"
          ]
        },
        {
          "output_type": "stream",
          "name": "stdout",
          "text": [
            "                   all         30         35      0.882      0.429      0.552      0.391\n"
          ]
        },
        {
          "output_type": "stream",
          "name": "stderr",
          "text": [
            "\n"
          ]
        },
        {
          "output_type": "stream",
          "name": "stdout",
          "text": [
            "\n",
            "      Epoch    GPU_mem   box_loss   cls_loss   dfl_loss  Instances       Size\n"
          ]
        },
        {
          "output_type": "stream",
          "name": "stderr",
          "text": [
            "    169/300      3.36G      1.381     0.9355     0.9541          5        800: 100%|██████████| 21/21 [00:07<00:00,  2.79it/s]\n",
            "                 Class     Images  Instances      Box(P          R      mAP50  mAP50-95): 100%|██████████| 1/1 [00:00<00:00,  2.49it/s]"
          ]
        },
        {
          "output_type": "stream",
          "name": "stdout",
          "text": [
            "                   all         30         35      0.693      0.429       0.51      0.355\n"
          ]
        },
        {
          "output_type": "stream",
          "name": "stderr",
          "text": [
            "\n"
          ]
        },
        {
          "output_type": "stream",
          "name": "stdout",
          "text": [
            "\n",
            "      Epoch    GPU_mem   box_loss   cls_loss   dfl_loss  Instances       Size\n"
          ]
        },
        {
          "output_type": "stream",
          "name": "stderr",
          "text": [
            "    170/300      3.36G      1.449     0.9743     0.9692          1        800: 100%|██████████| 21/21 [00:09<00:00,  2.27it/s]\n",
            "                 Class     Images  Instances      Box(P          R      mAP50  mAP50-95): 100%|██████████| 1/1 [00:00<00:00,  2.67it/s]"
          ]
        },
        {
          "output_type": "stream",
          "name": "stdout",
          "text": [
            "                   all         30         35      0.855      0.657      0.756      0.485\n"
          ]
        },
        {
          "output_type": "stream",
          "name": "stderr",
          "text": [
            "\n"
          ]
        },
        {
          "output_type": "stream",
          "name": "stdout",
          "text": [
            "\n",
            "      Epoch    GPU_mem   box_loss   cls_loss   dfl_loss  Instances       Size\n"
          ]
        },
        {
          "output_type": "stream",
          "name": "stderr",
          "text": [
            "    171/300      3.32G      1.375     0.9016     0.9455          1        800: 100%|██████████| 21/21 [00:09<00:00,  2.30it/s]\n",
            "                 Class     Images  Instances      Box(P          R      mAP50  mAP50-95): 100%|██████████| 1/1 [00:00<00:00,  2.93it/s]"
          ]
        },
        {
          "output_type": "stream",
          "name": "stdout",
          "text": [
            "                   all         30         35      0.904      0.629      0.751      0.526\n"
          ]
        },
        {
          "output_type": "stream",
          "name": "stderr",
          "text": [
            "\n"
          ]
        },
        {
          "output_type": "stream",
          "name": "stdout",
          "text": [
            "\n",
            "      Epoch    GPU_mem   box_loss   cls_loss   dfl_loss  Instances       Size\n"
          ]
        },
        {
          "output_type": "stream",
          "name": "stderr",
          "text": [
            "    172/300      3.32G      1.409     0.8633     0.9585         22        800: 100%|██████████| 21/21 [00:08<00:00,  2.49it/s]\n",
            "                 Class     Images  Instances      Box(P          R      mAP50  mAP50-95): 100%|██████████| 1/1 [00:00<00:00,  2.16it/s]"
          ]
        },
        {
          "output_type": "stream",
          "name": "stdout",
          "text": [
            "                   all         30         35      0.648        0.6        0.6      0.421\n"
          ]
        },
        {
          "output_type": "stream",
          "name": "stderr",
          "text": [
            "\n"
          ]
        },
        {
          "output_type": "stream",
          "name": "stdout",
          "text": [
            "\n",
            "      Epoch    GPU_mem   box_loss   cls_loss   dfl_loss  Instances       Size\n"
          ]
        },
        {
          "output_type": "stream",
          "name": "stderr",
          "text": [
            "    173/300      3.32G      1.288     0.7813     0.9466          8        800: 100%|██████████| 21/21 [00:07<00:00,  2.66it/s]\n",
            "                 Class     Images  Instances      Box(P          R      mAP50  mAP50-95): 100%|██████████| 1/1 [00:00<00:00,  2.63it/s]"
          ]
        },
        {
          "output_type": "stream",
          "name": "stdout",
          "text": [
            "                   all         30         35      0.712      0.637      0.647      0.468\n"
          ]
        },
        {
          "output_type": "stream",
          "name": "stderr",
          "text": [
            "\n"
          ]
        },
        {
          "output_type": "stream",
          "name": "stdout",
          "text": [
            "\n",
            "      Epoch    GPU_mem   box_loss   cls_loss   dfl_loss  Instances       Size\n"
          ]
        },
        {
          "output_type": "stream",
          "name": "stderr",
          "text": [
            "    174/300      3.33G      1.404     0.8212     0.9669         12        800: 100%|██████████| 21/21 [00:09<00:00,  2.29it/s]\n",
            "                 Class     Images  Instances      Box(P          R      mAP50  mAP50-95): 100%|██████████| 1/1 [00:00<00:00,  2.55it/s]"
          ]
        },
        {
          "output_type": "stream",
          "name": "stdout",
          "text": [
            "                   all         30         35      0.852        0.4      0.534       0.38\n"
          ]
        },
        {
          "output_type": "stream",
          "name": "stderr",
          "text": [
            "\n"
          ]
        },
        {
          "output_type": "stream",
          "name": "stdout",
          "text": [
            "\n",
            "      Epoch    GPU_mem   box_loss   cls_loss   dfl_loss  Instances       Size\n"
          ]
        },
        {
          "output_type": "stream",
          "name": "stderr",
          "text": [
            "    175/300      3.33G       1.39     0.8716     0.9553          3        800: 100%|██████████| 21/21 [00:09<00:00,  2.27it/s]\n",
            "                 Class     Images  Instances      Box(P          R      mAP50  mAP50-95): 100%|██████████| 1/1 [00:00<00:00,  2.72it/s]"
          ]
        },
        {
          "output_type": "stream",
          "name": "stdout",
          "text": [
            "                   all         30         35      0.771      0.371      0.487       0.35\n"
          ]
        },
        {
          "output_type": "stream",
          "name": "stderr",
          "text": [
            "\n"
          ]
        },
        {
          "output_type": "stream",
          "name": "stdout",
          "text": [
            "\n",
            "      Epoch    GPU_mem   box_loss   cls_loss   dfl_loss  Instances       Size\n"
          ]
        },
        {
          "output_type": "stream",
          "name": "stderr",
          "text": [
            "    176/300      3.33G       1.37     0.8394     0.9385          4        800: 100%|██████████| 21/21 [00:08<00:00,  2.53it/s]\n",
            "                 Class     Images  Instances      Box(P          R      mAP50  mAP50-95): 100%|██████████| 1/1 [00:00<00:00,  1.81it/s]"
          ]
        },
        {
          "output_type": "stream",
          "name": "stdout",
          "text": [
            "                   all         30         35      0.472      0.332      0.339      0.223\n"
          ]
        },
        {
          "output_type": "stream",
          "name": "stderr",
          "text": [
            "\n"
          ]
        },
        {
          "output_type": "stream",
          "name": "stdout",
          "text": [
            "\n",
            "      Epoch    GPU_mem   box_loss   cls_loss   dfl_loss  Instances       Size\n"
          ]
        },
        {
          "output_type": "stream",
          "name": "stderr",
          "text": [
            "    177/300      3.31G       1.33     0.7959     0.9571          4        800: 100%|██████████| 21/21 [00:07<00:00,  2.70it/s]\n",
            "                 Class     Images  Instances      Box(P          R      mAP50  mAP50-95): 100%|██████████| 1/1 [00:00<00:00,  2.29it/s]"
          ]
        },
        {
          "output_type": "stream",
          "name": "stdout",
          "text": [
            "                   all         30         35      0.338      0.429      0.355      0.243\n"
          ]
        },
        {
          "output_type": "stream",
          "name": "stderr",
          "text": [
            "\n"
          ]
        },
        {
          "output_type": "stream",
          "name": "stdout",
          "text": [
            "\n",
            "      Epoch    GPU_mem   box_loss   cls_loss   dfl_loss  Instances       Size\n"
          ]
        },
        {
          "output_type": "stream",
          "name": "stderr",
          "text": [
            "    178/300      3.32G      1.267      0.748     0.9075          0        800: 100%|██████████| 21/21 [00:08<00:00,  2.34it/s]\n",
            "                 Class     Images  Instances      Box(P          R      mAP50  mAP50-95): 100%|██████████| 1/1 [00:00<00:00,  2.51it/s]"
          ]
        },
        {
          "output_type": "stream",
          "name": "stdout",
          "text": [
            "                   all         30         35      0.403        0.6      0.495      0.333\n"
          ]
        },
        {
          "output_type": "stream",
          "name": "stderr",
          "text": [
            "\n"
          ]
        },
        {
          "output_type": "stream",
          "name": "stdout",
          "text": [
            "\n",
            "      Epoch    GPU_mem   box_loss   cls_loss   dfl_loss  Instances       Size\n"
          ]
        },
        {
          "output_type": "stream",
          "name": "stderr",
          "text": [
            "    179/300      3.32G      1.369     0.8357      0.973          1        800: 100%|██████████| 21/21 [00:09<00:00,  2.24it/s]\n",
            "                 Class     Images  Instances      Box(P          R      mAP50  mAP50-95): 100%|██████████| 1/1 [00:00<00:00,  3.09it/s]"
          ]
        },
        {
          "output_type": "stream",
          "name": "stdout",
          "text": [
            "                   all         30         35      0.845      0.686      0.752      0.515\n"
          ]
        },
        {
          "output_type": "stream",
          "name": "stderr",
          "text": [
            "\n"
          ]
        },
        {
          "output_type": "stream",
          "name": "stdout",
          "text": [
            "\n",
            "      Epoch    GPU_mem   box_loss   cls_loss   dfl_loss  Instances       Size\n"
          ]
        },
        {
          "output_type": "stream",
          "name": "stderr",
          "text": [
            "    180/300      3.33G      1.357     0.7686     0.9647         18        800: 100%|██████████| 21/21 [00:08<00:00,  2.56it/s]\n",
            "                 Class     Images  Instances      Box(P          R      mAP50  mAP50-95): 100%|██████████| 1/1 [00:00<00:00,  2.03it/s]"
          ]
        },
        {
          "output_type": "stream",
          "name": "stdout",
          "text": [
            "                   all         30         35       0.65      0.486      0.579       0.39\n"
          ]
        },
        {
          "output_type": "stream",
          "name": "stderr",
          "text": [
            "\n"
          ]
        },
        {
          "output_type": "stream",
          "name": "stdout",
          "text": [
            "\n",
            "      Epoch    GPU_mem   box_loss   cls_loss   dfl_loss  Instances       Size\n"
          ]
        },
        {
          "output_type": "stream",
          "name": "stderr",
          "text": [
            "    181/300      3.34G      1.217     0.7269     0.8961          0        800: 100%|██████████| 21/21 [00:07<00:00,  2.77it/s]\n",
            "                 Class     Images  Instances      Box(P          R      mAP50  mAP50-95): 100%|██████████| 1/1 [00:00<00:00,  2.41it/s]"
          ]
        },
        {
          "output_type": "stream",
          "name": "stdout",
          "text": [
            "                   all         30         35      0.643      0.543      0.571       0.39\n"
          ]
        },
        {
          "output_type": "stream",
          "name": "stderr",
          "text": [
            "\n"
          ]
        },
        {
          "output_type": "stream",
          "name": "stdout",
          "text": [
            "\n",
            "      Epoch    GPU_mem   box_loss   cls_loss   dfl_loss  Instances       Size\n"
          ]
        },
        {
          "output_type": "stream",
          "name": "stderr",
          "text": [
            "    182/300      3.39G      1.279     0.7557     0.9147         12        800: 100%|██████████| 21/21 [00:09<00:00,  2.31it/s]\n",
            "                 Class     Images  Instances      Box(P          R      mAP50  mAP50-95): 100%|██████████| 1/1 [00:00<00:00,  2.17it/s]"
          ]
        },
        {
          "output_type": "stream",
          "name": "stdout",
          "text": [
            "                   all         30         35      0.633      0.543       0.58      0.403\n"
          ]
        },
        {
          "output_type": "stream",
          "name": "stderr",
          "text": [
            "\n"
          ]
        },
        {
          "output_type": "stream",
          "name": "stdout",
          "text": [
            "\n",
            "      Epoch    GPU_mem   box_loss   cls_loss   dfl_loss  Instances       Size\n"
          ]
        },
        {
          "output_type": "stream",
          "name": "stderr",
          "text": [
            "    183/300      3.32G      1.327     0.7561     0.9258         42        800: 100%|██████████| 21/21 [00:09<00:00,  2.29it/s]\n",
            "                 Class     Images  Instances      Box(P          R      mAP50  mAP50-95): 100%|██████████| 1/1 [00:00<00:00,  3.73it/s]"
          ]
        },
        {
          "output_type": "stream",
          "name": "stdout",
          "text": [
            "                   all         30         35       0.62      0.543      0.597      0.392\n"
          ]
        },
        {
          "output_type": "stream",
          "name": "stderr",
          "text": [
            "\n"
          ]
        },
        {
          "output_type": "stream",
          "name": "stdout",
          "text": [
            "\n",
            "      Epoch    GPU_mem   box_loss   cls_loss   dfl_loss  Instances       Size\n"
          ]
        },
        {
          "output_type": "stream",
          "name": "stderr",
          "text": [
            "    184/300      3.29G       1.29     0.7847     0.9052          0        800: 100%|██████████| 21/21 [00:08<00:00,  2.61it/s]\n",
            "                 Class     Images  Instances      Box(P          R      mAP50  mAP50-95): 100%|██████████| 1/1 [00:00<00:00,  2.24it/s]"
          ]
        },
        {
          "output_type": "stream",
          "name": "stdout",
          "text": [
            "                   all         30         35      0.646      0.514      0.522      0.348\n"
          ]
        },
        {
          "output_type": "stream",
          "name": "stderr",
          "text": [
            "\n"
          ]
        },
        {
          "output_type": "stream",
          "name": "stdout",
          "text": [
            "\n",
            "      Epoch    GPU_mem   box_loss   cls_loss   dfl_loss  Instances       Size\n"
          ]
        },
        {
          "output_type": "stream",
          "name": "stderr",
          "text": [
            "    185/300      3.31G      1.447     0.9101     0.9284         18        800: 100%|██████████| 21/21 [00:07<00:00,  2.76it/s]\n",
            "                 Class     Images  Instances      Box(P          R      mAP50  mAP50-95): 100%|██████████| 1/1 [00:00<00:00,  2.50it/s]"
          ]
        },
        {
          "output_type": "stream",
          "name": "stdout",
          "text": [
            "                   all         30         35      0.575      0.429      0.433      0.285\n"
          ]
        },
        {
          "output_type": "stream",
          "name": "stderr",
          "text": [
            "\n"
          ]
        },
        {
          "output_type": "stream",
          "name": "stdout",
          "text": [
            "\n",
            "      Epoch    GPU_mem   box_loss   cls_loss   dfl_loss  Instances       Size\n"
          ]
        },
        {
          "output_type": "stream",
          "name": "stderr",
          "text": [
            "    186/300      3.33G       1.33     0.8045     0.9461          2        800: 100%|██████████| 21/21 [00:09<00:00,  2.26it/s]\n",
            "                 Class     Images  Instances      Box(P          R      mAP50  mAP50-95): 100%|██████████| 1/1 [00:00<00:00,  3.51it/s]"
          ]
        },
        {
          "output_type": "stream",
          "name": "stdout",
          "text": [
            "                   all         30         35      0.531      0.356      0.379      0.261\n"
          ]
        },
        {
          "output_type": "stream",
          "name": "stderr",
          "text": [
            "\n"
          ]
        },
        {
          "output_type": "stream",
          "name": "stdout",
          "text": [
            "\n",
            "      Epoch    GPU_mem   box_loss   cls_loss   dfl_loss  Instances       Size\n"
          ]
        },
        {
          "output_type": "stream",
          "name": "stderr",
          "text": [
            "    187/300      3.29G      1.382     0.8054     0.9362          8        800: 100%|██████████| 21/21 [00:09<00:00,  2.22it/s]\n",
            "                 Class     Images  Instances      Box(P          R      mAP50  mAP50-95): 100%|██████████| 1/1 [00:00<00:00,  2.68it/s]"
          ]
        },
        {
          "output_type": "stream",
          "name": "stdout",
          "text": [
            "                   all         30         35      0.483        0.6      0.551      0.372\n"
          ]
        },
        {
          "output_type": "stream",
          "name": "stderr",
          "text": [
            "\n"
          ]
        },
        {
          "output_type": "stream",
          "name": "stdout",
          "text": [
            "\n",
            "      Epoch    GPU_mem   box_loss   cls_loss   dfl_loss  Instances       Size\n"
          ]
        },
        {
          "output_type": "stream",
          "name": "stderr",
          "text": [
            "    188/300      3.29G      1.285     0.7514     0.9326          3        800: 100%|██████████| 21/21 [00:08<00:00,  2.55it/s]\n",
            "                 Class     Images  Instances      Box(P          R      mAP50  mAP50-95): 100%|██████████| 1/1 [00:00<00:00,  2.38it/s]"
          ]
        },
        {
          "output_type": "stream",
          "name": "stdout",
          "text": [
            "                   all         30         35      0.539      0.534      0.517      0.349\n"
          ]
        },
        {
          "output_type": "stream",
          "name": "stderr",
          "text": [
            "\n"
          ]
        },
        {
          "output_type": "stream",
          "name": "stdout",
          "text": [
            "\n",
            "      Epoch    GPU_mem   box_loss   cls_loss   dfl_loss  Instances       Size\n"
          ]
        },
        {
          "output_type": "stream",
          "name": "stderr",
          "text": [
            "    189/300       3.3G      1.346      0.786     0.9478         20        800: 100%|██████████| 21/21 [00:07<00:00,  2.78it/s]\n",
            "                 Class     Images  Instances      Box(P          R      mAP50  mAP50-95): 100%|██████████| 1/1 [00:00<00:00,  2.76it/s]"
          ]
        },
        {
          "output_type": "stream",
          "name": "stdout",
          "text": [
            "                   all         30         35      0.887      0.448      0.598      0.419\n"
          ]
        },
        {
          "output_type": "stream",
          "name": "stderr",
          "text": [
            "\n"
          ]
        },
        {
          "output_type": "stream",
          "name": "stdout",
          "text": [
            "\n",
            "      Epoch    GPU_mem   box_loss   cls_loss   dfl_loss  Instances       Size\n"
          ]
        },
        {
          "output_type": "stream",
          "name": "stderr",
          "text": [
            "    190/300      3.37G      1.324     0.7701     0.9157          7        800: 100%|██████████| 21/21 [00:09<00:00,  2.28it/s]\n",
            "                 Class     Images  Instances      Box(P          R      mAP50  mAP50-95): 100%|██████████| 1/1 [00:00<00:00,  2.37it/s]"
          ]
        },
        {
          "output_type": "stream",
          "name": "stdout",
          "text": [
            "                   all         30         35      0.491        0.6      0.531      0.362\n"
          ]
        },
        {
          "output_type": "stream",
          "name": "stderr",
          "text": [
            "\n"
          ]
        },
        {
          "output_type": "stream",
          "name": "stdout",
          "text": [
            "\n",
            "      Epoch    GPU_mem   box_loss   cls_loss   dfl_loss  Instances       Size\n"
          ]
        },
        {
          "output_type": "stream",
          "name": "stderr",
          "text": [
            "    191/300      3.33G       1.33     0.7647     0.9413          4        800: 100%|██████████| 21/21 [00:09<00:00,  2.31it/s]\n",
            "                 Class     Images  Instances      Box(P          R      mAP50  mAP50-95): 100%|██████████| 1/1 [00:00<00:00,  2.69it/s]"
          ]
        },
        {
          "output_type": "stream",
          "name": "stdout",
          "text": [
            "                   all         30         35      0.503      0.514      0.501      0.325\n"
          ]
        },
        {
          "output_type": "stream",
          "name": "stderr",
          "text": [
            "\n"
          ]
        },
        {
          "output_type": "stream",
          "name": "stdout",
          "text": [
            "\n",
            "      Epoch    GPU_mem   box_loss   cls_loss   dfl_loss  Instances       Size\n"
          ]
        },
        {
          "output_type": "stream",
          "name": "stderr",
          "text": [
            "    192/300      3.37G      1.288     0.7555     0.9328          3        800: 100%|██████████| 21/21 [00:07<00:00,  2.73it/s]\n",
            "                 Class     Images  Instances      Box(P          R      mAP50  mAP50-95): 100%|██████████| 1/1 [00:00<00:00,  2.69it/s]"
          ]
        },
        {
          "output_type": "stream",
          "name": "stdout",
          "text": [
            "                   all         30         35      0.785      0.418      0.535      0.337\n"
          ]
        },
        {
          "output_type": "stream",
          "name": "stderr",
          "text": [
            "\n"
          ]
        },
        {
          "output_type": "stream",
          "name": "stdout",
          "text": [
            "\n",
            "      Epoch    GPU_mem   box_loss   cls_loss   dfl_loss  Instances       Size\n"
          ]
        },
        {
          "output_type": "stream",
          "name": "stderr",
          "text": [
            "    193/300      3.28G      1.327      0.831      0.921          0        800: 100%|██████████| 21/21 [00:07<00:00,  2.81it/s]\n",
            "                 Class     Images  Instances      Box(P          R      mAP50  mAP50-95): 100%|██████████| 1/1 [00:00<00:00,  2.39it/s]"
          ]
        },
        {
          "output_type": "stream",
          "name": "stdout",
          "text": [
            "                   all         30         35      0.542      0.457      0.473      0.296\n"
          ]
        },
        {
          "output_type": "stream",
          "name": "stderr",
          "text": [
            "\n"
          ]
        },
        {
          "output_type": "stream",
          "name": "stdout",
          "text": [
            "\n",
            "      Epoch    GPU_mem   box_loss   cls_loss   dfl_loss  Instances       Size\n"
          ]
        },
        {
          "output_type": "stream",
          "name": "stderr",
          "text": [
            "    194/300      3.55G      1.443     0.8121      0.922          1        800: 100%|██████████| 21/21 [00:09<00:00,  2.22it/s]\n",
            "                 Class     Images  Instances      Box(P          R      mAP50  mAP50-95): 100%|██████████| 1/1 [00:00<00:00,  2.05it/s]"
          ]
        },
        {
          "output_type": "stream",
          "name": "stdout",
          "text": [
            "                   all         30         35      0.534      0.514      0.498      0.333\n"
          ]
        },
        {
          "output_type": "stream",
          "name": "stderr",
          "text": [
            "\n"
          ]
        },
        {
          "output_type": "stream",
          "name": "stdout",
          "text": [
            "\n",
            "      Epoch    GPU_mem   box_loss   cls_loss   dfl_loss  Instances       Size\n"
          ]
        },
        {
          "output_type": "stream",
          "name": "stderr",
          "text": [
            "    195/300      3.42G      1.247     0.7651     0.9354          2        800: 100%|██████████| 21/21 [00:08<00:00,  2.34it/s]\n",
            "                 Class     Images  Instances      Box(P          R      mAP50  mAP50-95): 100%|██████████| 1/1 [00:00<00:00,  2.69it/s]"
          ]
        },
        {
          "output_type": "stream",
          "name": "stdout",
          "text": [
            "                   all         30         35      0.775      0.486      0.592      0.392\n"
          ]
        },
        {
          "output_type": "stream",
          "name": "stderr",
          "text": [
            "\n"
          ]
        },
        {
          "output_type": "stream",
          "name": "stdout",
          "text": [
            "\n",
            "      Epoch    GPU_mem   box_loss   cls_loss   dfl_loss  Instances       Size\n"
          ]
        },
        {
          "output_type": "stream",
          "name": "stderr",
          "text": [
            "    196/300      3.29G       1.27     0.6939     0.9159         16        800: 100%|██████████| 21/21 [00:07<00:00,  2.69it/s]\n",
            "                 Class     Images  Instances      Box(P          R      mAP50  mAP50-95): 100%|██████████| 1/1 [00:00<00:00,  1.74it/s]"
          ]
        },
        {
          "output_type": "stream",
          "name": "stdout",
          "text": [
            "                   all         30         35      0.571      0.456      0.479       0.34\n"
          ]
        },
        {
          "output_type": "stream",
          "name": "stderr",
          "text": [
            "\n"
          ]
        },
        {
          "output_type": "stream",
          "name": "stdout",
          "text": [
            "\n",
            "      Epoch    GPU_mem   box_loss   cls_loss   dfl_loss  Instances       Size\n"
          ]
        },
        {
          "output_type": "stream",
          "name": "stderr",
          "text": [
            "    197/300      3.37G      1.291      0.757     0.9335         21        800: 100%|██████████| 21/21 [00:07<00:00,  2.82it/s]\n",
            "                 Class     Images  Instances      Box(P          R      mAP50  mAP50-95): 100%|██████████| 1/1 [00:00<00:00,  2.76it/s]"
          ]
        },
        {
          "output_type": "stream",
          "name": "stdout",
          "text": [
            "                   all         30         35      0.609      0.514      0.589      0.379\n"
          ]
        },
        {
          "output_type": "stream",
          "name": "stderr",
          "text": [
            "\n"
          ]
        },
        {
          "output_type": "stream",
          "name": "stdout",
          "text": [
            "\n",
            "      Epoch    GPU_mem   box_loss   cls_loss   dfl_loss  Instances       Size\n"
          ]
        },
        {
          "output_type": "stream",
          "name": "stderr",
          "text": [
            "    198/300      3.33G      1.305     0.7808     0.9316         40        800: 100%|██████████| 21/21 [00:09<00:00,  2.29it/s]\n",
            "                 Class     Images  Instances      Box(P          R      mAP50  mAP50-95): 100%|██████████| 1/1 [00:00<00:00,  2.51it/s]"
          ]
        },
        {
          "output_type": "stream",
          "name": "stdout",
          "text": [
            "                   all         30         35      0.568      0.514       0.54      0.369\n"
          ]
        },
        {
          "output_type": "stream",
          "name": "stderr",
          "text": [
            "\n"
          ]
        },
        {
          "output_type": "stream",
          "name": "stdout",
          "text": [
            "\n",
            "      Epoch    GPU_mem   box_loss   cls_loss   dfl_loss  Instances       Size\n"
          ]
        },
        {
          "output_type": "stream",
          "name": "stderr",
          "text": [
            "    199/300      3.41G      1.221     0.6828     0.9219          9        800: 100%|██████████| 21/21 [00:08<00:00,  2.36it/s]\n",
            "                 Class     Images  Instances      Box(P          R      mAP50  mAP50-95): 100%|██████████| 1/1 [00:00<00:00,  1.93it/s]"
          ]
        },
        {
          "output_type": "stream",
          "name": "stdout",
          "text": [
            "                   all         30         35      0.606      0.629      0.643       0.45\n"
          ]
        },
        {
          "output_type": "stream",
          "name": "stderr",
          "text": [
            "\n"
          ]
        },
        {
          "output_type": "stream",
          "name": "stdout",
          "text": [
            "\n",
            "      Epoch    GPU_mem   box_loss   cls_loss   dfl_loss  Instances       Size\n"
          ]
        },
        {
          "output_type": "stream",
          "name": "stderr",
          "text": [
            "    200/300      3.41G      1.417     0.7838     0.9374          2        800: 100%|██████████| 21/21 [00:07<00:00,  2.71it/s]\n",
            "                 Class     Images  Instances      Box(P          R      mAP50  mAP50-95): 100%|██████████| 1/1 [00:00<00:00,  1.88it/s]"
          ]
        },
        {
          "output_type": "stream",
          "name": "stdout",
          "text": [
            "                   all         30         35      0.727      0.543      0.593      0.421\n"
          ]
        },
        {
          "output_type": "stream",
          "name": "stderr",
          "text": [
            "\n"
          ]
        },
        {
          "output_type": "stream",
          "name": "stdout",
          "text": [
            "\n",
            "      Epoch    GPU_mem   box_loss   cls_loss   dfl_loss  Instances       Size\n"
          ]
        },
        {
          "output_type": "stream",
          "name": "stderr",
          "text": [
            "    201/300      3.31G      1.345     0.8153      0.962          8        800: 100%|██████████| 21/21 [00:07<00:00,  2.68it/s]\n",
            "                 Class     Images  Instances      Box(P          R      mAP50  mAP50-95): 100%|██████████| 1/1 [00:00<00:00,  2.50it/s]"
          ]
        },
        {
          "output_type": "stream",
          "name": "stdout",
          "text": [
            "                   all         30         35      0.852      0.657      0.735       0.47\n"
          ]
        },
        {
          "output_type": "stream",
          "name": "stderr",
          "text": [
            "\n"
          ]
        },
        {
          "output_type": "stream",
          "name": "stdout",
          "text": [
            "\n",
            "      Epoch    GPU_mem   box_loss   cls_loss   dfl_loss  Instances       Size\n"
          ]
        },
        {
          "output_type": "stream",
          "name": "stderr",
          "text": [
            "    202/300      3.39G      1.391     0.8179     0.9787          6        800: 100%|██████████| 21/21 [00:09<00:00,  2.28it/s]\n",
            "                 Class     Images  Instances      Box(P          R      mAP50  mAP50-95): 100%|██████████| 1/1 [00:00<00:00,  2.08it/s]"
          ]
        },
        {
          "output_type": "stream",
          "name": "stdout",
          "text": [
            "                   all         30         35      0.743      0.571      0.698      0.455\n"
          ]
        },
        {
          "output_type": "stream",
          "name": "stderr",
          "text": [
            "\n"
          ]
        },
        {
          "output_type": "stream",
          "name": "stdout",
          "text": [
            "\n",
            "      Epoch    GPU_mem   box_loss   cls_loss   dfl_loss  Instances       Size\n"
          ]
        },
        {
          "output_type": "stream",
          "name": "stderr",
          "text": [
            "    203/300      3.41G      1.398      1.096     0.9433          2        800: 100%|██████████| 21/21 [00:09<00:00,  2.31it/s]\n",
            "                 Class     Images  Instances      Box(P          R      mAP50  mAP50-95): 100%|██████████| 1/1 [00:00<00:00,  2.91it/s]"
          ]
        },
        {
          "output_type": "stream",
          "name": "stdout",
          "text": [
            "                   all         30         35      0.528       0.48        0.5      0.336\n"
          ]
        },
        {
          "output_type": "stream",
          "name": "stderr",
          "text": [
            "\n"
          ]
        },
        {
          "output_type": "stream",
          "name": "stdout",
          "text": [
            "\n",
            "      Epoch    GPU_mem   box_loss   cls_loss   dfl_loss  Instances       Size\n"
          ]
        },
        {
          "output_type": "stream",
          "name": "stderr",
          "text": [
            "    204/300      3.32G      1.316     0.7656     0.9336          2        800: 100%|██████████| 21/21 [00:07<00:00,  2.73it/s]\n",
            "                 Class     Images  Instances      Box(P          R      mAP50  mAP50-95): 100%|██████████| 1/1 [00:00<00:00,  2.24it/s]"
          ]
        },
        {
          "output_type": "stream",
          "name": "stdout",
          "text": [
            "                   all         30         35      0.826      0.286      0.389      0.285\n"
          ]
        },
        {
          "output_type": "stream",
          "name": "stderr",
          "text": [
            "\n"
          ]
        },
        {
          "output_type": "stream",
          "name": "stdout",
          "text": [
            "\n",
            "      Epoch    GPU_mem   box_loss   cls_loss   dfl_loss  Instances       Size\n"
          ]
        },
        {
          "output_type": "stream",
          "name": "stderr",
          "text": [
            "    205/300      3.42G      1.194     0.7206     0.9006          0        800: 100%|██████████| 21/21 [00:07<00:00,  2.63it/s]\n",
            "                 Class     Images  Instances      Box(P          R      mAP50  mAP50-95): 100%|██████████| 1/1 [00:00<00:00,  2.86it/s]"
          ]
        },
        {
          "output_type": "stream",
          "name": "stdout",
          "text": [
            "                   all         30         35      0.965      0.343      0.498      0.343\n"
          ]
        },
        {
          "output_type": "stream",
          "name": "stderr",
          "text": [
            "\n"
          ]
        },
        {
          "output_type": "stream",
          "name": "stdout",
          "text": [
            "\n",
            "      Epoch    GPU_mem   box_loss   cls_loss   dfl_loss  Instances       Size\n"
          ]
        },
        {
          "output_type": "stream",
          "name": "stderr",
          "text": [
            "    206/300      3.36G      1.222     0.7545     0.8726          0        800: 100%|██████████| 21/21 [00:09<00:00,  2.23it/s]\n",
            "                 Class     Images  Instances      Box(P          R      mAP50  mAP50-95): 100%|██████████| 1/1 [00:00<00:00,  3.29it/s]"
          ]
        },
        {
          "output_type": "stream",
          "name": "stdout",
          "text": [
            "                   all         30         35      0.724      0.486      0.597      0.414\n"
          ]
        },
        {
          "output_type": "stream",
          "name": "stderr",
          "text": [
            "\n"
          ]
        },
        {
          "output_type": "stream",
          "name": "stdout",
          "text": [
            "\n",
            "      Epoch    GPU_mem   box_loss   cls_loss   dfl_loss  Instances       Size\n"
          ]
        },
        {
          "output_type": "stream",
          "name": "stderr",
          "text": [
            "    207/300      3.38G      1.368     0.7876     0.9518          7        800: 100%|██████████| 21/21 [00:09<00:00,  2.20it/s]\n",
            "                 Class     Images  Instances      Box(P          R      mAP50  mAP50-95): 100%|██████████| 1/1 [00:00<00:00,  2.61it/s]"
          ]
        },
        {
          "output_type": "stream",
          "name": "stdout",
          "text": [
            "                   all         30         35      0.711      0.486      0.581      0.422\n"
          ]
        },
        {
          "output_type": "stream",
          "name": "stderr",
          "text": [
            "\n"
          ]
        },
        {
          "output_type": "stream",
          "name": "stdout",
          "text": [
            "\n",
            "      Epoch    GPU_mem   box_loss   cls_loss   dfl_loss  Instances       Size\n"
          ]
        },
        {
          "output_type": "stream",
          "name": "stderr",
          "text": [
            "    208/300      3.33G      1.216       0.75     0.9318          8        800: 100%|██████████| 21/21 [00:07<00:00,  2.65it/s]\n",
            "                 Class     Images  Instances      Box(P          R      mAP50  mAP50-95): 100%|██████████| 1/1 [00:00<00:00,  2.32it/s]"
          ]
        },
        {
          "output_type": "stream",
          "name": "stdout",
          "text": [
            "                   all         30         35      0.563      0.514      0.575      0.408\n"
          ]
        },
        {
          "output_type": "stream",
          "name": "stderr",
          "text": [
            "\n"
          ]
        },
        {
          "output_type": "stream",
          "name": "stdout",
          "text": [
            "\n",
            "      Epoch    GPU_mem   box_loss   cls_loss   dfl_loss  Instances       Size\n"
          ]
        },
        {
          "output_type": "stream",
          "name": "stderr",
          "text": [
            "    209/300      3.28G      1.293     0.7355     0.9276         13        800: 100%|██████████| 21/21 [00:07<00:00,  2.69it/s]\n",
            "                 Class     Images  Instances      Box(P          R      mAP50  mAP50-95): 100%|██████████| 1/1 [00:00<00:00,  3.06it/s]"
          ]
        },
        {
          "output_type": "stream",
          "name": "stdout",
          "text": [
            "                   all         30         35        0.9      0.457      0.639      0.422\n"
          ]
        },
        {
          "output_type": "stream",
          "name": "stderr",
          "text": [
            "\n"
          ]
        },
        {
          "output_type": "stream",
          "name": "stdout",
          "text": [
            "\n",
            "      Epoch    GPU_mem   box_loss   cls_loss   dfl_loss  Instances       Size\n"
          ]
        },
        {
          "output_type": "stream",
          "name": "stderr",
          "text": [
            "    210/300      3.45G      1.302     0.8453     0.9233          6        800: 100%|██████████| 21/21 [00:09<00:00,  2.24it/s]\n",
            "                 Class     Images  Instances      Box(P          R      mAP50  mAP50-95): 100%|██████████| 1/1 [00:00<00:00,  2.69it/s]"
          ]
        },
        {
          "output_type": "stream",
          "name": "stdout",
          "text": [
            "                   all         30         35      0.864        0.4      0.564       0.38\n"
          ]
        },
        {
          "output_type": "stream",
          "name": "stderr",
          "text": [
            "\n"
          ]
        },
        {
          "output_type": "stream",
          "name": "stdout",
          "text": [
            "\n",
            "      Epoch    GPU_mem   box_loss   cls_loss   dfl_loss  Instances       Size\n"
          ]
        },
        {
          "output_type": "stream",
          "name": "stderr",
          "text": [
            "    211/300      3.33G      1.289     0.7369     0.9087         21        800: 100%|██████████| 21/21 [00:09<00:00,  2.26it/s]\n",
            "                 Class     Images  Instances      Box(P          R      mAP50  mAP50-95): 100%|██████████| 1/1 [00:00<00:00,  2.26it/s]"
          ]
        },
        {
          "output_type": "stream",
          "name": "stdout",
          "text": [
            "                   all         30         35      0.687      0.571      0.597      0.402\n"
          ]
        },
        {
          "output_type": "stream",
          "name": "stderr",
          "text": [
            "\n"
          ]
        },
        {
          "output_type": "stream",
          "name": "stdout",
          "text": [
            "\n",
            "      Epoch    GPU_mem   box_loss   cls_loss   dfl_loss  Instances       Size\n"
          ]
        },
        {
          "output_type": "stream",
          "name": "stderr",
          "text": [
            "    212/300      3.37G      1.262     0.7258     0.9282          9        800: 100%|██████████| 21/21 [00:07<00:00,  2.68it/s]\n",
            "                 Class     Images  Instances      Box(P          R      mAP50  mAP50-95): 100%|██████████| 1/1 [00:00<00:00,  2.39it/s]"
          ]
        },
        {
          "output_type": "stream",
          "name": "stdout",
          "text": [
            "                   all         30         35      0.558      0.629      0.618      0.425\n"
          ]
        },
        {
          "output_type": "stream",
          "name": "stderr",
          "text": [
            "\n"
          ]
        },
        {
          "output_type": "stream",
          "name": "stdout",
          "text": [
            "\n",
            "      Epoch    GPU_mem   box_loss   cls_loss   dfl_loss  Instances       Size\n"
          ]
        },
        {
          "output_type": "stream",
          "name": "stderr",
          "text": [
            "    213/300      3.28G      1.172      0.715     0.9153          1        800: 100%|██████████| 21/21 [00:07<00:00,  2.67it/s]\n",
            "                 Class     Images  Instances      Box(P          R      mAP50  mAP50-95): 100%|██████████| 1/1 [00:00<00:00,  2.69it/s]"
          ]
        },
        {
          "output_type": "stream",
          "name": "stdout",
          "text": [
            "                   all         30         35      0.503      0.514      0.486      0.349\n"
          ]
        },
        {
          "output_type": "stream",
          "name": "stderr",
          "text": [
            "\n"
          ]
        },
        {
          "output_type": "stream",
          "name": "stdout",
          "text": [
            "\n",
            "      Epoch    GPU_mem   box_loss   cls_loss   dfl_loss  Instances       Size\n"
          ]
        },
        {
          "output_type": "stream",
          "name": "stderr",
          "text": [
            "    214/300      3.29G      1.288     0.7396     0.9252         21        800: 100%|██████████| 21/21 [00:09<00:00,  2.31it/s]\n",
            "                 Class     Images  Instances      Box(P          R      mAP50  mAP50-95): 100%|██████████| 1/1 [00:00<00:00,  2.62it/s]"
          ]
        },
        {
          "output_type": "stream",
          "name": "stdout",
          "text": [
            "                   all         30         35      0.723      0.543      0.635      0.438\n"
          ]
        },
        {
          "output_type": "stream",
          "name": "stderr",
          "text": [
            "\n"
          ]
        },
        {
          "output_type": "stream",
          "name": "stdout",
          "text": [
            "\n",
            "      Epoch    GPU_mem   box_loss   cls_loss   dfl_loss  Instances       Size\n"
          ]
        },
        {
          "output_type": "stream",
          "name": "stderr",
          "text": [
            "    215/300      3.34G      1.298     0.7061     0.9264          3        800: 100%|██████████| 21/21 [00:09<00:00,  2.31it/s]\n",
            "                 Class     Images  Instances      Box(P          R      mAP50  mAP50-95): 100%|██████████| 1/1 [00:00<00:00,  3.25it/s]"
          ]
        },
        {
          "output_type": "stream",
          "name": "stdout",
          "text": [
            "                   all         30         35      0.565      0.657      0.659      0.462\n"
          ]
        },
        {
          "output_type": "stream",
          "name": "stderr",
          "text": [
            "\n"
          ]
        },
        {
          "output_type": "stream",
          "name": "stdout",
          "text": [
            "\n",
            "      Epoch    GPU_mem   box_loss   cls_loss   dfl_loss  Instances       Size\n"
          ]
        },
        {
          "output_type": "stream",
          "name": "stderr",
          "text": [
            "    216/300      3.32G      1.154     0.7371     0.8828          0        800: 100%|██████████| 21/21 [00:07<00:00,  2.82it/s]\n",
            "                 Class     Images  Instances      Box(P          R      mAP50  mAP50-95): 100%|██████████| 1/1 [00:00<00:00,  1.86it/s]"
          ]
        },
        {
          "output_type": "stream",
          "name": "stdout",
          "text": [
            "                   all         30         35       0.95      0.543      0.746       0.51\n"
          ]
        },
        {
          "output_type": "stream",
          "name": "stderr",
          "text": [
            "\n"
          ]
        },
        {
          "output_type": "stream",
          "name": "stdout",
          "text": [
            "\n",
            "      Epoch    GPU_mem   box_loss   cls_loss   dfl_loss  Instances       Size\n"
          ]
        },
        {
          "output_type": "stream",
          "name": "stderr",
          "text": [
            "    217/300      3.31G      1.323     0.7451     0.9491          5        800: 100%|██████████| 21/21 [00:08<00:00,  2.49it/s]\n",
            "                 Class     Images  Instances      Box(P          R      mAP50  mAP50-95): 100%|██████████| 1/1 [00:00<00:00,  2.48it/s]"
          ]
        },
        {
          "output_type": "stream",
          "name": "stdout",
          "text": [
            "                   all         30         35       0.92        0.4      0.602      0.426\n"
          ]
        },
        {
          "output_type": "stream",
          "name": "stderr",
          "text": [
            "\n"
          ]
        },
        {
          "output_type": "stream",
          "name": "stdout",
          "text": [
            "\n",
            "      Epoch    GPU_mem   box_loss   cls_loss   dfl_loss  Instances       Size\n"
          ]
        },
        {
          "output_type": "stream",
          "name": "stderr",
          "text": [
            "    218/300      3.33G      1.332       1.03     0.9613          3        800: 100%|██████████| 21/21 [00:09<00:00,  2.29it/s]\n",
            "                 Class     Images  Instances      Box(P          R      mAP50  mAP50-95): 100%|██████████| 1/1 [00:00<00:00,  2.57it/s]"
          ]
        },
        {
          "output_type": "stream",
          "name": "stdout",
          "text": [
            "                   all         30         35      0.519      0.571       0.55      0.375\n"
          ]
        },
        {
          "output_type": "stream",
          "name": "stderr",
          "text": [
            "\n"
          ]
        },
        {
          "output_type": "stream",
          "name": "stdout",
          "text": [
            "\n",
            "      Epoch    GPU_mem   box_loss   cls_loss   dfl_loss  Instances       Size\n"
          ]
        },
        {
          "output_type": "stream",
          "name": "stderr",
          "text": [
            "    219/300      3.33G      1.227     0.6927     0.9241          4        800: 100%|██████████| 21/21 [00:09<00:00,  2.31it/s]\n",
            "                 Class     Images  Instances      Box(P          R      mAP50  mAP50-95): 100%|██████████| 1/1 [00:00<00:00,  3.96it/s]"
          ]
        },
        {
          "output_type": "stream",
          "name": "stdout",
          "text": [
            "                   all         30         35      0.593      0.542      0.535      0.379\n"
          ]
        },
        {
          "output_type": "stream",
          "name": "stderr",
          "text": [
            "\n"
          ]
        },
        {
          "output_type": "stream",
          "name": "stdout",
          "text": [
            "\n",
            "      Epoch    GPU_mem   box_loss   cls_loss   dfl_loss  Instances       Size\n"
          ]
        },
        {
          "output_type": "stream",
          "name": "stderr",
          "text": [
            "    220/300      3.33G      1.215     0.7419      0.938          2        800: 100%|██████████| 21/21 [00:07<00:00,  2.73it/s]\n",
            "                 Class     Images  Instances      Box(P          R      mAP50  mAP50-95): 100%|██████████| 1/1 [00:00<00:00,  2.30it/s]"
          ]
        },
        {
          "output_type": "stream",
          "name": "stdout",
          "text": [
            "                   all         30         35       0.87      0.429      0.586      0.421\n"
          ]
        },
        {
          "output_type": "stream",
          "name": "stderr",
          "text": [
            "\n"
          ]
        },
        {
          "output_type": "stream",
          "name": "stdout",
          "text": [
            "\n",
            "      Epoch    GPU_mem   box_loss   cls_loss   dfl_loss  Instances       Size\n"
          ]
        },
        {
          "output_type": "stream",
          "name": "stderr",
          "text": [
            "    221/300      3.34G      1.283     0.7491      0.957          4        800: 100%|██████████| 21/21 [00:08<00:00,  2.58it/s]\n",
            "                 Class     Images  Instances      Box(P          R      mAP50  mAP50-95): 100%|██████████| 1/1 [00:00<00:00,  2.24it/s]"
          ]
        },
        {
          "output_type": "stream",
          "name": "stdout",
          "text": [
            "                   all         30         35        0.6        0.4      0.477      0.328\n"
          ]
        },
        {
          "output_type": "stream",
          "name": "stderr",
          "text": [
            "\n"
          ]
        },
        {
          "output_type": "stream",
          "name": "stdout",
          "text": [
            "\n",
            "      Epoch    GPU_mem   box_loss   cls_loss   dfl_loss  Instances       Size\n"
          ]
        },
        {
          "output_type": "stream",
          "name": "stderr",
          "text": [
            "    222/300      3.38G      1.284     0.7287     0.9444          2        800: 100%|██████████| 21/21 [00:09<00:00,  2.22it/s]\n",
            "                 Class     Images  Instances      Box(P          R      mAP50  mAP50-95): 100%|██████████| 1/1 [00:00<00:00,  2.32it/s]"
          ]
        },
        {
          "output_type": "stream",
          "name": "stdout",
          "text": [
            "                   all         30         35      0.598      0.571      0.529      0.365\n"
          ]
        },
        {
          "output_type": "stream",
          "name": "stderr",
          "text": [
            "\n"
          ]
        },
        {
          "output_type": "stream",
          "name": "stdout",
          "text": [
            "\n",
            "      Epoch    GPU_mem   box_loss   cls_loss   dfl_loss  Instances       Size\n"
          ]
        },
        {
          "output_type": "stream",
          "name": "stderr",
          "text": [
            "    223/300      3.39G      1.299     0.7571     0.9155         12        800: 100%|██████████| 21/21 [00:08<00:00,  2.35it/s]\n",
            "                 Class     Images  Instances      Box(P          R      mAP50  mAP50-95): 100%|██████████| 1/1 [00:00<00:00,  2.35it/s]"
          ]
        },
        {
          "output_type": "stream",
          "name": "stdout",
          "text": [
            "                   all         30         35      0.707      0.689      0.717      0.478\n"
          ]
        },
        {
          "output_type": "stream",
          "name": "stderr",
          "text": [
            "\n"
          ]
        },
        {
          "output_type": "stream",
          "name": "stdout",
          "text": [
            "\n",
            "      Epoch    GPU_mem   box_loss   cls_loss   dfl_loss  Instances       Size\n"
          ]
        },
        {
          "output_type": "stream",
          "name": "stderr",
          "text": [
            "    224/300      3.41G      1.216      0.706     0.9292         11        800: 100%|██████████| 21/21 [00:07<00:00,  2.65it/s]\n",
            "                 Class     Images  Instances      Box(P          R      mAP50  mAP50-95): 100%|██████████| 1/1 [00:00<00:00,  4.24it/s]"
          ]
        },
        {
          "output_type": "stream",
          "name": "stdout",
          "text": [
            "                   all         30         35      0.829      0.693      0.799      0.508\n"
          ]
        },
        {
          "output_type": "stream",
          "name": "stderr",
          "text": [
            "\n"
          ]
        },
        {
          "output_type": "stream",
          "name": "stdout",
          "text": [
            "\n",
            "      Epoch    GPU_mem   box_loss   cls_loss   dfl_loss  Instances       Size\n"
          ]
        },
        {
          "output_type": "stream",
          "name": "stderr",
          "text": [
            "    225/300      3.34G       1.27     0.7109     0.9259         18        800: 100%|██████████| 21/21 [00:08<00:00,  2.46it/s]\n",
            "                 Class     Images  Instances      Box(P          R      mAP50  mAP50-95): 100%|██████████| 1/1 [00:00<00:00,  2.98it/s]"
          ]
        },
        {
          "output_type": "stream",
          "name": "stdout",
          "text": [
            "                   all         30         35      0.709      0.714      0.745      0.495\n"
          ]
        },
        {
          "output_type": "stream",
          "name": "stderr",
          "text": [
            "\n"
          ]
        },
        {
          "output_type": "stream",
          "name": "stdout",
          "text": [
            "\n",
            "      Epoch    GPU_mem   box_loss   cls_loss   dfl_loss  Instances       Size\n"
          ]
        },
        {
          "output_type": "stream",
          "name": "stderr",
          "text": [
            "    226/300      3.37G      1.245     0.7807     0.9165          6        800: 100%|██████████| 21/21 [00:09<00:00,  2.24it/s]\n",
            "                 Class     Images  Instances      Box(P          R      mAP50  mAP50-95): 100%|██████████| 1/1 [00:00<00:00,  2.95it/s]"
          ]
        },
        {
          "output_type": "stream",
          "name": "stdout",
          "text": [
            "                   all         30         35      0.744      0.629      0.685      0.467\n"
          ]
        },
        {
          "output_type": "stream",
          "name": "stderr",
          "text": [
            "\n"
          ]
        },
        {
          "output_type": "stream",
          "name": "stdout",
          "text": [
            "\n",
            "      Epoch    GPU_mem   box_loss   cls_loss   dfl_loss  Instances       Size\n"
          ]
        },
        {
          "output_type": "stream",
          "name": "stderr",
          "text": [
            "    227/300      3.32G      1.265     0.7387     0.9253          4        800: 100%|██████████| 21/21 [00:09<00:00,  2.29it/s]\n",
            "                 Class     Images  Instances      Box(P          R      mAP50  mAP50-95): 100%|██████████| 1/1 [00:00<00:00,  2.73it/s]"
          ]
        },
        {
          "output_type": "stream",
          "name": "stdout",
          "text": [
            "                   all         30         35      0.866      0.554      0.669      0.468\n"
          ]
        },
        {
          "output_type": "stream",
          "name": "stderr",
          "text": [
            "\n"
          ]
        },
        {
          "output_type": "stream",
          "name": "stdout",
          "text": [
            "\n",
            "      Epoch    GPU_mem   box_loss   cls_loss   dfl_loss  Instances       Size\n"
          ]
        },
        {
          "output_type": "stream",
          "name": "stderr",
          "text": [
            "    228/300       3.4G       1.29      0.728     0.9111          8        800: 100%|██████████| 21/21 [00:07<00:00,  2.72it/s]\n",
            "                 Class     Images  Instances      Box(P          R      mAP50  mAP50-95): 100%|██████████| 1/1 [00:00<00:00,  2.34it/s]"
          ]
        },
        {
          "output_type": "stream",
          "name": "stdout",
          "text": [
            "                   all         30         35      0.769        0.6      0.676      0.439\n"
          ]
        },
        {
          "output_type": "stream",
          "name": "stderr",
          "text": [
            "\n"
          ]
        },
        {
          "output_type": "stream",
          "name": "stdout",
          "text": [
            "\n",
            "      Epoch    GPU_mem   box_loss   cls_loss   dfl_loss  Instances       Size\n"
          ]
        },
        {
          "output_type": "stream",
          "name": "stderr",
          "text": [
            "    229/300      3.31G      1.269     0.7341      0.938          8        800: 100%|██████████| 21/21 [00:07<00:00,  2.63it/s]\n",
            "                 Class     Images  Instances      Box(P          R      mAP50  mAP50-95): 100%|██████████| 1/1 [00:00<00:00,  2.63it/s]"
          ]
        },
        {
          "output_type": "stream",
          "name": "stdout",
          "text": [
            "                   all         30         35      0.683      0.617       0.65      0.431\n"
          ]
        },
        {
          "output_type": "stream",
          "name": "stderr",
          "text": [
            "\n"
          ]
        },
        {
          "output_type": "stream",
          "name": "stdout",
          "text": [
            "\n",
            "      Epoch    GPU_mem   box_loss   cls_loss   dfl_loss  Instances       Size\n"
          ]
        },
        {
          "output_type": "stream",
          "name": "stderr",
          "text": [
            "    230/300      3.43G      1.247     0.7135     0.9326          4        800: 100%|██████████| 21/21 [00:09<00:00,  2.25it/s]\n",
            "                 Class     Images  Instances      Box(P          R      mAP50  mAP50-95): 100%|██████████| 1/1 [00:00<00:00,  3.25it/s]"
          ]
        },
        {
          "output_type": "stream",
          "name": "stdout",
          "text": [
            "                   all         30         35      0.699      0.686      0.721      0.484\n"
          ]
        },
        {
          "output_type": "stream",
          "name": "stderr",
          "text": [
            "\n"
          ]
        },
        {
          "output_type": "stream",
          "name": "stdout",
          "text": [
            "\n",
            "      Epoch    GPU_mem   box_loss   cls_loss   dfl_loss  Instances       Size\n"
          ]
        },
        {
          "output_type": "stream",
          "name": "stderr",
          "text": [
            "    231/300      3.34G      1.281     0.7426     0.9176          5        800: 100%|██████████| 21/21 [00:09<00:00,  2.21it/s]\n",
            "                 Class     Images  Instances      Box(P          R      mAP50  mAP50-95): 100%|██████████| 1/1 [00:00<00:00,  2.46it/s]"
          ]
        },
        {
          "output_type": "stream",
          "name": "stdout",
          "text": [
            "                   all         30         35      0.807      0.599      0.728      0.477\n"
          ]
        },
        {
          "output_type": "stream",
          "name": "stderr",
          "text": [
            "\n"
          ]
        },
        {
          "output_type": "stream",
          "name": "stdout",
          "text": [
            "\n",
            "      Epoch    GPU_mem   box_loss   cls_loss   dfl_loss  Instances       Size\n"
          ]
        },
        {
          "output_type": "stream",
          "name": "stderr",
          "text": [
            "    232/300      3.47G       1.16     0.6654     0.9052          8        800: 100%|██████████| 21/21 [00:07<00:00,  2.63it/s]\n",
            "                 Class     Images  Instances      Box(P          R      mAP50  mAP50-95): 100%|██████████| 1/1 [00:00<00:00,  2.03it/s]"
          ]
        },
        {
          "output_type": "stream",
          "name": "stdout",
          "text": [
            "                   all         30         35      0.786      0.714      0.787      0.513\n"
          ]
        },
        {
          "output_type": "stream",
          "name": "stderr",
          "text": [
            "\n"
          ]
        },
        {
          "output_type": "stream",
          "name": "stdout",
          "text": [
            "\n",
            "      Epoch    GPU_mem   box_loss   cls_loss   dfl_loss  Instances       Size\n"
          ]
        },
        {
          "output_type": "stream",
          "name": "stderr",
          "text": [
            "    233/300      3.28G      1.245     0.6983     0.9214         12        800: 100%|██████████| 21/21 [00:08<00:00,  2.58it/s]\n",
            "                 Class     Images  Instances      Box(P          R      mAP50  mAP50-95): 100%|██████████| 1/1 [00:00<00:00,  2.86it/s]"
          ]
        },
        {
          "output_type": "stream",
          "name": "stdout",
          "text": [
            "                   all         30         35      0.594        0.6      0.639      0.417\n"
          ]
        },
        {
          "output_type": "stream",
          "name": "stderr",
          "text": [
            "\n"
          ]
        },
        {
          "output_type": "stream",
          "name": "stdout",
          "text": [
            "\n",
            "      Epoch    GPU_mem   box_loss   cls_loss   dfl_loss  Instances       Size\n"
          ]
        },
        {
          "output_type": "stream",
          "name": "stderr",
          "text": [
            "    234/300      3.36G        1.2     0.6486     0.9194          3        800: 100%|██████████| 21/21 [00:09<00:00,  2.25it/s]\n",
            "                 Class     Images  Instances      Box(P          R      mAP50  mAP50-95): 100%|██████████| 1/1 [00:00<00:00,  2.32it/s]"
          ]
        },
        {
          "output_type": "stream",
          "name": "stdout",
          "text": [
            "                   all         30         35      0.632      0.639       0.66       0.44\n"
          ]
        },
        {
          "output_type": "stream",
          "name": "stderr",
          "text": [
            "\n"
          ]
        },
        {
          "output_type": "stream",
          "name": "stdout",
          "text": [
            "\n",
            "      Epoch    GPU_mem   box_loss   cls_loss   dfl_loss  Instances       Size\n"
          ]
        },
        {
          "output_type": "stream",
          "name": "stderr",
          "text": [
            "    235/300      3.33G      1.212     0.6927     0.9109          4        800: 100%|██████████| 21/21 [00:09<00:00,  2.25it/s]\n",
            "                 Class     Images  Instances      Box(P          R      mAP50  mAP50-95): 100%|██████████| 1/1 [00:00<00:00,  2.35it/s]"
          ]
        },
        {
          "output_type": "stream",
          "name": "stdout",
          "text": [
            "                   all         30         35      0.762      0.549       0.65      0.434\n"
          ]
        },
        {
          "output_type": "stream",
          "name": "stderr",
          "text": [
            "\n"
          ]
        },
        {
          "output_type": "stream",
          "name": "stdout",
          "text": [
            "\n",
            "      Epoch    GPU_mem   box_loss   cls_loss   dfl_loss  Instances       Size\n"
          ]
        },
        {
          "output_type": "stream",
          "name": "stderr",
          "text": [
            "    236/300      3.47G      1.334     0.7078     0.9594          7        800: 100%|██████████| 21/21 [00:08<00:00,  2.55it/s]\n",
            "                 Class     Images  Instances      Box(P          R      mAP50  mAP50-95): 100%|██████████| 1/1 [00:00<00:00,  2.05it/s]"
          ]
        },
        {
          "output_type": "stream",
          "name": "stdout",
          "text": [
            "                   all         30         35      0.948      0.543      0.697      0.454\n"
          ]
        },
        {
          "output_type": "stream",
          "name": "stderr",
          "text": [
            "\n"
          ]
        },
        {
          "output_type": "stream",
          "name": "stdout",
          "text": [
            "\n",
            "      Epoch    GPU_mem   box_loss   cls_loss   dfl_loss  Instances       Size\n"
          ]
        },
        {
          "output_type": "stream",
          "name": "stderr",
          "text": [
            "    237/300       3.3G      1.231     0.6841     0.9576         12        800: 100%|██████████| 21/21 [00:08<00:00,  2.61it/s]\n",
            "                 Class     Images  Instances      Box(P          R      mAP50  mAP50-95): 100%|██████████| 1/1 [00:00<00:00,  2.47it/s]"
          ]
        },
        {
          "output_type": "stream",
          "name": "stdout",
          "text": [
            "                   all         30         35      0.881      0.514      0.655      0.414\n"
          ]
        },
        {
          "output_type": "stream",
          "name": "stderr",
          "text": [
            "\n"
          ]
        },
        {
          "output_type": "stream",
          "name": "stdout",
          "text": [
            "\n",
            "      Epoch    GPU_mem   box_loss   cls_loss   dfl_loss  Instances       Size\n"
          ]
        },
        {
          "output_type": "stream",
          "name": "stderr",
          "text": [
            "    238/300      3.33G      1.176     0.7087     0.9054          9        800: 100%|██████████| 21/21 [00:09<00:00,  2.32it/s]\n",
            "                 Class     Images  Instances      Box(P          R      mAP50  mAP50-95): 100%|██████████| 1/1 [00:00<00:00,  2.42it/s]"
          ]
        },
        {
          "output_type": "stream",
          "name": "stdout",
          "text": [
            "                   all         30         35      0.898      0.457      0.601      0.362\n"
          ]
        },
        {
          "output_type": "stream",
          "name": "stderr",
          "text": [
            "\n"
          ]
        },
        {
          "output_type": "stream",
          "name": "stdout",
          "text": [
            "\n",
            "      Epoch    GPU_mem   box_loss   cls_loss   dfl_loss  Instances       Size\n"
          ]
        },
        {
          "output_type": "stream",
          "name": "stderr",
          "text": [
            "    239/300      3.44G      1.272     0.7467      0.949          8        800: 100%|██████████| 21/21 [00:09<00:00,  2.24it/s]\n",
            "                 Class     Images  Instances      Box(P          R      mAP50  mAP50-95): 100%|██████████| 1/1 [00:00<00:00,  3.31it/s]"
          ]
        },
        {
          "output_type": "stream",
          "name": "stdout",
          "text": [
            "                   all         30         35       0.88      0.457       0.63      0.396\n"
          ]
        },
        {
          "output_type": "stream",
          "name": "stderr",
          "text": [
            "\n"
          ]
        },
        {
          "output_type": "stream",
          "name": "stdout",
          "text": [
            "\n",
            "      Epoch    GPU_mem   box_loss   cls_loss   dfl_loss  Instances       Size\n"
          ]
        },
        {
          "output_type": "stream",
          "name": "stderr",
          "text": [
            "    240/300      3.32G      1.197     0.6811     0.9212          1        800: 100%|██████████| 21/21 [00:08<00:00,  2.58it/s]\n",
            "                 Class     Images  Instances      Box(P          R      mAP50  mAP50-95): 100%|██████████| 1/1 [00:00<00:00,  2.01it/s]"
          ]
        },
        {
          "output_type": "stream",
          "name": "stdout",
          "text": [
            "                   all         30         35      0.682      0.797      0.743      0.483\n"
          ]
        },
        {
          "output_type": "stream",
          "name": "stderr",
          "text": [
            "\n"
          ]
        },
        {
          "output_type": "stream",
          "name": "stdout",
          "text": [
            "\n",
            "      Epoch    GPU_mem   box_loss   cls_loss   dfl_loss  Instances       Size\n"
          ]
        },
        {
          "output_type": "stream",
          "name": "stderr",
          "text": [
            "    241/300      3.48G      1.292     0.7913     0.9182          8        800: 100%|██████████| 21/21 [00:07<00:00,  2.77it/s]\n",
            "                 Class     Images  Instances      Box(P          R      mAP50  mAP50-95): 100%|██████████| 1/1 [00:00<00:00,  2.88it/s]"
          ]
        },
        {
          "output_type": "stream",
          "name": "stdout",
          "text": [
            "                   all         30         35      0.594      0.771      0.704      0.442\n"
          ]
        },
        {
          "output_type": "stream",
          "name": "stderr",
          "text": [
            "\n"
          ]
        },
        {
          "output_type": "stream",
          "name": "stdout",
          "text": [
            "\n",
            "      Epoch    GPU_mem   box_loss   cls_loss   dfl_loss  Instances       Size\n"
          ]
        },
        {
          "output_type": "stream",
          "name": "stderr",
          "text": [
            "    242/300      3.32G      1.296     0.7747     0.9303          4        800: 100%|██████████| 21/21 [00:09<00:00,  2.25it/s]\n",
            "                 Class     Images  Instances      Box(P          R      mAP50  mAP50-95): 100%|██████████| 1/1 [00:00<00:00,  2.53it/s]"
          ]
        },
        {
          "output_type": "stream",
          "name": "stdout",
          "text": [
            "                   all         30         35      0.583      0.657      0.652      0.408\n"
          ]
        },
        {
          "output_type": "stream",
          "name": "stderr",
          "text": [
            "\n"
          ]
        },
        {
          "output_type": "stream",
          "name": "stdout",
          "text": [
            "\n",
            "      Epoch    GPU_mem   box_loss   cls_loss   dfl_loss  Instances       Size\n"
          ]
        },
        {
          "output_type": "stream",
          "name": "stderr",
          "text": [
            "    243/300      3.32G      1.275     0.8048     0.8943          2        800: 100%|██████████| 21/21 [00:08<00:00,  2.37it/s]\n",
            "                 Class     Images  Instances      Box(P          R      mAP50  mAP50-95): 100%|██████████| 1/1 [00:00<00:00,  2.76it/s]"
          ]
        },
        {
          "output_type": "stream",
          "name": "stdout",
          "text": [
            "                   all         30         35      0.661      0.447       0.53      0.354\n"
          ]
        },
        {
          "output_type": "stream",
          "name": "stderr",
          "text": [
            "\n"
          ]
        },
        {
          "output_type": "stream",
          "name": "stdout",
          "text": [
            "\n",
            "      Epoch    GPU_mem   box_loss   cls_loss   dfl_loss  Instances       Size\n"
          ]
        },
        {
          "output_type": "stream",
          "name": "stderr",
          "text": [
            "    244/300      3.33G      1.264     0.7131      0.921          7        800: 100%|██████████| 21/21 [00:08<00:00,  2.50it/s]\n",
            "                 Class     Images  Instances      Box(P          R      mAP50  mAP50-95): 100%|██████████| 1/1 [00:00<00:00,  2.62it/s]"
          ]
        },
        {
          "output_type": "stream",
          "name": "stdout",
          "text": [
            "                   all         30         35      0.627      0.486      0.579      0.368\n"
          ]
        },
        {
          "output_type": "stream",
          "name": "stderr",
          "text": [
            "\n"
          ]
        },
        {
          "output_type": "stream",
          "name": "stdout",
          "text": [
            "\n",
            "      Epoch    GPU_mem   box_loss   cls_loss   dfl_loss  Instances       Size\n"
          ]
        },
        {
          "output_type": "stream",
          "name": "stderr",
          "text": [
            "    245/300      3.39G      1.278     0.7635     0.9693          1        800: 100%|██████████| 21/21 [00:07<00:00,  2.73it/s]\n",
            "                 Class     Images  Instances      Box(P          R      mAP50  mAP50-95): 100%|██████████| 1/1 [00:00<00:00,  3.14it/s]"
          ]
        },
        {
          "output_type": "stream",
          "name": "stdout",
          "text": [
            "                   all         30         35      0.593      0.429      0.528      0.336\n"
          ]
        },
        {
          "output_type": "stream",
          "name": "stderr",
          "text": [
            "\n"
          ]
        },
        {
          "output_type": "stream",
          "name": "stdout",
          "text": [
            "\n",
            "      Epoch    GPU_mem   box_loss   cls_loss   dfl_loss  Instances       Size\n"
          ]
        },
        {
          "output_type": "stream",
          "name": "stderr",
          "text": [
            "    246/300      3.33G      1.274      0.785     0.9217          1        800: 100%|██████████| 21/21 [00:09<00:00,  2.32it/s]\n",
            "                 Class     Images  Instances      Box(P          R      mAP50  mAP50-95): 100%|██████████| 1/1 [00:00<00:00,  2.78it/s]"
          ]
        },
        {
          "output_type": "stream",
          "name": "stdout",
          "text": [
            "                   all         30         35      0.691      0.486       0.58      0.362\n"
          ]
        },
        {
          "output_type": "stream",
          "name": "stderr",
          "text": [
            "\n"
          ]
        },
        {
          "output_type": "stream",
          "name": "stdout",
          "text": [
            "\n",
            "      Epoch    GPU_mem   box_loss   cls_loss   dfl_loss  Instances       Size\n"
          ]
        },
        {
          "output_type": "stream",
          "name": "stderr",
          "text": [
            "    247/300      3.37G      1.184     0.6984     0.8867          1        800: 100%|██████████| 21/21 [00:09<00:00,  2.28it/s]\n",
            "                 Class     Images  Instances      Box(P          R      mAP50  mAP50-95): 100%|██████████| 1/1 [00:00<00:00,  2.81it/s]"
          ]
        },
        {
          "output_type": "stream",
          "name": "stdout",
          "text": [
            "                   all         30         35      0.574      0.771      0.678      0.418\n"
          ]
        },
        {
          "output_type": "stream",
          "name": "stderr",
          "text": [
            "\n"
          ]
        },
        {
          "output_type": "stream",
          "name": "stdout",
          "text": [
            "\n",
            "      Epoch    GPU_mem   box_loss   cls_loss   dfl_loss  Instances       Size\n"
          ]
        },
        {
          "output_type": "stream",
          "name": "stderr",
          "text": [
            "    248/300      3.33G      1.195     0.6799     0.9069          4        800: 100%|██████████| 21/21 [00:08<00:00,  2.55it/s]\n",
            "                 Class     Images  Instances      Box(P          R      mAP50  mAP50-95): 100%|██████████| 1/1 [00:00<00:00,  1.83it/s]"
          ]
        },
        {
          "output_type": "stream",
          "name": "stdout",
          "text": [
            "                   all         30         35      0.872      0.486      0.639      0.409\n",
            "\u001b[34m\u001b[1mEarlyStopping: \u001b[0mTraining stopped early as no improvement observed in last 100 epochs. Best results observed at epoch 148, best model saved as best.pt.\n",
            "To update EarlyStopping(patience=100) pass a new patience value, i.e. `patience=300` or use `patience=0` to disable EarlyStopping.\n"
          ]
        },
        {
          "output_type": "stream",
          "name": "stderr",
          "text": [
            "\n"
          ]
        },
        {
          "output_type": "stream",
          "name": "stdout",
          "text": [
            "\n",
            "248 epochs completed in 0.730 hours.\n",
            "Optimizer stripped from runs/detect/train/weights/last.pt, 6.3MB\n",
            "Optimizer stripped from runs/detect/train/weights/best.pt, 6.3MB\n",
            "\n",
            "Validating runs/detect/train/weights/best.pt...\n",
            "Ultralytics 8.3.75 🚀 Python-3.11.11 torch-2.5.1+cu124 CUDA:0 (Tesla T4, 15095MiB)\n",
            "Model summary (fused): 168 layers, 3,005,843 parameters, 0 gradients, 8.1 GFLOPs\n"
          ]
        },
        {
          "output_type": "stream",
          "name": "stderr",
          "text": [
            "                 Class     Images  Instances      Box(P          R      mAP50  mAP50-95): 100%|██████████| 1/1 [00:00<00:00,  4.42it/s]\n"
          ]
        },
        {
          "output_type": "stream",
          "name": "stdout",
          "text": [
            "                   all         30         35      0.954      0.629      0.793      0.556\n",
            "Speed: 0.4ms preprocess, 3.4ms inference, 0.0ms loss, 0.9ms postprocess per image\n",
            "Results saved to \u001b[1mruns/detect/train\u001b[0m\n"
          ]
        }
      ],
      "source": [
        "from ultralytics import YOLO\n",
        "\n",
        "model = YOLO(\"/content/drive/My Drive/data800/data800/yolov8n.pt\")  # load a pretrained model (recommended for training)\n",
        "trainer = model.train(data=\"/content/drive/My Drive/data800/data800/data-gray.yaml\", imgsz=800, epochs=300, device=\"cuda\", lr0=0.007, optimizer='AdamW', weight_decay=0.000008)  # train the model\n"
      ]
    },
    {
      "cell_type": "code",
      "source": [
        "os.listdir()"
      ],
      "metadata": {
        "id": "rsmIFgbA0o9I",
        "outputId": "07201bc8-56a2-4abf-e296-564a70fedec3",
        "colab": {
          "base_uri": "https://localhost:8080/"
        }
      },
      "execution_count": null,
      "outputs": [
        {
          "output_type": "execute_result",
          "data": {
            "text/plain": [
              "['.config', 'yolo11n.pt', 'runs', 'drive', 'sample_data']"
            ]
          },
          "metadata": {},
          "execution_count": 5
        }
      ]
    },
    {
      "cell_type": "code",
      "execution_count": 2,
      "metadata": {
        "colab": {
          "base_uri": "https://localhost:8080/"
        },
        "id": "b0g-tYsgNWAJ",
        "outputId": "80aae60e-b9f2-4dd4-ecbe-b0c1446e7356"
      },
      "outputs": [
        {
          "output_type": "stream",
          "name": "stdout",
          "text": [
            "Ultralytics 8.3.75 🚀 Python-3.11.11 torch-2.5.1+cu124 CUDA:0 (Tesla T4, 15095MiB)\n",
            "Model summary (fused): 168 layers, 3,005,843 parameters, 0 gradients, 8.1 GFLOPs\n"
          ]
        },
        {
          "output_type": "stream",
          "name": "stderr",
          "text": [
            "\u001b[34m\u001b[1mval: \u001b[0mScanning /content/drive/My Drive/data800/data800-gray/val/labels.cache... 30 images, 19 backgrounds, 0 corrupt: 100%|██████████| 30/30 [00:00<?, ?it/s]\n",
            "                 Class     Images  Instances      Box(P          R      mAP50  mAP50-95): 100%|██████████| 2/2 [00:01<00:00,  1.24it/s]\n"
          ]
        },
        {
          "output_type": "stream",
          "name": "stdout",
          "text": [
            "                   all         30         35      0.954      0.629      0.789      0.556\n",
            "Speed: 7.6ms preprocess, 11.6ms inference, 0.0ms loss, 1.5ms postprocess per image\n",
            "Results saved to \u001b[1mruns/detect/train2\u001b[0m\n"
          ]
        }
      ],
      "source": [
        "metrics = model.val()"
      ]
    },
    {
      "cell_type": "code",
      "execution_count": 3,
      "metadata": {
        "colab": {
          "base_uri": "https://localhost:8080/"
        },
        "id": "BHz3mB7aNWAJ",
        "outputId": "1c0f2ace-e038-4f3f-d5db-5e6a3f93ff2c"
      },
      "outputs": [
        {
          "output_type": "stream",
          "name": "stdout",
          "text": [
            "\n",
            "image 1/1 /content/drive/My Drive/data800/data800-gray/val/images/blindtest_0_0_grayscale.jpg: 800x800 6 ships, 10.6ms\n",
            "Speed: 6.9ms preprocess, 10.6ms inference, 1.8ms postprocess per image at shape (1, 3, 800, 800)\n",
            "Ultralytics 8.3.75 🚀 Python-3.11.11 torch-2.5.1+cu124 CPU (Intel Xeon 2.00GHz)\n",
            "\n",
            "\u001b[34m\u001b[1mPyTorch:\u001b[0m starting from 'runs/detect/train/weights/best.pt' with input shape (1, 3, 800, 800) BCHW and output shape(s) (1, 5, 13125) (6.0 MB)\n",
            "\u001b[31m\u001b[1mrequirements:\u001b[0m Ultralytics requirements ['onnx>=1.12.0', 'onnxslim', 'onnxruntime-gpu'] not found, attempting AutoUpdate...\n",
            "Collecting onnx>=1.12.0\n",
            "  Downloading onnx-1.17.0-cp311-cp311-manylinux_2_17_x86_64.manylinux2014_x86_64.whl.metadata (16 kB)\n",
            "Collecting onnxslim\n",
            "  Downloading onnxslim-0.1.48-py3-none-any.whl.metadata (4.6 kB)\n",
            "Collecting onnxruntime-gpu\n",
            "  Downloading onnxruntime_gpu-1.20.1-cp311-cp311-manylinux_2_27_x86_64.manylinux_2_28_x86_64.whl.metadata (4.5 kB)\n",
            "Requirement already satisfied: numpy>=1.20 in /usr/local/lib/python3.11/dist-packages (from onnx>=1.12.0) (1.26.4)\n",
            "Requirement already satisfied: protobuf>=3.20.2 in /usr/local/lib/python3.11/dist-packages (from onnx>=1.12.0) (4.25.6)\n",
            "Requirement already satisfied: sympy in /usr/local/lib/python3.11/dist-packages (from onnxslim) (1.13.1)\n",
            "Requirement already satisfied: packaging in /usr/local/lib/python3.11/dist-packages (from onnxslim) (24.2)\n",
            "Collecting coloredlogs (from onnxruntime-gpu)\n",
            "  Downloading coloredlogs-15.0.1-py2.py3-none-any.whl.metadata (12 kB)\n",
            "Requirement already satisfied: flatbuffers in /usr/local/lib/python3.11/dist-packages (from onnxruntime-gpu) (25.2.10)\n",
            "Collecting humanfriendly>=9.1 (from coloredlogs->onnxruntime-gpu)\n",
            "  Downloading humanfriendly-10.0-py2.py3-none-any.whl.metadata (9.2 kB)\n",
            "Requirement already satisfied: mpmath<1.4,>=1.1.0 in /usr/local/lib/python3.11/dist-packages (from sympy->onnxslim) (1.3.0)\n",
            "Downloading onnx-1.17.0-cp311-cp311-manylinux_2_17_x86_64.manylinux2014_x86_64.whl (16.0 MB)\n",
            "   ━━━━━━━━━━━━━━━━━━━━━━━━━━━━━━━━━━━━━━━━ 16.0/16.0 MB 265.6 MB/s eta 0:00:00\n",
            "Downloading onnxslim-0.1.48-py3-none-any.whl (142 kB)\n",
            "   ━━━━━━━━━━━━━━━━━━━━━━━━━━━━━━━━━━━━━━━━ 142.9/142.9 kB 336.4 MB/s eta 0:00:00\n",
            "Downloading onnxruntime_gpu-1.20.1-cp311-cp311-manylinux_2_27_x86_64.manylinux_2_28_x86_64.whl (291.5 MB)\n",
            "   ━━━━━━━━━━━━━━━━━━━━━━━━━━━━━━━━━━━━━━━━ 291.5/291.5 MB 201.7 MB/s eta 0:00:00\n",
            "Downloading coloredlogs-15.0.1-py2.py3-none-any.whl (46 kB)\n",
            "   ━━━━━━━━━━━━━━━━━━━━━━━━━━━━━━━━━━━━━━━━ 46.0/46.0 kB 197.1 MB/s eta 0:00:00\n",
            "Downloading humanfriendly-10.0-py2.py3-none-any.whl (86 kB)\n",
            "   ━━━━━━━━━━━━━━━━━━━━━━━━━━━━━━━━━━━━━━━━ 86.8/86.8 kB 302.8 MB/s eta 0:00:00\n",
            "Installing collected packages: onnx, humanfriendly, onnxslim, coloredlogs, onnxruntime-gpu\n",
            "Successfully installed coloredlogs-15.0.1 humanfriendly-10.0 onnx-1.17.0 onnxruntime-gpu-1.20.1 onnxslim-0.1.48\n",
            "\n",
            "\u001b[31m\u001b[1mrequirements:\u001b[0m AutoUpdate success ✅ 15.9s, installed 3 packages: ['onnx>=1.12.0', 'onnxslim', 'onnxruntime-gpu']\n",
            "\u001b[31m\u001b[1mrequirements:\u001b[0m ⚠️ \u001b[1mRestart runtime or rerun command for updates to take effect\u001b[0m\n",
            "\n",
            "\n",
            "\u001b[34m\u001b[1mONNX:\u001b[0m starting export with onnx 1.17.0 opset 17...\n",
            "\u001b[34m\u001b[1mONNX:\u001b[0m slimming with onnxslim 0.1.48...\n",
            "\u001b[34m\u001b[1mONNX:\u001b[0m export success ✅ 17.2s, saved as 'runs/detect/train/weights/best.onnx' (11.8 MB)\n",
            "\n",
            "Export complete (19.0s)\n",
            "Results saved to \u001b[1m/content/runs/detect/train/weights\u001b[0m\n",
            "Predict:         yolo predict task=detect model=runs/detect/train/weights/best.onnx imgsz=800  \n",
            "Validate:        yolo val task=detect model=runs/detect/train/weights/best.onnx imgsz=800 data=/content/drive/My Drive/data800/data800/data-gray.yaml  \n",
            "Visualize:       https://netron.app\n"
          ]
        }
      ],
      "source": [
        "results = model(\"/content/drive/My Drive/data800/data800-gray/val/images/blindtest_0_0_grayscale.jpg\")  # predict on an image\n",
        "path = model.export(format=\"onnx\", imgsz=800, opset=17)  # export the model to ONNX format"
      ]
    },
    {
      "cell_type": "code",
      "execution_count": 5,
      "metadata": {
        "id": "YqcvncHhNWAK",
        "outputId": "eccd7ce1-9e94-412c-a9d9-7a157ce57c24",
        "colab": {
          "base_uri": "https://localhost:8080/"
        }
      },
      "outputs": [
        {
          "output_type": "stream",
          "name": "stdout",
          "text": [
            "Ultralytics 8.3.75 🚀 Python-3.11.11 torch-2.5.1+cu124 CPU (Intel Xeon 2.00GHz)\n",
            "\n",
            "\u001b[34m\u001b[1mPyTorch:\u001b[0m starting from 'runs/detect/train/weights/best.pt' with input shape (1, 3, 800, 800) BCHW and output shape(s) (1, 5, 13125) (6.0 MB)\n",
            "\n",
            "\u001b[34m\u001b[1mONNX:\u001b[0m starting export with onnx 1.17.0 opset 17...\n",
            "\u001b[34m\u001b[1mONNX:\u001b[0m slimming with onnxslim 0.1.48...\n",
            "\u001b[34m\u001b[1mONNX:\u001b[0m export success ✅ 1.6s, saved as 'runs/detect/train/weights/best.onnx' (11.8 MB)\n",
            "\n",
            "Export complete (2.2s)\n",
            "Results saved to \u001b[1m/content/runs/detect/train/weights\u001b[0m\n",
            "Predict:         yolo predict task=detect model=runs/detect/train/weights/best.onnx imgsz=800  \n",
            "Validate:        yolo val task=detect model=runs/detect/train/weights/best.onnx imgsz=800 data=/content/drive/My Drive/data800/data800/data-gray.yaml  \n",
            "Visualize:       https://netron.app\n"
          ]
        }
      ],
      "source": [
        "path = model.export(format=\"onnx\", imgsz=800, opset=17)"
      ]
    },
    {
      "cell_type": "code",
      "execution_count": 6,
      "metadata": {
        "colab": {
          "base_uri": "https://localhost:8080/"
        },
        "id": "npjjq3NPNWAK",
        "outputId": "17387ebd-e198-4ccb-fad1-f22f930fb154"
      },
      "outputs": [
        {
          "output_type": "stream",
          "name": "stdout",
          "text": [
            "\n",
            "image 1/1 /content/drive/My Drive/data800/data800-gray/test/images/validation_0_6_grayscale.jpg: 800x800 14 ships, 10.2ms\n",
            "Speed: 4.3ms preprocess, 10.2ms inference, 2.0ms postprocess per image at shape (1, 3, 800, 800)\n"
          ]
        }
      ],
      "source": [
        "from ultralytics import YOLO\n",
        "model = YOLO(\"/content/runs/detect/train/weights/best.pt\")  # load a pretrained model (recommended for training)\n",
        "results = model(\"/content/drive/My Drive/data800/data800-gray/test/images/validation_0_6_grayscale.jpg\")  # predict on an image"
      ]
    },
    {
      "cell_type": "code",
      "execution_count": 7,
      "metadata": {
        "colab": {
          "base_uri": "https://localhost:8080/"
        },
        "id": "PhvJuM6HNWAK",
        "outputId": "4211272e-59a9-4e14-812e-67402fb0ca14"
      },
      "outputs": [
        {
          "output_type": "execute_result",
          "data": {
            "text/plain": [
              "['validation_0_4_grayscale.jpg',\n",
              " 'validation_1_4_grayscale.jpg',\n",
              " 'validation_1_3_grayscale.jpg',\n",
              " 'validation_2_4_grayscale.jpg',\n",
              " 'validation_2_1_grayscale.jpg',\n",
              " 'validation_0_7_grayscale.jpg',\n",
              " 'validation_3_7_grayscale.jpg',\n",
              " 'validation_1_2_grayscale.jpg',\n",
              " 'validation_4_2_grayscale.jpg',\n",
              " 'validation_4_4_grayscale.jpg',\n",
              " 'validation_3_1_grayscale.jpg',\n",
              " 'validation_2_6_grayscale.jpg',\n",
              " 'validation_4_0_grayscale.jpg',\n",
              " 'validation_2_0_grayscale.jpg',\n",
              " 'validation_0_5_grayscale.jpg',\n",
              " 'validation_3_5_grayscale.jpg',\n",
              " 'validation_1_7_grayscale.jpg',\n",
              " 'validation_3_0_grayscale.jpg',\n",
              " 'validation_1_6_grayscale.jpg',\n",
              " 'validation_3_4_grayscale.jpg',\n",
              " 'validation_0_6_grayscale.jpg',\n",
              " 'validation_3_6_grayscale.jpg',\n",
              " 'validation_2_2_grayscale.jpg',\n",
              " 'validation_1_5_grayscale.jpg',\n",
              " 'validation_3_3_grayscale.jpg',\n",
              " 'validation_3_2_grayscale.jpg',\n",
              " 'validation_5_0_grayscale.jpg',\n",
              " 'validation_4_1_grayscale.jpg',\n",
              " 'validation_2_3_grayscale.jpg',\n",
              " 'validation_4_3_grayscale.jpg',\n",
              " 'validation_2_5_grayscale.jpg',\n",
              " 'validation_2_7_grayscale.jpg',\n",
              " 'validation_4_5_grayscale.jpg',\n",
              " 'validation_6_0_grayscale.jpg',\n",
              " 'validation_5_2_grayscale.jpg',\n",
              " 'validation_5_3_grayscale.jpg',\n",
              " 'validation_5_1_grayscale.jpg']"
            ]
          },
          "metadata": {},
          "execution_count": 7
        }
      ],
      "source": [
        "import os\n",
        "os.listdir('/content/drive/My Drive/data800/data800-gray/test/images')"
      ]
    },
    {
      "cell_type": "code",
      "execution_count": 8,
      "metadata": {
        "colab": {
          "base_uri": "https://localhost:8080/",
          "height": 290
        },
        "id": "4ZbZ0JUNNWAK",
        "outputId": "da3690bf-fe7a-4492-aef4-ea66e254a490"
      },
      "outputs": [
        {
          "output_type": "stream",
          "name": "stdout",
          "text": [
            "\n",
            "image 1/1 /content/drive/My Drive/data800/data800-gray/test/images/validation_0_4_grayscale.jpg: 800x800 (no detections), 10.4ms\n",
            "Speed: 3.6ms preprocess, 10.4ms inference, 0.9ms postprocess per image at shape (1, 3, 800, 800)\n"
          ]
        },
        {
          "output_type": "error",
          "ename": "TypeError",
          "evalue": "Results.plot() got an unexpected keyword argument 'label_path'",
          "traceback": [
            "\u001b[0;31m---------------------------------------------------------------------------\u001b[0m",
            "\u001b[0;31mTypeError\u001b[0m                                 Traceback (most recent call last)",
            "\u001b[0;32m<ipython-input-8-6b797b9bc28e>\u001b[0m in \u001b[0;36m<cell line: 0>\u001b[0;34m()\u001b[0m\n\u001b[1;32m      3\u001b[0m \u001b[0;32mfor\u001b[0m \u001b[0mimage\u001b[0m \u001b[0;32min\u001b[0m \u001b[0mos\u001b[0m\u001b[0;34m.\u001b[0m\u001b[0mlistdir\u001b[0m\u001b[0;34m(\u001b[0m\u001b[0;34m'/content/drive/My Drive/data800/data800-gray/test/images'\u001b[0m\u001b[0;34m)\u001b[0m\u001b[0;34m:\u001b[0m\u001b[0;34m\u001b[0m\u001b[0;34m\u001b[0m\u001b[0m\n\u001b[1;32m      4\u001b[0m     \u001b[0mresults\u001b[0m \u001b[0;34m=\u001b[0m \u001b[0mmodel\u001b[0m\u001b[0;34m(\u001b[0m\u001b[0;34mf\"/content/drive/My Drive/data800/data800-gray/test/images/{image}\"\u001b[0m\u001b[0;34m)\u001b[0m  \u001b[0;31m# predict on an image\u001b[0m\u001b[0;34m\u001b[0m\u001b[0;34m\u001b[0m\u001b[0m\n\u001b[0;32m----> 5\u001b[0;31m     \u001b[0mresults\u001b[0m\u001b[0;34m[\u001b[0m\u001b[0;36m0\u001b[0m\u001b[0;34m]\u001b[0m\u001b[0;34m.\u001b[0m\u001b[0mplot\u001b[0m\u001b[0;34m(\u001b[0m\u001b[0msave\u001b[0m\u001b[0;34m=\u001b[0m\u001b[0;32mTrue\u001b[0m\u001b[0;34m,\u001b[0m \u001b[0mfilename\u001b[0m\u001b[0;34m=\u001b[0m\u001b[0;34mf'./testing/{image}'\u001b[0m\u001b[0;34m,\u001b[0m \u001b[0mlabel_path\u001b[0m\u001b[0;34m=\u001b[0m\u001b[0;34mf'/content/drive/My Drive/data800/data800-gray/test/labels/{image.replace(\".jpg\", \".txt\")}'\u001b[0m\u001b[0;34m)\u001b[0m  \u001b[0;31m# plot predictions\u001b[0m\u001b[0;34m\u001b[0m\u001b[0;34m\u001b[0m\u001b[0m\n\u001b[0m\u001b[1;32m      6\u001b[0m     \u001b[0mresults\u001b[0m\u001b[0;34m[\u001b[0m\u001b[0;36m0\u001b[0m\u001b[0;34m]\u001b[0m\u001b[0;34m.\u001b[0m\u001b[0msave\u001b[0m\u001b[0;34m(\u001b[0m\u001b[0;34mf'./content/drive/My Drive/data800'\u001b[0m\u001b[0;34m)\u001b[0m\u001b[0;34m\u001b[0m\u001b[0;34m\u001b[0m\u001b[0m\n",
            "\u001b[0;31mTypeError\u001b[0m: Results.plot() got an unexpected keyword argument 'label_path'"
          ]
        }
      ],
      "source": [
        "import os\n",
        "\n",
        "for image in os.listdir('/content/drive/My Drive/data800/data800-gray/test/images'):\n",
        "    results = model(f\"/content/drive/My Drive/data800/data800-gray/test/images/{image}\")  # predict on an image\n",
        "    results[0].plot(save=True, filename=f'./testing/{image}', label_path=f'/content/drive/My Drive/data800/data800-gray/test/labels/{image.replace(\".jpg\", \".txt\")}')  # plot predictions\n",
        "    results[0].save(f'./content/drive/My Drive/data800')"
      ]
    },
    {
      "source": [
        "import os\n",
        "\n",
        "for image in os.listdir('/content/drive/My Drive/data800/data800-gray/test/images'):\n",
        "    results = model(f\"/content/drive/My Drive/data800/data800-gray/test/images/{image}\")  # predict on an image\n",
        "\n",
        "    # Instead of label_path, try names for providing labels\n",
        "    # Check the documentation for correct usage.\n",
        "    results[0].plot(save=True, filename=f'/content/drive/My Drive/data800/data800-gray/{image}', labels=results[0].names)  # plot predictions\n",
        "\n",
        "    results[0].save(f'./content/drive/My Drive/data800/{image}')"
      ],
      "cell_type": "code",
      "metadata": {
        "id": "cTxyMtBYN08Q",
        "outputId": "57ca81e7-2a18-4de8-83ec-bb862310deea",
        "colab": {
          "base_uri": "https://localhost:8080/"
        }
      },
      "execution_count": 10,
      "outputs": [
        {
          "output_type": "stream",
          "name": "stdout",
          "text": [
            "\n",
            "image 1/1 /content/drive/My Drive/data800/data800-gray/test/images/validation_0_4_grayscale.jpg: 800x800 (no detections), 10.2ms\n",
            "Speed: 4.7ms preprocess, 10.2ms inference, 0.7ms postprocess per image at shape (1, 3, 800, 800)\n",
            "\n",
            "image 1/1 /content/drive/My Drive/data800/data800-gray/test/images/validation_1_4_grayscale.jpg: 800x800 (no detections), 10.1ms\n",
            "Speed: 3.5ms preprocess, 10.1ms inference, 0.7ms postprocess per image at shape (1, 3, 800, 800)\n",
            "\n",
            "image 1/1 /content/drive/My Drive/data800/data800-gray/test/images/validation_1_3_grayscale.jpg: 800x800 (no detections), 10.1ms\n",
            "Speed: 2.7ms preprocess, 10.1ms inference, 0.6ms postprocess per image at shape (1, 3, 800, 800)\n",
            "\n",
            "image 1/1 /content/drive/My Drive/data800/data800-gray/test/images/validation_2_4_grayscale.jpg: 800x800 1 ship, 10.1ms\n",
            "Speed: 5.8ms preprocess, 10.1ms inference, 1.9ms postprocess per image at shape (1, 3, 800, 800)\n",
            "\n",
            "image 1/1 /content/drive/My Drive/data800/data800-gray/test/images/validation_2_1_grayscale.jpg: 800x800 (no detections), 10.2ms\n",
            "Speed: 4.0ms preprocess, 10.2ms inference, 0.9ms postprocess per image at shape (1, 3, 800, 800)\n",
            "\n",
            "image 1/1 /content/drive/My Drive/data800/data800-gray/test/images/validation_0_7_grayscale.jpg: 800x800 11 ships, 12.9ms\n",
            "Speed: 3.9ms preprocess, 12.9ms inference, 1.9ms postprocess per image at shape (1, 3, 800, 800)\n",
            "\n",
            "image 1/1 /content/drive/My Drive/data800/data800-gray/test/images/validation_3_7_grayscale.jpg: 800x800 (no detections), 10.1ms\n",
            "Speed: 2.9ms preprocess, 10.1ms inference, 0.6ms postprocess per image at shape (1, 3, 800, 800)\n",
            "\n",
            "image 1/1 /content/drive/My Drive/data800/data800-gray/test/images/validation_1_2_grayscale.jpg: 800x800 1 ship, 10.2ms\n",
            "Speed: 2.7ms preprocess, 10.2ms inference, 1.4ms postprocess per image at shape (1, 3, 800, 800)\n",
            "\n",
            "image 1/1 /content/drive/My Drive/data800/data800-gray/test/images/validation_4_2_grayscale.jpg: 800x800 (no detections), 10.1ms\n",
            "Speed: 2.8ms preprocess, 10.1ms inference, 0.6ms postprocess per image at shape (1, 3, 800, 800)\n",
            "\n",
            "image 1/1 /content/drive/My Drive/data800/data800-gray/test/images/validation_4_4_grayscale.jpg: 800x800 (no detections), 10.1ms\n",
            "Speed: 2.8ms preprocess, 10.1ms inference, 0.6ms postprocess per image at shape (1, 3, 800, 800)\n",
            "\n",
            "image 1/1 /content/drive/My Drive/data800/data800-gray/test/images/validation_3_1_grayscale.jpg: 800x800 1 ship, 10.1ms\n",
            "Speed: 2.8ms preprocess, 10.1ms inference, 1.3ms postprocess per image at shape (1, 3, 800, 800)\n",
            "\n",
            "image 1/1 /content/drive/My Drive/data800/data800-gray/test/images/validation_2_6_grayscale.jpg: 800x800 17 ships, 10.1ms\n",
            "Speed: 2.8ms preprocess, 10.1ms inference, 1.4ms postprocess per image at shape (1, 3, 800, 800)\n",
            "\n",
            "image 1/1 /content/drive/My Drive/data800/data800-gray/test/images/validation_4_0_grayscale.jpg: 800x800 (no detections), 10.2ms\n",
            "Speed: 3.5ms preprocess, 10.2ms inference, 0.6ms postprocess per image at shape (1, 3, 800, 800)\n",
            "\n",
            "image 1/1 /content/drive/My Drive/data800/data800-gray/test/images/validation_2_0_grayscale.jpg: 800x800 (no detections), 10.1ms\n",
            "Speed: 3.3ms preprocess, 10.1ms inference, 0.7ms postprocess per image at shape (1, 3, 800, 800)\n",
            "\n",
            "image 1/1 /content/drive/My Drive/data800/data800-gray/test/images/validation_0_5_grayscale.jpg: 800x800 (no detections), 10.1ms\n",
            "Speed: 2.7ms preprocess, 10.1ms inference, 0.6ms postprocess per image at shape (1, 3, 800, 800)\n",
            "\n",
            "image 1/1 /content/drive/My Drive/data800/data800-gray/test/images/validation_3_5_grayscale.jpg: 800x800 2 ships, 10.1ms\n",
            "Speed: 2.7ms preprocess, 10.1ms inference, 1.3ms postprocess per image at shape (1, 3, 800, 800)\n",
            "\n",
            "image 1/1 /content/drive/My Drive/data800/data800-gray/test/images/validation_1_7_grayscale.jpg: 800x800 5 ships, 10.1ms\n",
            "Speed: 2.8ms preprocess, 10.1ms inference, 1.3ms postprocess per image at shape (1, 3, 800, 800)\n",
            "\n",
            "image 1/1 /content/drive/My Drive/data800/data800-gray/test/images/validation_3_0_grayscale.jpg: 800x800 (no detections), 10.1ms\n",
            "Speed: 2.8ms preprocess, 10.1ms inference, 0.6ms postprocess per image at shape (1, 3, 800, 800)\n",
            "\n",
            "image 1/1 /content/drive/My Drive/data800/data800-gray/test/images/validation_1_6_grayscale.jpg: 800x800 22 ships, 11.8ms\n",
            "Speed: 4.1ms preprocess, 11.8ms inference, 2.0ms postprocess per image at shape (1, 3, 800, 800)\n",
            "\n",
            "image 1/1 /content/drive/My Drive/data800/data800-gray/test/images/validation_3_4_grayscale.jpg: 800x800 (no detections), 11.3ms\n",
            "Speed: 4.0ms preprocess, 11.3ms inference, 1.0ms postprocess per image at shape (1, 3, 800, 800)\n",
            "\n",
            "image 1/1 /content/drive/My Drive/data800/data800-gray/test/images/validation_0_6_grayscale.jpg: 800x800 14 ships, 10.1ms\n",
            "Speed: 5.6ms preprocess, 10.1ms inference, 1.7ms postprocess per image at shape (1, 3, 800, 800)\n",
            "\n",
            "image 1/1 /content/drive/My Drive/data800/data800-gray/test/images/validation_3_6_grayscale.jpg: 800x800 2 ships, 13.7ms\n",
            "Speed: 4.0ms preprocess, 13.7ms inference, 2.0ms postprocess per image at shape (1, 3, 800, 800)\n",
            "\n",
            "image 1/1 /content/drive/My Drive/data800/data800-gray/test/images/validation_2_2_grayscale.jpg: 800x800 1 ship, 10.1ms\n",
            "Speed: 2.7ms preprocess, 10.1ms inference, 1.3ms postprocess per image at shape (1, 3, 800, 800)\n",
            "\n",
            "image 1/1 /content/drive/My Drive/data800/data800-gray/test/images/validation_1_5_grayscale.jpg: 800x800 6 ships, 10.2ms\n",
            "Speed: 2.8ms preprocess, 10.2ms inference, 1.4ms postprocess per image at shape (1, 3, 800, 800)\n",
            "\n",
            "image 1/1 /content/drive/My Drive/data800/data800-gray/test/images/validation_3_3_grayscale.jpg: 800x800 1 ship, 10.1ms\n",
            "Speed: 2.7ms preprocess, 10.1ms inference, 1.3ms postprocess per image at shape (1, 3, 800, 800)\n",
            "\n",
            "image 1/1 /content/drive/My Drive/data800/data800-gray/test/images/validation_3_2_grayscale.jpg: 800x800 (no detections), 10.1ms\n",
            "Speed: 2.8ms preprocess, 10.1ms inference, 0.6ms postprocess per image at shape (1, 3, 800, 800)\n",
            "\n",
            "image 1/1 /content/drive/My Drive/data800/data800-gray/test/images/validation_5_0_grayscale.jpg: 800x800 (no detections), 10.1ms\n",
            "Speed: 3.1ms preprocess, 10.1ms inference, 0.6ms postprocess per image at shape (1, 3, 800, 800)\n",
            "\n",
            "image 1/1 /content/drive/My Drive/data800/data800-gray/test/images/validation_4_1_grayscale.jpg: 800x800 1 ship, 10.1ms\n",
            "Speed: 2.8ms preprocess, 10.1ms inference, 1.4ms postprocess per image at shape (1, 3, 800, 800)\n",
            "\n",
            "image 1/1 /content/drive/My Drive/data800/data800-gray/test/images/validation_2_3_grayscale.jpg: 800x800 2 ships, 10.1ms\n",
            "Speed: 2.8ms preprocess, 10.1ms inference, 1.8ms postprocess per image at shape (1, 3, 800, 800)\n",
            "\n",
            "image 1/1 /content/drive/My Drive/data800/data800-gray/test/images/validation_4_3_grayscale.jpg: 800x800 (no detections), 10.1ms\n",
            "Speed: 2.7ms preprocess, 10.1ms inference, 0.6ms postprocess per image at shape (1, 3, 800, 800)\n",
            "\n",
            "image 1/1 /content/drive/My Drive/data800/data800-gray/test/images/validation_2_5_grayscale.jpg: 800x800 9 ships, 10.1ms\n",
            "Speed: 2.8ms preprocess, 10.1ms inference, 1.5ms postprocess per image at shape (1, 3, 800, 800)\n",
            "\n",
            "image 1/1 /content/drive/My Drive/data800/data800-gray/test/images/validation_2_7_grayscale.jpg: 800x800 6 ships, 10.1ms\n",
            "Speed: 2.7ms preprocess, 10.1ms inference, 1.3ms postprocess per image at shape (1, 3, 800, 800)\n",
            "\n",
            "image 1/1 /content/drive/My Drive/data800/data800-gray/test/images/validation_4_5_grayscale.jpg: 800x800 (no detections), 10.2ms\n",
            "Speed: 3.1ms preprocess, 10.2ms inference, 0.6ms postprocess per image at shape (1, 3, 800, 800)\n",
            "\n",
            "image 1/1 /content/drive/My Drive/data800/data800-gray/test/images/validation_6_0_grayscale.jpg: 800x800 (no detections), 10.1ms\n",
            "Speed: 2.8ms preprocess, 10.1ms inference, 0.6ms postprocess per image at shape (1, 3, 800, 800)\n",
            "\n",
            "image 1/1 /content/drive/My Drive/data800/data800-gray/test/images/validation_5_2_grayscale.jpg: 800x800 1 ship, 13.3ms\n",
            "Speed: 4.1ms preprocess, 13.3ms inference, 2.0ms postprocess per image at shape (1, 3, 800, 800)\n",
            "\n",
            "image 1/1 /content/drive/My Drive/data800/data800-gray/test/images/validation_5_3_grayscale.jpg: 800x800 (no detections), 24.9ms\n",
            "Speed: 4.2ms preprocess, 24.9ms inference, 0.9ms postprocess per image at shape (1, 3, 800, 800)\n",
            "\n",
            "image 1/1 /content/drive/My Drive/data800/data800-gray/test/images/validation_5_1_grayscale.jpg: 800x800 (no detections), 10.1ms\n",
            "Speed: 2.8ms preprocess, 10.1ms inference, 0.6ms postprocess per image at shape (1, 3, 800, 800)\n"
          ]
        }
      ]
    },
    {
      "cell_type": "code",
      "execution_count": null,
      "metadata": {
        "id": "ox4qPr-kNWAK",
        "outputId": "d34efa56-b335-4e6f-eb3d-2346e7b15f2d"
      },
      "outputs": [
        {
          "name": "stdout",
          "output_type": "stream",
          "text": [
            "Ultralytics YOLOv8.2.77  Python-3.8.19 torch-2.4.0 CPU (13th Gen Intel Core(TM) i7-13700H)\n",
            "\n",
            "\u001b[34m\u001b[1mPyTorch:\u001b[0m starting from 'runs\\detect\\train23\\weights\\best.pt' with input shape (1, 3, 800, 800) BCHW and output shape(s) (1, 5, 13125) (6.0 MB)\n",
            "\n",
            "\u001b[34m\u001b[1mONNX:\u001b[0m starting export with onnx 1.16.2 opset 17...\n",
            "\u001b[34m\u001b[1mONNX:\u001b[0m export success  0.5s, saved as 'runs\\detect\\train23\\weights\\best.onnx' (11.8 MB)\n",
            "\n",
            "Export complete (2.1s)\n",
            "Results saved to \u001b[1mC:\\Users\\Monko\\Documents\\galassia\\gi_training\\runs\\detect\\train23\\weights\u001b[0m\n",
            "Predict:         yolo predict task=detect model=runs\\detect\\train23\\weights\\best.onnx imgsz=800  \n",
            "Validate:        yolo val task=detect model=runs\\detect\\train23\\weights\\best.onnx imgsz=800 data=./data800/data.yaml  \n",
            "Visualize:       https://netron.app\n"
          ]
        }
      ],
      "source": [
        "path = model.export(format=\"onnx\", imgsz=800, opset=17)"
      ]
    },
    {
      "cell_type": "code",
      "execution_count": 12,
      "metadata": {
        "id": "3RGnIBJ7NWAK",
        "outputId": "4d443771-02ce-4fa8-9ff2-c731beeb581f",
        "colab": {
          "base_uri": "https://localhost:8080/"
        }
      },
      "outputs": [
        {
          "output_type": "stream",
          "name": "stdout",
          "text": [
            "\n",
            "image 1/1 /content/drive/My Drive/data800/data800-gray/test/images/validation_1_6_grayscale.jpg: 800x800 22 ships, 19.2ms\n",
            "Speed: 4.3ms preprocess, 19.2ms inference, 1.6ms postprocess per image at shape (1, 3, 800, 800)\n"
          ]
        }
      ],
      "source": [
        "results = model(\"/content/drive/My Drive/data800/data800-gray/test/images/validation_1_6_grayscale.jpg\")  # predict on an image"
      ]
    },
    {
      "cell_type": "code",
      "execution_count": 13,
      "metadata": {
        "id": "HXQc4qqcNWAK",
        "outputId": "79ef1a20-8d07-4d8e-b7d7-beba9c7ea36b",
        "colab": {
          "base_uri": "https://localhost:8080/"
        }
      },
      "outputs": [
        {
          "output_type": "execute_result",
          "data": {
            "text/plain": [
              "ultralytics.engine.results.Boxes object with attributes:\n",
              "\n",
              "cls: tensor([0., 0., 0., 0., 0., 0., 0., 0., 0., 0., 0., 0., 0., 0., 0., 0., 0., 0., 0., 0., 0., 0.], device='cuda:0')\n",
              "conf: tensor([0.8741, 0.8007, 0.7894, 0.7745, 0.7558, 0.7523, 0.7410, 0.7330, 0.7264, 0.7209, 0.7134, 0.7064, 0.6795, 0.6635, 0.6166, 0.6019, 0.5774, 0.5764, 0.3409, 0.3239, 0.3168, 0.2991], device='cuda:0')\n",
              "data: tensor([[4.1107e+02, 3.6693e+02, 4.6367e+02, 4.2775e+02, 8.7408e-01, 0.0000e+00],\n",
              "        [6.6430e+02, 5.2784e+02, 6.9249e+02, 5.8425e+02, 8.0071e-01, 0.0000e+00],\n",
              "        [6.6197e+02, 9.2119e+01, 7.0225e+02, 1.1710e+02, 7.8938e-01, 0.0000e+00],\n",
              "        [4.1660e+02, 6.4276e+01, 4.3938e+02, 1.0276e+02, 7.7452e-01, 0.0000e+00],\n",
              "        [2.9439e+02, 2.2878e+02, 3.0800e+02, 2.8105e+02, 7.5576e-01, 0.0000e+00],\n",
              "        [1.8406e+02, 1.5271e+02, 2.0421e+02, 1.9114e+02, 7.5231e-01, 0.0000e+00],\n",
              "        [3.1056e+02, 1.1012e+02, 3.4880e+02, 1.3579e+02, 7.4103e-01, 0.0000e+00],\n",
              "        [6.6802e+02, 2.9564e+02, 7.0984e+02, 3.1695e+02, 7.3302e-01, 0.0000e+00],\n",
              "        [5.1655e+02, 2.8592e+02, 5.6598e+02, 3.1984e+02, 7.2638e-01, 0.0000e+00],\n",
              "        [3.9743e+02, 1.7959e+02, 4.1964e+02, 2.2897e+02, 7.2093e-01, 0.0000e+00],\n",
              "        [3.7240e+01, 1.4811e+02, 5.0660e+01, 1.9954e+02, 7.1343e-01, 0.0000e+00],\n",
              "        [5.5171e+02, 1.6137e+02, 5.6594e+02, 2.0232e+02, 7.0640e-01, 0.0000e+00],\n",
              "        [4.8401e+02, 4.6150e+02, 5.0754e+02, 5.1434e+02, 6.7952e-01, 0.0000e+00],\n",
              "        [7.7089e+02, 2.1493e+02, 7.9935e+02, 2.2532e+02, 6.6349e-01, 0.0000e+00],\n",
              "        [9.5032e+01, 2.4246e+02, 1.1265e+02, 3.0335e+02, 6.1662e-01, 0.0000e+00],\n",
              "        [5.5759e+02, 6.1662e+02, 5.8067e+02, 6.2785e+02, 6.0188e-01, 0.0000e+00],\n",
              "        [4.8089e+02, 6.3696e-01, 4.9698e+02, 1.6060e+01, 5.7741e-01, 0.0000e+00],\n",
              "        [1.2445e+02, 5.1886e+02, 1.4357e+02, 5.8936e+02, 5.7640e-01, 0.0000e+00],\n",
              "        [4.8680e+02, 6.8794e+02, 5.1814e+02, 7.0703e+02, 3.4085e-01, 0.0000e+00],\n",
              "        [2.7573e+02, 2.9287e-02, 2.8791e+02, 1.8198e+01, 3.2385e-01, 0.0000e+00],\n",
              "        [5.6744e+02, 3.4245e+02, 5.8263e+02, 3.4979e+02, 3.1685e-01, 0.0000e+00],\n",
              "        [7.9135e+02, 3.1030e+02, 7.9975e+02, 3.1847e+02, 2.9908e-01, 0.0000e+00]], device='cuda:0')\n",
              "id: None\n",
              "is_track: False\n",
              "orig_shape: (800, 800)\n",
              "shape: torch.Size([22, 6])\n",
              "xywh: tensor([[437.3722, 397.3400,  52.6011,  60.8126],\n",
              "        [678.3968, 556.0469,  28.1931,  56.4104],\n",
              "        [682.1084, 104.6075,  40.2805,  24.9760],\n",
              "        [427.9926,  83.5198,  22.7814,  38.4880],\n",
              "        [301.1931, 254.9119,  13.6151,  52.2702],\n",
              "        [194.1350, 171.9266,  20.1509,  38.4365],\n",
              "        [329.6822, 122.9579,  38.2443,  25.6720],\n",
              "        [688.9338, 306.2925,  41.8208,  21.3093],\n",
              "        [541.2684, 302.8780,  49.4277,  33.9211],\n",
              "        [408.5380, 204.2806,  22.2062,  49.3824],\n",
              "        [ 43.9499, 173.8235,  13.4206,  51.4349],\n",
              "        [558.8221, 181.8415,  14.2316,  40.9495],\n",
              "        [495.7729, 487.9207,  23.5251,  52.8327],\n",
              "        [785.1213, 220.1222,  28.4612,  10.3908],\n",
              "        [103.8435, 272.9088,  17.6228,  60.8916],\n",
              "        [569.1288, 622.2342,  23.0786,  11.2358],\n",
              "        [488.9363,   8.3486,  16.0867,  15.4232],\n",
              "        [134.0103, 554.1085,  19.1160,  70.4983],\n",
              "        [502.4690, 697.4813,  31.3451,  19.0911],\n",
              "        [281.8207,   9.1134,  12.1803,  18.1683],\n",
              "        [575.0338, 346.1240,  15.1826,   7.3380],\n",
              "        [795.5505, 314.3856,   8.3933,   8.1786]], device='cuda:0')\n",
              "xywhn: tensor([[0.5467, 0.4967, 0.0658, 0.0760],\n",
              "        [0.8480, 0.6951, 0.0352, 0.0705],\n",
              "        [0.8526, 0.1308, 0.0504, 0.0312],\n",
              "        [0.5350, 0.1044, 0.0285, 0.0481],\n",
              "        [0.3765, 0.3186, 0.0170, 0.0653],\n",
              "        [0.2427, 0.2149, 0.0252, 0.0480],\n",
              "        [0.4121, 0.1537, 0.0478, 0.0321],\n",
              "        [0.8612, 0.3829, 0.0523, 0.0266],\n",
              "        [0.6766, 0.3786, 0.0618, 0.0424],\n",
              "        [0.5107, 0.2554, 0.0278, 0.0617],\n",
              "        [0.0549, 0.2173, 0.0168, 0.0643],\n",
              "        [0.6985, 0.2273, 0.0178, 0.0512],\n",
              "        [0.6197, 0.6099, 0.0294, 0.0660],\n",
              "        [0.9814, 0.2752, 0.0356, 0.0130],\n",
              "        [0.1298, 0.3411, 0.0220, 0.0761],\n",
              "        [0.7114, 0.7778, 0.0288, 0.0140],\n",
              "        [0.6112, 0.0104, 0.0201, 0.0193],\n",
              "        [0.1675, 0.6926, 0.0239, 0.0881],\n",
              "        [0.6281, 0.8719, 0.0392, 0.0239],\n",
              "        [0.3523, 0.0114, 0.0152, 0.0227],\n",
              "        [0.7188, 0.4327, 0.0190, 0.0092],\n",
              "        [0.9944, 0.3930, 0.0105, 0.0102]], device='cuda:0')\n",
              "xyxy: tensor([[4.1107e+02, 3.6693e+02, 4.6367e+02, 4.2775e+02],\n",
              "        [6.6430e+02, 5.2784e+02, 6.9249e+02, 5.8425e+02],\n",
              "        [6.6197e+02, 9.2119e+01, 7.0225e+02, 1.1710e+02],\n",
              "        [4.1660e+02, 6.4276e+01, 4.3938e+02, 1.0276e+02],\n",
              "        [2.9439e+02, 2.2878e+02, 3.0800e+02, 2.8105e+02],\n",
              "        [1.8406e+02, 1.5271e+02, 2.0421e+02, 1.9114e+02],\n",
              "        [3.1056e+02, 1.1012e+02, 3.4880e+02, 1.3579e+02],\n",
              "        [6.6802e+02, 2.9564e+02, 7.0984e+02, 3.1695e+02],\n",
              "        [5.1655e+02, 2.8592e+02, 5.6598e+02, 3.1984e+02],\n",
              "        [3.9743e+02, 1.7959e+02, 4.1964e+02, 2.2897e+02],\n",
              "        [3.7240e+01, 1.4811e+02, 5.0660e+01, 1.9954e+02],\n",
              "        [5.5171e+02, 1.6137e+02, 5.6594e+02, 2.0232e+02],\n",
              "        [4.8401e+02, 4.6150e+02, 5.0754e+02, 5.1434e+02],\n",
              "        [7.7089e+02, 2.1493e+02, 7.9935e+02, 2.2532e+02],\n",
              "        [9.5032e+01, 2.4246e+02, 1.1265e+02, 3.0335e+02],\n",
              "        [5.5759e+02, 6.1662e+02, 5.8067e+02, 6.2785e+02],\n",
              "        [4.8089e+02, 6.3696e-01, 4.9698e+02, 1.6060e+01],\n",
              "        [1.2445e+02, 5.1886e+02, 1.4357e+02, 5.8936e+02],\n",
              "        [4.8680e+02, 6.8794e+02, 5.1814e+02, 7.0703e+02],\n",
              "        [2.7573e+02, 2.9287e-02, 2.8791e+02, 1.8198e+01],\n",
              "        [5.6744e+02, 3.4245e+02, 5.8263e+02, 3.4979e+02],\n",
              "        [7.9135e+02, 3.1030e+02, 7.9975e+02, 3.1847e+02]], device='cuda:0')\n",
              "xyxyn: tensor([[5.1384e-01, 4.5867e-01, 5.7959e-01, 5.3468e-01],\n",
              "        [8.3038e-01, 6.5980e-01, 8.6562e-01, 7.3032e-01],\n",
              "        [8.2746e-01, 1.1515e-01, 8.7781e-01, 1.4637e-01],\n",
              "        [5.2075e-01, 8.0345e-02, 5.4923e-01, 1.2845e-01],\n",
              "        [3.6798e-01, 2.8597e-01, 3.8500e-01, 3.5131e-01],\n",
              "        [2.3007e-01, 1.9089e-01, 2.5526e-01, 2.3893e-01],\n",
              "        [3.8820e-01, 1.3765e-01, 4.3601e-01, 1.6974e-01],\n",
              "        [8.3503e-01, 3.6955e-01, 8.8731e-01, 3.9618e-01],\n",
              "        [6.4569e-01, 3.5740e-01, 7.0748e-01, 3.9980e-01],\n",
              "        [4.9679e-01, 2.2449e-01, 5.2455e-01, 2.8621e-01],\n",
              "        [4.6549e-02, 1.8513e-01, 6.3325e-02, 2.4943e-01],\n",
              "        [6.8963e-01, 2.0171e-01, 7.0742e-01, 2.5290e-01],\n",
              "        [6.0501e-01, 5.7688e-01, 6.3442e-01, 6.4292e-01],\n",
              "        [9.6361e-01, 2.6866e-01, 9.9919e-01, 2.8165e-01],\n",
              "        [1.1879e-01, 3.0308e-01, 1.4082e-01, 3.7919e-01],\n",
              "        [6.9699e-01, 7.7077e-01, 7.2584e-01, 7.8482e-01],\n",
              "        [6.0112e-01, 7.9620e-04, 6.2122e-01, 2.0075e-02],\n",
              "        [1.5557e-01, 6.4857e-01, 1.7946e-01, 7.3670e-01],\n",
              "        [6.0850e-01, 8.5992e-01, 6.4768e-01, 8.8378e-01],\n",
              "        [3.4466e-01, 3.6609e-05, 3.5989e-01, 2.2747e-02],\n",
              "        [7.0930e-01, 4.2807e-01, 7.2828e-01, 4.3724e-01],\n",
              "        [9.8919e-01, 3.8787e-01, 9.9968e-01, 3.9809e-01]], device='cuda:0')"
            ]
          },
          "metadata": {},
          "execution_count": 13
        }
      ],
      "source": [
        "results[0].boxes"
      ]
    },
    {
      "cell_type": "code",
      "execution_count": 14,
      "metadata": {
        "id": "-3oPvg1HNWAL",
        "outputId": "1e3d8883-e9d2-4698-d904-2d3b2928786c",
        "colab": {
          "base_uri": "https://localhost:8080/",
          "height": 163
        }
      },
      "outputs": [
        {
          "output_type": "error",
          "ename": "TypeError",
          "evalue": "Results.plot() got an unexpected keyword argument 'label_path'",
          "traceback": [
            "\u001b[0;31m---------------------------------------------------------------------------\u001b[0m",
            "\u001b[0;31mTypeError\u001b[0m                                 Traceback (most recent call last)",
            "\u001b[0;32m<ipython-input-14-2a1bfbbeddd9>\u001b[0m in \u001b[0;36m<cell line: 0>\u001b[0;34m()\u001b[0m\n\u001b[0;32m----> 1\u001b[0;31m \u001b[0mresults\u001b[0m\u001b[0;34m[\u001b[0m\u001b[0;36m0\u001b[0m\u001b[0;34m]\u001b[0m\u001b[0;34m.\u001b[0m\u001b[0mplot\u001b[0m\u001b[0;34m(\u001b[0m\u001b[0msave\u001b[0m\u001b[0;34m=\u001b[0m\u001b[0;32mTrue\u001b[0m\u001b[0;34m,\u001b[0m \u001b[0mfilename\u001b[0m\u001b[0;34m=\u001b[0m\u001b[0;34m\"testing.jpg\"\u001b[0m\u001b[0;34m,\u001b[0m \u001b[0mlabel_path\u001b[0m\u001b[0;34m=\u001b[0m\u001b[0;34m\"/content/drive/My Drive/data800/data800-gray/test/labels/validation_1_6_grayscale.txt\"\u001b[0m\u001b[0;34m)\u001b[0m  \u001b[0;31m# plot predictions\u001b[0m\u001b[0;34m\u001b[0m\u001b[0;34m\u001b[0m\u001b[0m\n\u001b[0m",
            "\u001b[0;31mTypeError\u001b[0m: Results.plot() got an unexpected keyword argument 'label_path'"
          ]
        }
      ],
      "source": [
        "results[0].plot(save=True, filename=\"testing.jpg\", label_path=\"/content/drive/My Drive/data800/data800-gray/test/labels/validation_1_6_grayscale.txt\")  # plot predictions"
      ]
    },
    {
      "source": [
        "results[0].plot(save=True, filename=\"testing.jpg\", labels=results[0].names)  # Use 'labels' instead of 'label_path'"
      ],
      "cell_type": "code",
      "metadata": {
        "id": "oIKuUJHRQiIZ",
        "outputId": "7761b621-a5a3-494a-9a73-61adb120473d",
        "colab": {
          "base_uri": "https://localhost:8080/",
          "height": 840
        }
      },
      "execution_count": 15,
      "outputs": [
        {
          "output_type": "execute_result",
          "data": {
            "text/plain": [
              "array([[[94, 94, 94],\n",
              "        [94, 94, 94],\n",
              "        [94, 94, 94],\n",
              "        ...,\n",
              "        [89, 89, 89],\n",
              "        [89, 89, 89],\n",
              "        [89, 89, 89]],\n",
              "\n",
              "       [[94, 94, 94],\n",
              "        [94, 94, 94],\n",
              "        [94, 94, 94],\n",
              "        ...,\n",
              "        [89, 89, 89],\n",
              "        [89, 89, 89],\n",
              "        [89, 89, 89]],\n",
              "\n",
              "       [[94, 94, 94],\n",
              "        [94, 94, 94],\n",
              "        [94, 94, 94],\n",
              "        ...,\n",
              "        [89, 89, 89],\n",
              "        [89, 89, 89],\n",
              "        [89, 89, 89]],\n",
              "\n",
              "       ...,\n",
              "\n",
              "       [[ 0,  0,  0],\n",
              "        [ 0,  0,  0],\n",
              "        [ 0,  0,  0],\n",
              "        ...,\n",
              "        [91, 91, 91],\n",
              "        [91, 91, 91],\n",
              "        [91, 91, 91]],\n",
              "\n",
              "       [[ 0,  0,  0],\n",
              "        [ 0,  0,  0],\n",
              "        [ 0,  0,  0],\n",
              "        ...,\n",
              "        [91, 91, 91],\n",
              "        [91, 91, 91],\n",
              "        [91, 91, 91]],\n",
              "\n",
              "       [[ 0,  0,  0],\n",
              "        [ 0,  0,  0],\n",
              "        [ 0,  0,  0],\n",
              "        ...,\n",
              "        [91, 91, 91],\n",
              "        [91, 91, 91],\n",
              "        [91, 91, 91]]], dtype=uint8)"
            ],
            "text/html": [
              "<style>\n",
              "      .ndarray_repr .ndarray_raw_data {\n",
              "        display: none;\n",
              "      }\n",
              "      .ndarray_repr.show_array .ndarray_raw_data {\n",
              "        display: block;\n",
              "      }\n",
              "      .ndarray_repr.show_array .ndarray_image_preview {\n",
              "        display: none;\n",
              "      }\n",
              "      </style>\n",
              "      <div id=\"id-ee49cb38-62eb-4052-bdca-c9b14db6ec15\" class=\"ndarray_repr\"><pre>ndarray (800, 800, 3) <button style=\"padding: 0 2px;\">show data</button></pre><img src=\"data:image/png;base64,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\" class=\"ndarray_image_preview\" /><pre class=\"ndarray_raw_data\">array([[[94, 94, 94],\n",
              "        [94, 94, 94],\n",
              "        [94, 94, 94],\n",
              "        ...,\n",
              "        [89, 89, 89],\n",
              "        [89, 89, 89],\n",
              "        [89, 89, 89]],\n",
              "\n",
              "       [[94, 94, 94],\n",
              "        [94, 94, 94],\n",
              "        [94, 94, 94],\n",
              "        ...,\n",
              "        [89, 89, 89],\n",
              "        [89, 89, 89],\n",
              "        [89, 89, 89]],\n",
              "\n",
              "       [[94, 94, 94],\n",
              "        [94, 94, 94],\n",
              "        [94, 94, 94],\n",
              "        ...,\n",
              "        [89, 89, 89],\n",
              "        [89, 89, 89],\n",
              "        [89, 89, 89]],\n",
              "\n",
              "       ...,\n",
              "\n",
              "       [[ 0,  0,  0],\n",
              "        [ 0,  0,  0],\n",
              "        [ 0,  0,  0],\n",
              "        ...,\n",
              "        [91, 91, 91],\n",
              "        [91, 91, 91],\n",
              "        [91, 91, 91]],\n",
              "\n",
              "       [[ 0,  0,  0],\n",
              "        [ 0,  0,  0],\n",
              "        [ 0,  0,  0],\n",
              "        ...,\n",
              "        [91, 91, 91],\n",
              "        [91, 91, 91],\n",
              "        [91, 91, 91]],\n",
              "\n",
              "       [[ 0,  0,  0],\n",
              "        [ 0,  0,  0],\n",
              "        [ 0,  0,  0],\n",
              "        ...,\n",
              "        [91, 91, 91],\n",
              "        [91, 91, 91],\n",
              "        [91, 91, 91]]], dtype=uint8)</pre></div><script>\n",
              "      (() => {\n",
              "      const titles = ['show data', 'hide data'];\n",
              "      let index = 0\n",
              "      document.querySelector('#id-ee49cb38-62eb-4052-bdca-c9b14db6ec15 button').onclick = (e) => {\n",
              "        document.querySelector('#id-ee49cb38-62eb-4052-bdca-c9b14db6ec15').classList.toggle('show_array');\n",
              "        index = (++index) % 2;\n",
              "        document.querySelector('#id-ee49cb38-62eb-4052-bdca-c9b14db6ec15 button').textContent = titles[index];\n",
              "        e.preventDefault();\n",
              "        e.stopPropagation();\n",
              "      }\n",
              "      })();\n",
              "    </script>"
            ]
          },
          "metadata": {},
          "execution_count": 15
        }
      ]
    },
    {
      "cell_type": "code",
      "execution_count": 16,
      "metadata": {
        "id": "ZoU_UXbONWAL",
        "outputId": "1a2b1875-583a-4de0-93c1-355f45fdb171",
        "colab": {
          "base_uri": "https://localhost:8080/",
          "height": 836
        }
      },
      "outputs": [
        {
          "output_type": "display_data",
          "data": {
            "text/plain": [
              "<PIL.Image.Image image mode=RGB size=800x800>"
            ],
            "image/png": "[encoded data removed]",
            "image/jpeg": "[encoded data removed]"
          },
          "metadata": {}
        },
        {
          "output_type": "execute_result",
          "data": {
            "text/plain": [
              "'./output1.jpg'"
            ],
            "application/vnd.google.colaboratory.intrinsic+json": {
              "type": "string"
            }
          },
          "metadata": {},
          "execution_count": 16
        }
      ],
      "source": [
        "results[0].show()\n",
        "results[0].save('./output1.jpg')"
      ]
    },
    {
      "cell_type": "code",
      "execution_count": null,
      "metadata": {
        "id": "fHD5OSzGNWAL"
      },
      "outputs": [],
      "source": [
        "results[0].save_crop(save_dir=\"./crops\", file_name=\"detection\")"
      ]
    },
    {
      "cell_type": "code",
      "execution_count": null,
      "metadata": {
        "id": "amzrdWupNWAL"
      },
      "outputs": [],
      "source": [
        "import onnx\n",
        "\n",
        "# Load the model\n",
        "model = onnx.load(\"./runs/detect/train25/weights/best.onnx\")\n",
        "\n",
        "# Check that the IR is well formed\n",
        "onnx.checker.check_model(model)\n"
      ]
    },
    {
      "cell_type": "code",
      "execution_count": null,
      "metadata": {
        "id": "Qgf6qX3zNWAL"
      },
      "outputs": [],
      "source": []
    }
  ],
  "metadata": {
    "kernelspec": {
      "display_name": "Python 3",
      "name": "python3"
    },
    "language_info": {
      "codemirror_mode": {
        "name": "ipython",
        "version": 3
      },
      "file_extension": ".py",
      "mimetype": "text/x-python",
      "name": "python",
      "nbconvert_exporter": "python",
      "pygments_lexer": "ipython3",
      "version": "3.8.19"
    },
    "colab": {
      "provenance": [],
      "gpuType": "T4"
    },
    "accelerator": "GPU"
  },
  "nbformat": 4,
  "nbformat_minor": 0
}