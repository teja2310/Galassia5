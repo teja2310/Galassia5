{
  "cells": [
    {
      "cell_type": "code",
      "execution_count": 1,
      "metadata": {
        "id": "rON1er3bNWAI",
        "outputId": "46ee1f2c-c968-46f6-dfbd-a44938433c17",
        "colab": {
          "base_uri": "https://localhost:8080/"
        }
      },
      "outputs": [
        {
          "output_type": "stream",
          "name": "stdout",
          "text": [
            "True\n"
          ]
        },
        {
          "output_type": "execute_result",
          "data": {
            "text/plain": [
              "(15720382464, 15828320256)"
            ]
          },
          "metadata": {},
          "execution_count": 1
        }
      ],
      "source": [
        "import torch\n",
        "print(torch.cuda.is_available())\n",
        "torch.cuda.empty_cache()\n",
        "torch.cuda.mem_get_info()"
      ]
    },
    {
      "cell_type": "code",
      "source": [
        "from google.colab import drive\n",
        "drive.mount(\"/content/drive\")"
      ],
      "metadata": {
        "id": "_JvtdW8RSAAz",
        "outputId": "f47826c7-4afc-4a96-fe22-4055959f8fc1",
        "colab": {
          "base_uri": "https://localhost:8080/"
        }
      },
      "execution_count": 42,
      "outputs": [
        {
          "output_type": "stream",
          "name": "stdout",
          "text": [
            "Drive already mounted at /content/drive; to attempt to forcibly remount, call drive.mount(\"/content/drive\", force_remount=True).\n"
          ]
        }
      ]
    },
    {
      "cell_type": "code",
      "source": [
        "drive.mount(\"/content/drive\", force_remount=True)"
      ],
      "metadata": {
        "id": "mkMcUoUBX6jw",
        "outputId": "522c6e5c-e9c1-4641-c390-a887d6595e8f",
        "colab": {
          "base_uri": "https://localhost:8080/",
          "height": 294
        }
      },
      "execution_count": 43,
      "outputs": [
        {
          "output_type": "error",
          "ename": "ValueError",
          "evalue": "Mountpoint must not already contain files",
          "traceback": [
            "\u001b[0;31m---------------------------------------------------------------------------\u001b[0m",
            "\u001b[0;31mValueError\u001b[0m                                Traceback (most recent call last)",
            "\u001b[0;32m<ipython-input-43-224a8fb43700>\u001b[0m in \u001b[0;36m<cell line: 0>\u001b[0;34m()\u001b[0m\n\u001b[0;32m----> 1\u001b[0;31m \u001b[0mdrive\u001b[0m\u001b[0;34m.\u001b[0m\u001b[0mmount\u001b[0m\u001b[0;34m(\u001b[0m\u001b[0;34m\"/content/drive\"\u001b[0m\u001b[0;34m,\u001b[0m \u001b[0mforce_remount\u001b[0m\u001b[0;34m=\u001b[0m\u001b[0;32mTrue\u001b[0m\u001b[0;34m)\u001b[0m\u001b[0;34m\u001b[0m\u001b[0;34m\u001b[0m\u001b[0m\n\u001b[0m",
            "\u001b[0;32m/usr/local/lib/python3.11/dist-packages/google/colab/drive.py\u001b[0m in \u001b[0;36mmount\u001b[0;34m(mountpoint, force_remount, timeout_ms, readonly)\u001b[0m\n\u001b[1;32m     98\u001b[0m \u001b[0;32mdef\u001b[0m \u001b[0mmount\u001b[0m\u001b[0;34m(\u001b[0m\u001b[0mmountpoint\u001b[0m\u001b[0;34m,\u001b[0m \u001b[0mforce_remount\u001b[0m\u001b[0;34m=\u001b[0m\u001b[0;32mFalse\u001b[0m\u001b[0;34m,\u001b[0m \u001b[0mtimeout_ms\u001b[0m\u001b[0;34m=\u001b[0m\u001b[0;36m120000\u001b[0m\u001b[0;34m,\u001b[0m \u001b[0mreadonly\u001b[0m\u001b[0;34m=\u001b[0m\u001b[0;32mFalse\u001b[0m\u001b[0;34m)\u001b[0m\u001b[0;34m:\u001b[0m\u001b[0;34m\u001b[0m\u001b[0;34m\u001b[0m\u001b[0m\n\u001b[1;32m     99\u001b[0m   \u001b[0;34m\"\"\"Mount your Google Drive at the specified mountpoint path.\"\"\"\u001b[0m\u001b[0;34m\u001b[0m\u001b[0;34m\u001b[0m\u001b[0m\n\u001b[0;32m--> 100\u001b[0;31m   return _mount(\n\u001b[0m\u001b[1;32m    101\u001b[0m       \u001b[0mmountpoint\u001b[0m\u001b[0;34m,\u001b[0m\u001b[0;34m\u001b[0m\u001b[0;34m\u001b[0m\u001b[0m\n\u001b[1;32m    102\u001b[0m       \u001b[0mforce_remount\u001b[0m\u001b[0;34m=\u001b[0m\u001b[0mforce_remount\u001b[0m\u001b[0;34m,\u001b[0m\u001b[0;34m\u001b[0m\u001b[0;34m\u001b[0m\u001b[0m\n",
            "\u001b[0;32m/usr/local/lib/python3.11/dist-packages/google/colab/drive.py\u001b[0m in \u001b[0;36m_mount\u001b[0;34m(mountpoint, force_remount, timeout_ms, ephemeral, readonly)\u001b[0m\n\u001b[1;32m    197\u001b[0m       \u001b[0;32mraise\u001b[0m \u001b[0mValueError\u001b[0m\u001b[0;34m(\u001b[0m\u001b[0;34m'Mountpoint must not be a symlink'\u001b[0m\u001b[0;34m)\u001b[0m\u001b[0;34m\u001b[0m\u001b[0;34m\u001b[0m\u001b[0m\n\u001b[1;32m    198\u001b[0m     \u001b[0;32mif\u001b[0m \u001b[0m_os\u001b[0m\u001b[0;34m.\u001b[0m\u001b[0mpath\u001b[0m\u001b[0;34m.\u001b[0m\u001b[0misdir\u001b[0m\u001b[0;34m(\u001b[0m\u001b[0mmountpoint\u001b[0m\u001b[0;34m)\u001b[0m \u001b[0;32mand\u001b[0m \u001b[0m_os\u001b[0m\u001b[0;34m.\u001b[0m\u001b[0mlistdir\u001b[0m\u001b[0;34m(\u001b[0m\u001b[0mmountpoint\u001b[0m\u001b[0;34m)\u001b[0m\u001b[0;34m:\u001b[0m\u001b[0;34m\u001b[0m\u001b[0;34m\u001b[0m\u001b[0m\n\u001b[0;32m--> 199\u001b[0;31m       \u001b[0;32mraise\u001b[0m \u001b[0mValueError\u001b[0m\u001b[0;34m(\u001b[0m\u001b[0;34m'Mountpoint must not already contain files'\u001b[0m\u001b[0;34m)\u001b[0m\u001b[0;34m\u001b[0m\u001b[0;34m\u001b[0m\u001b[0m\n\u001b[0m\u001b[1;32m    200\u001b[0m     \u001b[0;32mif\u001b[0m \u001b[0;32mnot\u001b[0m \u001b[0m_os\u001b[0m\u001b[0;34m.\u001b[0m\u001b[0mpath\u001b[0m\u001b[0;34m.\u001b[0m\u001b[0misdir\u001b[0m\u001b[0;34m(\u001b[0m\u001b[0mmountpoint\u001b[0m\u001b[0;34m)\u001b[0m \u001b[0;32mand\u001b[0m \u001b[0m_os\u001b[0m\u001b[0;34m.\u001b[0m\u001b[0mpath\u001b[0m\u001b[0;34m.\u001b[0m\u001b[0mexists\u001b[0m\u001b[0;34m(\u001b[0m\u001b[0mmountpoint\u001b[0m\u001b[0;34m)\u001b[0m\u001b[0;34m:\u001b[0m\u001b[0;34m\u001b[0m\u001b[0;34m\u001b[0m\u001b[0m\n\u001b[1;32m    201\u001b[0m       \u001b[0;32mraise\u001b[0m \u001b[0mValueError\u001b[0m\u001b[0;34m(\u001b[0m\u001b[0;34m'Mountpoint must either be a directory or not exist'\u001b[0m\u001b[0;34m)\u001b[0m\u001b[0;34m\u001b[0m\u001b[0;34m\u001b[0m\u001b[0m\n",
            "\u001b[0;31mValueError\u001b[0m: Mountpoint must not already contain files"
          ]
        }
      ]
    },
    {
      "cell_type": "code",
      "source": [
        "# Define the path\n",
        "path = '/content/drive/MyDrive/data800/data800'\n",
        "\n",
        "# List all files and directories in the specified path\n",
        "files = os.listdir(path)\n",
        "for file in files:\n",
        "    print(file)"
      ],
      "metadata": {
        "id": "U_OvAAMvS7BQ",
        "outputId": "0ecf3b00-cb84-4347-cd68-484cdd539429",
        "colab": {
          "base_uri": "https://localhost:8080/"
        }
      },
      "execution_count": 35,
      "outputs": [
        {
          "output_type": "stream",
          "name": "stdout",
          "text": [
            "yolov8n.pt\n"
          ]
        }
      ]
    },
    {
      "cell_type": "code",
      "source": [],
      "metadata": {
        "id": "CtPquiMLX26r"
      },
      "execution_count": null,
      "outputs": []
    },
    {
      "cell_type": "code",
      "execution_count": 23,
      "metadata": {
        "id": "wiMS4P43NWAJ",
        "outputId": "67d6c1bc-813f-495b-efbd-75b5d8da39fd",
        "colab": {
          "base_uri": "https://localhost:8080/",
          "height": 476
        }
      },
      "outputs": [
        {
          "output_type": "stream",
          "name": "stdout",
          "text": [
            "Ultralytics 8.3.75 🚀 Python-3.11.11 torch-2.5.1+cu124 CUDA:0 (Tesla T4, 15095MiB)\n",
            "\u001b[34m\u001b[1mengine/trainer: \u001b[0mtask=detect, mode=train, model=/content/drive/My Drive/data800/data800/yolov8n.pt, data=/content/drive/My Drive/data800/data800/data-gray.yaml, epochs=300, time=None, patience=100, batch=16, imgsz=800, save=True, save_period=-1, cache=False, device=cuda, workers=8, project=None, name=train7, exist_ok=False, pretrained=True, optimizer=AdamW, verbose=True, seed=0, deterministic=True, single_cls=False, rect=False, cos_lr=False, close_mosaic=10, resume=False, amp=True, fraction=1.0, profile=False, freeze=None, multi_scale=False, overlap_mask=True, mask_ratio=4, dropout=0.0, val=True, split=val, save_json=False, save_hybrid=False, conf=None, iou=0.7, max_det=300, half=False, dnn=False, plots=True, source=None, vid_stride=1, stream_buffer=False, visualize=False, augment=False, agnostic_nms=False, classes=None, retina_masks=False, embed=None, show=False, save_frames=False, save_txt=False, save_conf=False, save_crop=False, show_labels=True, show_conf=True, show_boxes=True, line_width=None, format=torchscript, keras=False, optimize=False, int8=False, dynamic=False, simplify=True, opset=None, workspace=None, nms=False, lr0=0.007, lrf=0.01, momentum=0.937, weight_decay=8e-06, warmup_epochs=3.0, warmup_momentum=0.8, warmup_bias_lr=0.1, box=7.5, cls=0.5, dfl=1.5, pose=12.0, kobj=1.0, nbs=64, hsv_h=0.015, hsv_s=0.7, hsv_v=0.4, degrees=0.0, translate=0.1, scale=0.5, shear=0.0, perspective=0.0, flipud=0.0, fliplr=0.5, bgr=0.0, mosaic=1.0, mixup=0.0, copy_paste=0.0, copy_paste_mode=flip, auto_augment=randaugment, erasing=0.4, crop_fraction=1.0, cfg=None, tracker=botsort.yaml, save_dir=runs/detect/train7\n"
          ]
        },
        {
          "output_type": "error",
          "ename": "RuntimeError",
          "evalue": "Dataset '/content/drive/My Drive/data800/data800/data-gray.yaml' error ❌ '/content/drive/My Drive/data800/data800/data-gray.yaml' does not exist",
          "traceback": [
            "\u001b[0;31m---------------------------------------------------------------------------\u001b[0m",
            "\u001b[0;31mFileNotFoundError\u001b[0m                         Traceback (most recent call last)",
            "\u001b[0;32m/usr/local/lib/python3.11/dist-packages/ultralytics/engine/trainer.py\u001b[0m in \u001b[0;36mget_dataset\u001b[0;34m(self)\u001b[0m\n\u001b[1;32m    563\u001b[0m             }:\n\u001b[0;32m--> 564\u001b[0;31m                 \u001b[0mdata\u001b[0m \u001b[0;34m=\u001b[0m \u001b[0mcheck_det_dataset\u001b[0m\u001b[0;34m(\u001b[0m\u001b[0mself\u001b[0m\u001b[0;34m.\u001b[0m\u001b[0margs\u001b[0m\u001b[0;34m.\u001b[0m\u001b[0mdata\u001b[0m\u001b[0;34m)\u001b[0m\u001b[0;34m\u001b[0m\u001b[0;34m\u001b[0m\u001b[0m\n\u001b[0m\u001b[1;32m    565\u001b[0m                 \u001b[0;32mif\u001b[0m \u001b[0;34m\"yaml_file\"\u001b[0m \u001b[0;32min\u001b[0m \u001b[0mdata\u001b[0m\u001b[0;34m:\u001b[0m\u001b[0;34m\u001b[0m\u001b[0;34m\u001b[0m\u001b[0m\n",
            "\u001b[0;32m/usr/local/lib/python3.11/dist-packages/ultralytics/data/utils.py\u001b[0m in \u001b[0;36mcheck_det_dataset\u001b[0;34m(dataset, autodownload)\u001b[0m\n\u001b[1;32m    315\u001b[0m     \"\"\"\n\u001b[0;32m--> 316\u001b[0;31m     \u001b[0mfile\u001b[0m \u001b[0;34m=\u001b[0m \u001b[0mcheck_file\u001b[0m\u001b[0;34m(\u001b[0m\u001b[0mdataset\u001b[0m\u001b[0;34m)\u001b[0m\u001b[0;34m\u001b[0m\u001b[0;34m\u001b[0m\u001b[0m\n\u001b[0m\u001b[1;32m    317\u001b[0m \u001b[0;34m\u001b[0m\u001b[0m\n",
            "\u001b[0;32m/usr/local/lib/python3.11/dist-packages/ultralytics/utils/checks.py\u001b[0m in \u001b[0;36mcheck_file\u001b[0;34m(file, suffix, download, download_dir, hard)\u001b[0m\n\u001b[1;32m    521\u001b[0m         \u001b[0;32mif\u001b[0m \u001b[0;32mnot\u001b[0m \u001b[0mfiles\u001b[0m \u001b[0;32mand\u001b[0m \u001b[0mhard\u001b[0m\u001b[0;34m:\u001b[0m\u001b[0;34m\u001b[0m\u001b[0;34m\u001b[0m\u001b[0m\n\u001b[0;32m--> 522\u001b[0;31m             \u001b[0;32mraise\u001b[0m \u001b[0mFileNotFoundError\u001b[0m\u001b[0;34m(\u001b[0m\u001b[0;34mf\"'{file}' does not exist\"\u001b[0m\u001b[0;34m)\u001b[0m\u001b[0;34m\u001b[0m\u001b[0;34m\u001b[0m\u001b[0m\n\u001b[0m\u001b[1;32m    523\u001b[0m         \u001b[0;32melif\u001b[0m \u001b[0mlen\u001b[0m\u001b[0;34m(\u001b[0m\u001b[0mfiles\u001b[0m\u001b[0;34m)\u001b[0m \u001b[0;34m>\u001b[0m \u001b[0;36m1\u001b[0m \u001b[0;32mand\u001b[0m \u001b[0mhard\u001b[0m\u001b[0;34m:\u001b[0m\u001b[0;34m\u001b[0m\u001b[0;34m\u001b[0m\u001b[0m\n",
            "\u001b[0;31mFileNotFoundError\u001b[0m: '/content/drive/My Drive/data800/data800/data-gray.yaml' does not exist",
            "\nThe above exception was the direct cause of the following exception:\n",
            "\u001b[0;31mRuntimeError\u001b[0m                              Traceback (most recent call last)",
            "\u001b[0;32m<ipython-input-23-246738d81857>\u001b[0m in \u001b[0;36m<cell line: 0>\u001b[0;34m()\u001b[0m\n\u001b[1;32m      2\u001b[0m \u001b[0;34m\u001b[0m\u001b[0m\n\u001b[1;32m      3\u001b[0m \u001b[0mmodel\u001b[0m \u001b[0;34m=\u001b[0m \u001b[0mYOLO\u001b[0m\u001b[0;34m(\u001b[0m\u001b[0;34m\"/content/drive/My Drive/data800/data800/yolov8n.pt\"\u001b[0m\u001b[0;34m)\u001b[0m  \u001b[0;31m# load a pretrained model (recommended for training)\u001b[0m\u001b[0;34m\u001b[0m\u001b[0;34m\u001b[0m\u001b[0m\n\u001b[0;32m----> 4\u001b[0;31m \u001b[0mtrainer\u001b[0m \u001b[0;34m=\u001b[0m \u001b[0mmodel\u001b[0m\u001b[0;34m.\u001b[0m\u001b[0mtrain\u001b[0m\u001b[0;34m(\u001b[0m\u001b[0mdata\u001b[0m\u001b[0;34m=\u001b[0m\u001b[0;34m\"/content/drive/My Drive/data800/data800/data-gray.yaml\"\u001b[0m\u001b[0;34m,\u001b[0m \u001b[0mimgsz\u001b[0m\u001b[0;34m=\u001b[0m\u001b[0;36m800\u001b[0m\u001b[0;34m,\u001b[0m \u001b[0mepochs\u001b[0m\u001b[0;34m=\u001b[0m\u001b[0;36m300\u001b[0m\u001b[0;34m,\u001b[0m \u001b[0mdevice\u001b[0m\u001b[0;34m=\u001b[0m\u001b[0;34m\"cuda\"\u001b[0m\u001b[0;34m,\u001b[0m \u001b[0mlr0\u001b[0m\u001b[0;34m=\u001b[0m\u001b[0;36m0.007\u001b[0m\u001b[0;34m,\u001b[0m \u001b[0moptimizer\u001b[0m\u001b[0;34m=\u001b[0m\u001b[0;34m'AdamW'\u001b[0m\u001b[0;34m,\u001b[0m \u001b[0mweight_decay\u001b[0m\u001b[0;34m=\u001b[0m\u001b[0;36m0.000008\u001b[0m\u001b[0;34m)\u001b[0m  \u001b[0;31m# train the model\u001b[0m\u001b[0;34m\u001b[0m\u001b[0;34m\u001b[0m\u001b[0m\n\u001b[0m",
            "\u001b[0;32m/usr/local/lib/python3.11/dist-packages/ultralytics/engine/model.py\u001b[0m in \u001b[0;36mtrain\u001b[0;34m(self, trainer, **kwargs)\u001b[0m\n\u001b[1;32m    801\u001b[0m             \u001b[0margs\u001b[0m\u001b[0;34m[\u001b[0m\u001b[0;34m\"resume\"\u001b[0m\u001b[0;34m]\u001b[0m \u001b[0;34m=\u001b[0m \u001b[0mself\u001b[0m\u001b[0;34m.\u001b[0m\u001b[0mckpt_path\u001b[0m\u001b[0;34m\u001b[0m\u001b[0;34m\u001b[0m\u001b[0m\n\u001b[1;32m    802\u001b[0m \u001b[0;34m\u001b[0m\u001b[0m\n\u001b[0;32m--> 803\u001b[0;31m         \u001b[0mself\u001b[0m\u001b[0;34m.\u001b[0m\u001b[0mtrainer\u001b[0m \u001b[0;34m=\u001b[0m \u001b[0;34m(\u001b[0m\u001b[0mtrainer\u001b[0m \u001b[0;32mor\u001b[0m \u001b[0mself\u001b[0m\u001b[0;34m.\u001b[0m\u001b[0m_smart_load\u001b[0m\u001b[0;34m(\u001b[0m\u001b[0;34m\"trainer\"\u001b[0m\u001b[0;34m)\u001b[0m\u001b[0;34m)\u001b[0m\u001b[0;34m(\u001b[0m\u001b[0moverrides\u001b[0m\u001b[0;34m=\u001b[0m\u001b[0margs\u001b[0m\u001b[0;34m,\u001b[0m \u001b[0m_callbacks\u001b[0m\u001b[0;34m=\u001b[0m\u001b[0mself\u001b[0m\u001b[0;34m.\u001b[0m\u001b[0mcallbacks\u001b[0m\u001b[0;34m)\u001b[0m\u001b[0;34m\u001b[0m\u001b[0;34m\u001b[0m\u001b[0m\n\u001b[0m\u001b[1;32m    804\u001b[0m         \u001b[0;32mif\u001b[0m \u001b[0;32mnot\u001b[0m \u001b[0margs\u001b[0m\u001b[0;34m.\u001b[0m\u001b[0mget\u001b[0m\u001b[0;34m(\u001b[0m\u001b[0;34m\"resume\"\u001b[0m\u001b[0;34m)\u001b[0m\u001b[0;34m:\u001b[0m  \u001b[0;31m# manually set model only if not resuming\u001b[0m\u001b[0;34m\u001b[0m\u001b[0;34m\u001b[0m\u001b[0m\n\u001b[1;32m    805\u001b[0m             \u001b[0mself\u001b[0m\u001b[0;34m.\u001b[0m\u001b[0mtrainer\u001b[0m\u001b[0;34m.\u001b[0m\u001b[0mmodel\u001b[0m \u001b[0;34m=\u001b[0m \u001b[0mself\u001b[0m\u001b[0;34m.\u001b[0m\u001b[0mtrainer\u001b[0m\u001b[0;34m.\u001b[0m\u001b[0mget_model\u001b[0m\u001b[0;34m(\u001b[0m\u001b[0mweights\u001b[0m\u001b[0;34m=\u001b[0m\u001b[0mself\u001b[0m\u001b[0;34m.\u001b[0m\u001b[0mmodel\u001b[0m \u001b[0;32mif\u001b[0m \u001b[0mself\u001b[0m\u001b[0;34m.\u001b[0m\u001b[0mckpt\u001b[0m \u001b[0;32melse\u001b[0m \u001b[0;32mNone\u001b[0m\u001b[0;34m,\u001b[0m \u001b[0mcfg\u001b[0m\u001b[0;34m=\u001b[0m\u001b[0mself\u001b[0m\u001b[0;34m.\u001b[0m\u001b[0mmodel\u001b[0m\u001b[0;34m.\u001b[0m\u001b[0myaml\u001b[0m\u001b[0;34m)\u001b[0m\u001b[0;34m\u001b[0m\u001b[0;34m\u001b[0m\u001b[0m\n",
            "\u001b[0;32m/usr/local/lib/python3.11/dist-packages/ultralytics/engine/trainer.py\u001b[0m in \u001b[0;36m__init__\u001b[0;34m(self, cfg, overrides, _callbacks)\u001b[0m\n\u001b[1;32m    132\u001b[0m         \u001b[0mself\u001b[0m\u001b[0;34m.\u001b[0m\u001b[0mmodel\u001b[0m \u001b[0;34m=\u001b[0m \u001b[0mcheck_model_file_from_stem\u001b[0m\u001b[0;34m(\u001b[0m\u001b[0mself\u001b[0m\u001b[0;34m.\u001b[0m\u001b[0margs\u001b[0m\u001b[0;34m.\u001b[0m\u001b[0mmodel\u001b[0m\u001b[0;34m)\u001b[0m  \u001b[0;31m# add suffix, i.e. yolo11n -> yolo11n.pt\u001b[0m\u001b[0;34m\u001b[0m\u001b[0;34m\u001b[0m\u001b[0m\n\u001b[1;32m    133\u001b[0m         \u001b[0;32mwith\u001b[0m \u001b[0mtorch_distributed_zero_first\u001b[0m\u001b[0;34m(\u001b[0m\u001b[0mLOCAL_RANK\u001b[0m\u001b[0;34m)\u001b[0m\u001b[0;34m:\u001b[0m  \u001b[0;31m# avoid auto-downloading dataset multiple times\u001b[0m\u001b[0;34m\u001b[0m\u001b[0;34m\u001b[0m\u001b[0m\n\u001b[0;32m--> 134\u001b[0;31m             \u001b[0mself\u001b[0m\u001b[0;34m.\u001b[0m\u001b[0mtrainset\u001b[0m\u001b[0;34m,\u001b[0m \u001b[0mself\u001b[0m\u001b[0;34m.\u001b[0m\u001b[0mtestset\u001b[0m \u001b[0;34m=\u001b[0m \u001b[0mself\u001b[0m\u001b[0;34m.\u001b[0m\u001b[0mget_dataset\u001b[0m\u001b[0;34m(\u001b[0m\u001b[0;34m)\u001b[0m\u001b[0;34m\u001b[0m\u001b[0;34m\u001b[0m\u001b[0m\n\u001b[0m\u001b[1;32m    135\u001b[0m         \u001b[0mself\u001b[0m\u001b[0;34m.\u001b[0m\u001b[0mema\u001b[0m \u001b[0;34m=\u001b[0m \u001b[0;32mNone\u001b[0m\u001b[0;34m\u001b[0m\u001b[0;34m\u001b[0m\u001b[0m\n\u001b[1;32m    136\u001b[0m \u001b[0;34m\u001b[0m\u001b[0m\n",
            "\u001b[0;32m/usr/local/lib/python3.11/dist-packages/ultralytics/engine/trainer.py\u001b[0m in \u001b[0;36mget_dataset\u001b[0;34m(self)\u001b[0m\n\u001b[1;32m    566\u001b[0m                     \u001b[0mself\u001b[0m\u001b[0;34m.\u001b[0m\u001b[0margs\u001b[0m\u001b[0;34m.\u001b[0m\u001b[0mdata\u001b[0m \u001b[0;34m=\u001b[0m \u001b[0mdata\u001b[0m\u001b[0;34m[\u001b[0m\u001b[0;34m\"yaml_file\"\u001b[0m\u001b[0;34m]\u001b[0m  \u001b[0;31m# for validating 'yolo train data=url.zip' usage\u001b[0m\u001b[0;34m\u001b[0m\u001b[0;34m\u001b[0m\u001b[0m\n\u001b[1;32m    567\u001b[0m         \u001b[0;32mexcept\u001b[0m \u001b[0mException\u001b[0m \u001b[0;32mas\u001b[0m \u001b[0me\u001b[0m\u001b[0;34m:\u001b[0m\u001b[0;34m\u001b[0m\u001b[0;34m\u001b[0m\u001b[0m\n\u001b[0;32m--> 568\u001b[0;31m             \u001b[0;32mraise\u001b[0m \u001b[0mRuntimeError\u001b[0m\u001b[0;34m(\u001b[0m\u001b[0memojis\u001b[0m\u001b[0;34m(\u001b[0m\u001b[0;34mf\"Dataset '{clean_url(self.args.data)}' error ❌ {e}\"\u001b[0m\u001b[0;34m)\u001b[0m\u001b[0;34m)\u001b[0m \u001b[0;32mfrom\u001b[0m \u001b[0me\u001b[0m\u001b[0;34m\u001b[0m\u001b[0;34m\u001b[0m\u001b[0m\n\u001b[0m\u001b[1;32m    569\u001b[0m         \u001b[0mself\u001b[0m\u001b[0;34m.\u001b[0m\u001b[0mdata\u001b[0m \u001b[0;34m=\u001b[0m \u001b[0mdata\u001b[0m\u001b[0;34m\u001b[0m\u001b[0;34m\u001b[0m\u001b[0m\n\u001b[1;32m    570\u001b[0m         \u001b[0;32mreturn\u001b[0m \u001b[0mdata\u001b[0m\u001b[0;34m[\u001b[0m\u001b[0;34m\"train\"\u001b[0m\u001b[0;34m]\u001b[0m\u001b[0;34m,\u001b[0m \u001b[0mdata\u001b[0m\u001b[0;34m.\u001b[0m\u001b[0mget\u001b[0m\u001b[0;34m(\u001b[0m\u001b[0;34m\"val\"\u001b[0m\u001b[0;34m)\u001b[0m \u001b[0;32mor\u001b[0m \u001b[0mdata\u001b[0m\u001b[0;34m.\u001b[0m\u001b[0mget\u001b[0m\u001b[0;34m(\u001b[0m\u001b[0;34m\"test\"\u001b[0m\u001b[0;34m)\u001b[0m\u001b[0;34m\u001b[0m\u001b[0;34m\u001b[0m\u001b[0m\n",
            "\u001b[0;31mRuntimeError\u001b[0m: Dataset '/content/drive/My Drive/data800/data800/data-gray.yaml' error ❌ '/content/drive/My Drive/data800/data800/data-gray.yaml' does not exist"
          ]
        }
      ],
      "source": [
        "from ultralytics import YOLO\n",
        "\n",
        "model = YOLO(\"/content/drive/My Drive/data800/data800/yolov8n.pt\")  # load a pretrained model (recommended for training)\n",
        "trainer = model.train(data=\"/content/drive/My Drive/data800/data800/data-gray.yaml\", imgsz=800, epochs=300, device=\"cuda\", lr0=0.007, optimizer='AdamW', weight_decay=0.000008)  # train the model\n"
      ]
    },
    {
      "cell_type": "code",
      "execution_count": null,
      "metadata": {
        "id": "b0g-tYsgNWAJ",
        "outputId": "0f14a7cd-d72d-4920-a48d-33854ddec6e6"
      },
      "outputs": [
        {
          "name": "stdout",
          "output_type": "stream",
          "text": [
            "Ultralytics YOLOv8.2.77  Python-3.8.19 torch-2.4.0 CUDA:0 (NVIDIA GeForce RTX 4060 Laptop GPU, 8188MiB)\n"
          ]
        },
        {
          "name": "stderr",
          "output_type": "stream",
          "text": [
            "\u001b[34m\u001b[1mval: \u001b[0mScanning C:\\Users\\Monko\\Documents\\galassia\\gi_training\\data800\\valid\\labels.cache... 30 images, 19 backgrounds, 0 corrupt: 100%|██████████| 30/30 [00:00<?, ?it/s]\n",
            "                 Class     Images  Instances      Box(P          R      mAP50  mAP50-95): 100%|██████████| 2/2 [00:08<00:00,  4.02s/it]\n"
          ]
        },
        {
          "name": "stdout",
          "output_type": "stream",
          "text": [
            "                   all         30         35      0.982        0.6      0.765      0.531\n",
            "Speed: 5.5ms preprocess, 15.9ms inference, 0.0ms loss, 2.0ms postprocess per image\n",
            "Results saved to \u001b[1mruns\\detect\\train253\u001b[0m\n"
          ]
        }
      ],
      "source": [
        "metrics = model.val()"
      ]
    },
    {
      "cell_type": "code",
      "execution_count": null,
      "metadata": {
        "id": "BHz3mB7aNWAJ",
        "outputId": "f5c5c512-00d5-4d8d-adfa-fe6f325e7c7d"
      },
      "outputs": [
        {
          "name": "stdout",
          "output_type": "stream",
          "text": [
            "\n",
            "image 1/1 c:\\Users\\Monko\\Documents\\galassia\\gi_training\\data800\\test\\images\\validation_1_6.jpg: 800x800 29 ships, 17.2ms\n",
            "Speed: 2.4ms preprocess, 17.2ms inference, 0.0ms postprocess per image at shape (1, 3, 800, 800)\n",
            "Ultralytics YOLOv8.2.77  Python-3.8.19 torch-2.4.0 CPU (13th Gen Intel Core(TM) i7-13700H)\n",
            "\n",
            "\u001b[34m\u001b[1mPyTorch:\u001b[0m starting from 'runs\\detect\\train25\\weights\\best.pt' with input shape (1, 3, 800, 800) BCHW and output shape(s) (1, 5, 13125) (6.0 MB)\n",
            "\n",
            "\u001b[34m\u001b[1mONNX:\u001b[0m starting export with onnx 1.16.2 opset 19...\n",
            "\u001b[34m\u001b[1mONNX:\u001b[0m export success  0.5s, saved as 'runs\\detect\\train25\\weights\\best.onnx' (11.8 MB)\n",
            "\n",
            "Export complete (2.5s)\n",
            "Results saved to \u001b[1mC:\\Users\\Monko\\Documents\\galassia\\gi_training\\runs\\detect\\train25\\weights\u001b[0m\n",
            "Predict:         yolo predict task=detect model=runs\\detect\\train25\\weights\\best.onnx imgsz=800  \n",
            "Validate:        yolo val task=detect model=runs\\detect\\train25\\weights\\best.onnx imgsz=800 data=./data800/data.yaml  \n",
            "Visualize:       https://netron.app\n"
          ]
        }
      ],
      "source": [
        "results = model(\"./data800/test/images/validation_1_6.jpg\")  # predict on an image\n",
        "path = model.export(format=\"onnx\", imgsz=800, opset=17)  # export the model to ONNX format"
      ]
    },
    {
      "cell_type": "code",
      "execution_count": null,
      "metadata": {
        "id": "YqcvncHhNWAK",
        "outputId": "eb2491e0-6d85-4aec-d917-c3868150a951"
      },
      "outputs": [
        {
          "name": "stdout",
          "output_type": "stream",
          "text": [
            "Ultralytics YOLOv8.2.77  Python-3.8.19 torch-2.4.0 CPU (13th Gen Intel Core(TM) i7-13700H)\n",
            "\n",
            "\u001b[34m\u001b[1mPyTorch:\u001b[0m starting from 'runs\\detect\\train25\\weights\\best.pt' with input shape (1, 3, 800, 800) BCHW and output shape(s) (1, 5, 13125) (6.0 MB)\n",
            "\n",
            "\u001b[34m\u001b[1mONNX:\u001b[0m starting export with onnx 1.16.2 opset 17...\n",
            "\u001b[34m\u001b[1mONNX:\u001b[0m export success  0.6s, saved as 'runs\\detect\\train25\\weights\\best.onnx' (11.8 MB)\n",
            "\n",
            "Export complete (3.2s)\n",
            "Results saved to \u001b[1mC:\\Users\\Monko\\Documents\\galassia\\gi_training\\runs\\detect\\train25\\weights\u001b[0m\n",
            "Predict:         yolo predict task=detect model=runs\\detect\\train25\\weights\\best.onnx imgsz=800  \n",
            "Validate:        yolo val task=detect model=runs\\detect\\train25\\weights\\best.onnx imgsz=800 data=./data800/data.yaml  \n",
            "Visualize:       https://netron.app\n"
          ]
        }
      ],
      "source": [
        "path = model.export(format=\"onnx\", imgsz=800, opset=17)"
      ]
    },
    {
      "cell_type": "code",
      "execution_count": null,
      "metadata": {
        "id": "npjjq3NPNWAK"
      },
      "outputs": [],
      "source": [
        "from ultralytics import YOLO\n",
        "model = YOLO(\"./runs/detect/train25/weights/best.pt\")  # load a pretrained model (recommended for training)\n",
        "# results = model(\"./data800/test/images/singapore311_2_2.jpg\")  # predict on an image"
      ]
    },
    {
      "cell_type": "code",
      "execution_count": null,
      "metadata": {
        "id": "PhvJuM6HNWAK",
        "outputId": "a9f67150-5d19-4782-b181-63c7e9614c7c"
      },
      "outputs": [
        {
          "data": {
            "text/plain": [
              "['desaru01_0_5.jpg',\n",
              " 'desaru01_1_1.jpg',\n",
              " 'desaru10_2_0.jpg',\n",
              " 'desaru11_2_0.jpg',\n",
              " 'singapore110_2_1.jpg',\n",
              " 'singapore200_1_4.jpg',\n",
              " 'singapore311_2_2.jpg']"
            ]
          },
          "execution_count": 21,
          "metadata": {},
          "output_type": "execute_result"
        }
      ],
      "source": [
        "import os\n",
        "os.listdir('./data800/test/images')"
      ]
    },
    {
      "cell_type": "code",
      "execution_count": null,
      "metadata": {
        "id": "4ZbZ0JUNNWAK",
        "outputId": "72083b0d-8ede-419a-f9be-a12e3764e65f"
      },
      "outputs": [
        {
          "name": "stdout",
          "output_type": "stream",
          "text": [
            "\n",
            "image 1/1 c:\\Users\\Monko\\Documents\\galassia\\gi_training\\data800\\test\\images\\desaru01_0_5.jpg: 800x800 (no detections), 28.8ms\n",
            "Speed: 3.8ms preprocess, 28.8ms inference, 0.0ms postprocess per image at shape (1, 3, 800, 800)\n",
            "\n",
            "image 1/1 c:\\Users\\Monko\\Documents\\galassia\\gi_training\\data800\\test\\images\\desaru01_1_1.jpg: 800x800 2 ships, 21.1ms\n",
            "Speed: 5.5ms preprocess, 21.1ms inference, 0.0ms postprocess per image at shape (1, 3, 800, 800)\n",
            "\n",
            "image 1/1 c:\\Users\\Monko\\Documents\\galassia\\gi_training\\data800\\test\\images\\desaru10_2_0.jpg: 800x800 1 ship, 24.2ms\n",
            "Speed: 5.0ms preprocess, 24.2ms inference, 0.0ms postprocess per image at shape (1, 3, 800, 800)\n",
            "\n",
            "image 1/1 c:\\Users\\Monko\\Documents\\galassia\\gi_training\\data800\\test\\images\\desaru11_2_0.jpg: 800x800 1 ship, 24.8ms\n",
            "Speed: 9.5ms preprocess, 24.8ms inference, 0.0ms postprocess per image at shape (1, 3, 800, 800)\n",
            "\n",
            "image 1/1 c:\\Users\\Monko\\Documents\\galassia\\gi_training\\data800\\test\\images\\singapore110_2_1.jpg: 800x800 3 ships, 29.4ms\n",
            "Speed: 4.8ms preprocess, 29.4ms inference, 2.0ms postprocess per image at shape (1, 3, 800, 800)\n",
            "\n",
            "image 1/1 c:\\Users\\Monko\\Documents\\galassia\\gi_training\\data800\\test\\images\\singapore200_1_4.jpg: 800x800 17 ships, 19.3ms\n",
            "Speed: 7.1ms preprocess, 19.3ms inference, 0.0ms postprocess per image at shape (1, 3, 800, 800)\n",
            "\n",
            "image 1/1 c:\\Users\\Monko\\Documents\\galassia\\gi_training\\data800\\test\\images\\singapore311_2_2.jpg: 800x800 28 ships, 26.2ms\n",
            "Speed: 2.4ms preprocess, 26.2ms inference, 2.2ms postprocess per image at shape (1, 3, 800, 800)\n"
          ]
        }
      ],
      "source": [
        "import os\n",
        "\n",
        "for image in os.listdir('./data800/test/images'):\n",
        "    results = model(f\"./data800/test/images/{image}\")  # predict on an image\n",
        "    results[0].plot(save=True, filename=f'./testing/{image}', label_path=f'./data800/test/labels/{image.replace(\".jpg\", \".txt\")}')  # plot predictions\n",
        "    # results[0].save(f'./output/{image}')"
      ]
    },
    {
      "cell_type": "code",
      "execution_count": null,
      "metadata": {
        "id": "ox4qPr-kNWAK",
        "outputId": "d34efa56-b335-4e6f-eb3d-2346e7b15f2d"
      },
      "outputs": [
        {
          "name": "stdout",
          "output_type": "stream",
          "text": [
            "Ultralytics YOLOv8.2.77  Python-3.8.19 torch-2.4.0 CPU (13th Gen Intel Core(TM) i7-13700H)\n",
            "\n",
            "\u001b[34m\u001b[1mPyTorch:\u001b[0m starting from 'runs\\detect\\train23\\weights\\best.pt' with input shape (1, 3, 800, 800) BCHW and output shape(s) (1, 5, 13125) (6.0 MB)\n",
            "\n",
            "\u001b[34m\u001b[1mONNX:\u001b[0m starting export with onnx 1.16.2 opset 17...\n",
            "\u001b[34m\u001b[1mONNX:\u001b[0m export success  0.5s, saved as 'runs\\detect\\train23\\weights\\best.onnx' (11.8 MB)\n",
            "\n",
            "Export complete (2.1s)\n",
            "Results saved to \u001b[1mC:\\Users\\Monko\\Documents\\galassia\\gi_training\\runs\\detect\\train23\\weights\u001b[0m\n",
            "Predict:         yolo predict task=detect model=runs\\detect\\train23\\weights\\best.onnx imgsz=800  \n",
            "Validate:        yolo val task=detect model=runs\\detect\\train23\\weights\\best.onnx imgsz=800 data=./data800/data.yaml  \n",
            "Visualize:       https://netron.app\n"
          ]
        }
      ],
      "source": [
        "path = model.export(format=\"onnx\", imgsz=800, opset=17)"
      ]
    },
    {
      "cell_type": "code",
      "execution_count": null,
      "metadata": {
        "id": "3RGnIBJ7NWAK",
        "outputId": "de99f9e3-5c6f-4ff3-f864-0476db86de2f"
      },
      "outputs": [
        {
          "name": "stdout",
          "output_type": "stream",
          "text": [
            "\n",
            "image 1/1 c:\\Users\\Monko\\Documents\\galassia\\gi_training\\data800\\test\\images\\validation_1_6.jpg: 800x800 26 ships, 30.7ms\n",
            "Speed: 6.4ms preprocess, 30.7ms inference, 0.0ms postprocess per image at shape (1, 3, 800, 800)\n"
          ]
        }
      ],
      "source": [
        "results = model(\"./data800/test/images/validation_1_6.jpg\")  # predict on an image"
      ]
    },
    {
      "cell_type": "code",
      "execution_count": null,
      "metadata": {
        "id": "HXQc4qqcNWAK",
        "outputId": "2f53a8ac-5c9a-4783-ad52-7a1ce1afa7a9"
      },
      "outputs": [
        {
          "data": {
            "text/plain": [
              "ultralytics.engine.results.Boxes object with attributes:\n",
              "\n",
              "cls: tensor([0., 0., 0., 0., 0., 0., 0., 0., 0., 0., 0., 0., 0., 0., 0., 0., 0.], device='cuda:0')\n",
              "conf: tensor([0.7803, 0.7729, 0.7721, 0.7654, 0.7483, 0.7309, 0.7174, 0.7066, 0.7030, 0.6875, 0.6859, 0.6611, 0.6578, 0.6062, 0.5876, 0.4090, 0.3706], device='cuda:0')\n",
              "data: tensor([[5.0868e+02, 3.5681e+02, 5.2328e+02, 3.8597e+02, 7.8033e-01, 0.0000e+00],\n",
              "        [4.7011e+02, 1.7187e+02, 4.7898e+02, 1.9344e+02, 7.7292e-01, 0.0000e+00],\n",
              "        [6.3019e+02, 6.2871e+02, 6.4925e+02, 6.6272e+02, 7.7214e-01, 0.0000e+00],\n",
              "        [5.6613e+02, 2.0575e+02, 5.8222e+02, 2.2706e+02, 7.6540e-01, 0.0000e+00],\n",
              "        [4.0000e+02, 2.8589e+02, 4.1565e+02, 3.1747e+02, 7.4828e-01, 0.0000e+00],\n",
              "        [5.1818e+02, 2.5314e+02, 5.2855e+02, 2.7701e+02, 7.3087e-01, 0.0000e+00],\n",
              "        [5.9717e+02, 4.2940e+02, 6.1059e+02, 4.6783e+02, 7.1742e-01, 0.0000e+00],\n",
              "        [7.3569e+02, 5.2497e+02, 7.5238e+02, 5.3501e+02, 7.0662e-01, 0.0000e+00],\n",
              "        [7.2314e+02, 3.8940e+02, 7.3442e+02, 4.2666e+02, 7.0300e-01, 0.0000e+00],\n",
              "        [6.3973e+02, 3.2250e+02, 6.5698e+02, 3.4550e+02, 6.8746e-01, 0.0000e+00],\n",
              "        [3.3906e+02, 2.1177e+02, 3.5706e+02, 2.3771e+02, 6.8592e-01, 0.0000e+00],\n",
              "        [4.8736e+02, 9.1029e+01, 4.9525e+02, 1.0572e+02, 6.6114e-01, 0.0000e+00],\n",
              "        [2.6460e+02, 1.1735e+02, 2.7501e+02, 1.4133e+02, 6.5778e-01, 0.0000e+00],\n",
              "        [3.6409e+02, 9.2017e+01, 3.7932e+02, 1.0554e+02, 6.0622e-01, 0.0000e+00],\n",
              "        [2.1791e+02, 5.2881e+01, 2.2572e+02, 6.8438e+01, 5.8755e-01, 0.0000e+00],\n",
              "        [4.1293e+02, 4.7517e+01, 4.2223e+02, 6.1627e+01, 4.0900e-01, 0.0000e+00],\n",
              "        [6.7234e+02, 1.7147e+02, 6.7907e+02, 1.8473e+02, 3.7064e-01, 0.0000e+00]], device='cuda:0')\n",
              "id: None\n",
              "is_track: False\n",
              "orig_shape: (800, 800)\n",
              "shape: torch.Size([17, 6])\n",
              "xywh: tensor([[515.9833, 371.3910,  14.6007,  29.1558],\n",
              "        [474.5477, 182.6567,   8.8679,  21.5648],\n",
              "        [639.7208, 645.7135,  19.0576,  34.0125],\n",
              "        [574.1785, 216.4026,  16.0885,  21.3116],\n",
              "        [407.8239, 301.6783,  15.6458,  31.5818],\n",
              "        [523.3651, 265.0755,  10.3718,  23.8651],\n",
              "        [603.8810, 448.6185,  13.4275,  38.4312],\n",
              "        [744.0330, 529.9918,  16.6855,  10.0369],\n",
              "        [728.7795, 408.0277,  11.2871,  37.2639],\n",
              "        [648.3564, 333.9999,  17.2449,  22.9905],\n",
              "        [348.0638, 224.7420,  17.9985,  25.9341],\n",
              "        [491.3045,  98.3760,   7.8925,  14.6947],\n",
              "        [269.8023, 129.3413,  10.4133,  23.9852],\n",
              "        [371.7047,  98.7788,  15.2253,  13.5237],\n",
              "        [221.8110,  60.6594,   7.8105,  15.5572],\n",
              "        [417.5826,  54.5723,   9.2967,  14.1099],\n",
              "        [675.7027, 178.1006,   6.7273,  13.2585]], device='cuda:0')\n",
              "xywhn: tensor([[0.6450, 0.4642, 0.0183, 0.0364],\n",
              "        [0.5932, 0.2283, 0.0111, 0.0270],\n",
              "        [0.7997, 0.8071, 0.0238, 0.0425],\n",
              "        [0.7177, 0.2705, 0.0201, 0.0266],\n",
              "        [0.5098, 0.3771, 0.0196, 0.0395],\n",
              "        [0.6542, 0.3313, 0.0130, 0.0298],\n",
              "        [0.7549, 0.5608, 0.0168, 0.0480],\n",
              "        [0.9300, 0.6625, 0.0209, 0.0125],\n",
              "        [0.9110, 0.5100, 0.0141, 0.0466],\n",
              "        [0.8104, 0.4175, 0.0216, 0.0287],\n",
              "        [0.4351, 0.2809, 0.0225, 0.0324],\n",
              "        [0.6141, 0.1230, 0.0099, 0.0184],\n",
              "        [0.3373, 0.1617, 0.0130, 0.0300],\n",
              "        [0.4646, 0.1235, 0.0190, 0.0169],\n",
              "        [0.2773, 0.0758, 0.0098, 0.0194],\n",
              "        [0.5220, 0.0682, 0.0116, 0.0176],\n",
              "        [0.8446, 0.2226, 0.0084, 0.0166]], device='cuda:0')\n",
              "xyxy: tensor([[508.6830, 356.8131, 523.2837, 385.9689],\n",
              "        [470.1137, 171.8743, 478.9816, 193.4391],\n",
              "        [630.1920, 628.7073, 649.2496, 662.7197],\n",
              "        [566.1342, 205.7467, 582.2227, 227.0584],\n",
              "        [400.0010, 285.8874, 415.6467, 317.4692],\n",
              "        [518.1792, 253.1429, 528.5510, 277.0080],\n",
              "        [597.1672, 429.4029, 610.5947, 467.8340],\n",
              "        [735.6902, 524.9734, 752.3757, 535.0103],\n",
              "        [723.1360, 389.3957, 734.4231, 426.6596],\n",
              "        [639.7339, 322.5046, 656.9788, 345.4951],\n",
              "        [339.0646, 211.7749, 357.0631, 237.7090],\n",
              "        [487.3583,  91.0286, 495.2508, 105.7233],\n",
              "        [264.5956, 117.3487, 275.0090, 141.3339],\n",
              "        [364.0920,  92.0170, 379.3174, 105.5406],\n",
              "        [217.9057,  52.8807, 225.7163,  68.4380],\n",
              "        [412.9342,  47.5173, 422.2309,  61.6272],\n",
              "        [672.3391, 171.4714, 679.0663, 184.7299]], device='cuda:0')\n",
              "xyxyn: tensor([[0.6359, 0.4460, 0.6541, 0.4825],\n",
              "        [0.5876, 0.2148, 0.5987, 0.2418],\n",
              "        [0.7877, 0.7859, 0.8116, 0.8284],\n",
              "        [0.7077, 0.2572, 0.7278, 0.2838],\n",
              "        [0.5000, 0.3574, 0.5196, 0.3968],\n",
              "        [0.6477, 0.3164, 0.6607, 0.3463],\n",
              "        [0.7465, 0.5368, 0.7632, 0.5848],\n",
              "        [0.9196, 0.6562, 0.9405, 0.6688],\n",
              "        [0.9039, 0.4867, 0.9180, 0.5333],\n",
              "        [0.7997, 0.4031, 0.8212, 0.4319],\n",
              "        [0.4238, 0.2647, 0.4463, 0.2971],\n",
              "        [0.6092, 0.1138, 0.6191, 0.1322],\n",
              "        [0.3307, 0.1467, 0.3438, 0.1767],\n",
              "        [0.4551, 0.1150, 0.4741, 0.1319],\n",
              "        [0.2724, 0.0661, 0.2821, 0.0855],\n",
              "        [0.5162, 0.0594, 0.5278, 0.0770],\n",
              "        [0.8404, 0.2143, 0.8488, 0.2309]], device='cuda:0')"
            ]
          },
          "execution_count": 17,
          "metadata": {},
          "output_type": "execute_result"
        }
      ],
      "source": [
        "results[0].boxes"
      ]
    },
    {
      "cell_type": "code",
      "execution_count": null,
      "metadata": {
        "id": "-3oPvg1HNWAL",
        "outputId": "3c046bcf-b7c3-4f89-a26e-22b63cf06294"
      },
      "outputs": [
        {
          "data": {
            "text/plain": [
              "array([[[106, 106,  66],\n",
              "        [106, 106,  66],\n",
              "        [106, 106,  66],\n",
              "        ...,\n",
              "        [103,  99,  64],\n",
              "        [103,  99,  64],\n",
              "        [103,  99,  64]],\n",
              "\n",
              "       [[106, 106,  66],\n",
              "        [106, 106,  66],\n",
              "        [106, 106,  66],\n",
              "        ...,\n",
              "        [103,  99,  64],\n",
              "        [103,  99,  64],\n",
              "        [103,  99,  64]],\n",
              "\n",
              "       [[106, 106,  66],\n",
              "        [106, 106,  66],\n",
              "        [106, 106,  66],\n",
              "        ...,\n",
              "        [103,  99,  64],\n",
              "        [103,  99,  64],\n",
              "        [103,  99,  64]],\n",
              "\n",
              "       ...,\n",
              "\n",
              "       [[  0,   0,   0],\n",
              "        [  0,   0,   0],\n",
              "        [  0,   0,   0],\n",
              "        ...,\n",
              "        [102, 101,  67],\n",
              "        [102, 101,  67],\n",
              "        [102, 101,  67]],\n",
              "\n",
              "       [[  0,   0,   0],\n",
              "        [  0,   0,   0],\n",
              "        [  0,   0,   0],\n",
              "        ...,\n",
              "        [102, 101,  67],\n",
              "        [102, 101,  67],\n",
              "        [102, 101,  67]],\n",
              "\n",
              "       [[  0,   0,   0],\n",
              "        [  0,   0,   0],\n",
              "        [  0,   0,   0],\n",
              "        ...,\n",
              "        [102, 101,  67],\n",
              "        [102, 101,  67],\n",
              "        [102, 101,  67]]], dtype=uint8)"
            ]
          },
          "execution_count": 7,
          "metadata": {},
          "output_type": "execute_result"
        }
      ],
      "source": [
        "results[0].plot(save=True, filename=\"testing.jpg\", label_path=\"./data800/test/labels/validation_1_6.txt\")  # plot predictions"
      ]
    },
    {
      "cell_type": "code",
      "execution_count": null,
      "metadata": {
        "id": "ZoU_UXbONWAL",
        "outputId": "8abce760-eac7-432d-ce57-06d6862e8947"
      },
      "outputs": [
        {
          "data": {
            "text/plain": [
              "'./output1.jpg'"
            ]
          },
          "execution_count": 16,
          "metadata": {},
          "output_type": "execute_result"
        }
      ],
      "source": [
        "results[0].show()\n",
        "results[0].save('./output1.jpg')"
      ]
    },
    {
      "cell_type": "code",
      "execution_count": null,
      "metadata": {
        "id": "fHD5OSzGNWAL"
      },
      "outputs": [],
      "source": [
        "results[0].save_crop(save_dir=\"./crops\", file_name=\"detection\")"
      ]
    },
    {
      "cell_type": "code",
      "execution_count": null,
      "metadata": {
        "id": "amzrdWupNWAL"
      },
      "outputs": [],
      "source": [
        "import onnx\n",
        "\n",
        "# Load the model\n",
        "model = onnx.load(\"./runs/detect/train25/weights/best.onnx\")\n",
        "\n",
        "# Check that the IR is well formed\n",
        "onnx.checker.check_model(model)\n"
      ]
    },
    {
      "cell_type": "code",
      "execution_count": null,
      "metadata": {
        "id": "Qgf6qX3zNWAL"
      },
      "outputs": [],
      "source": []
    }
  ],
  "metadata": {
    "kernelspec": {
      "display_name": "Python 3",
      "name": "python3"
    },
    "language_info": {
      "codemirror_mode": {
        "name": "ipython",
        "version": 3
      },
      "file_extension": ".py",
      "mimetype": "text/x-python",
      "name": "python",
      "nbconvert_exporter": "python",
      "pygments_lexer": "ipython3",
      "version": "3.8.19"
    },
    "colab": {
      "provenance": [],
      "gpuType": "T4"
    },
    "accelerator": "GPU"
  },
  "nbformat": 4,
  "nbformat_minor": 0
}