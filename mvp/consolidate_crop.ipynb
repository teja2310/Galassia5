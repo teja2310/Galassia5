{
 "cells": [
  {
   "cell_type": "code",
   "execution_count": 1,
   "metadata": {},
   "outputs": [],
   "source": [
    "from osgeo import gdal \n",
    "import numpy as np\n",
    "import pandas as pd\n",
    "import math\n",
    "import matplotlib.pyplot as plt\n",
    "from PIL import Image as im "
   ]
  },
  {
   "cell_type": "code",
   "execution_count": 7,
   "metadata": {},
   "outputs": [],
   "source": [
    "ds = gdal.Open(r'../valid/raw/EO_20230916_082425_0066611004_003_L1G_RGB_5m.tif')"
   ]
  },
  {
   "cell_type": "code",
   "execution_count": 8,
   "metadata": {},
   "outputs": [
    {
     "data": {
      "text/plain": [
       "3"
      ]
     },
     "execution_count": 8,
     "metadata": {},
     "output_type": "execute_result"
    }
   ],
   "source": [
    "ds.RasterCount"
   ]
  },
  {
   "cell_type": "code",
   "execution_count": 9,
   "metadata": {},
   "outputs": [
    {
     "data": {
      "text/plain": [
       "(6092, 5990)"
      ]
     },
     "execution_count": 9,
     "metadata": {},
     "output_type": "execute_result"
    }
   ],
   "source": [
    "ds.RasterXSize, ds.RasterYSize"
   ]
  },
  {
   "cell_type": "code",
   "execution_count": 10,
   "metadata": {},
   "outputs": [],
   "source": [
    "band1 = ds.GetRasterBand(1) # Red channel \n",
    "band2 = ds.GetRasterBand(2) # Green channel \n",
    "band3 = ds.GetRasterBand(3) # Blue channel\n",
    "b1 = band1.ReadAsArray() \n",
    "b2 = band2.ReadAsArray() \n",
    "b3 = band3.ReadAsArray() \n"
   ]
  },
  {
   "cell_type": "code",
   "execution_count": 11,
   "metadata": {},
   "outputs": [],
   "source": [
    "img = np.dstack((b1, b2, b3))\n",
    "maxi = np.max(img)"
   ]
  },
  {
   "cell_type": "code",
   "execution_count": 12,
   "metadata": {},
   "outputs": [
    {
     "data": {
      "text/plain": [
       "(5990, 6092, 3)"
      ]
     },
     "execution_count": 12,
     "metadata": {},
     "output_type": "execute_result"
    }
   ],
   "source": [
    "img.shape"
   ]
  },
  {
   "cell_type": "code",
   "execution_count": 14,
   "metadata": {},
   "outputs": [],
   "source": [
    "img_jpg = (img/maxi) * 255\n",
    "im.fromarray(img_jpg.astype(np.uint8)).save('../valid/labeled_jpg/validation.jpg')"
   ]
  },
  {
   "cell_type": "code",
   "execution_count": 15,
   "metadata": {},
   "outputs": [],
   "source": [
    "import cv2\n",
    "import os\n",
    "import numpy as np"
   ]
  },
  {
   "cell_type": "code",
   "execution_count": 16,
   "metadata": {},
   "outputs": [],
   "source": [
    "# Load YOLO annotations (example function - depends on your specific format)\n",
    "def load_yolo_annotations(annotation_file):\n",
    "    annotations = []\n",
    "    with open(annotation_file, 'r') as file:\n",
    "        for line in file:\n",
    "            class_id, x_center, y_center, width, height = map(float, line.split())\n",
    "            annotations.append((class_id, x_center, y_center, width, height))\n",
    "    return annotations\n",
    "\n",
    "# Save YOLO annotations for cropped images\n",
    "def save_yolo_annotations(annotations, save_path):\n",
    "    with open(save_path, 'w') as file:\n",
    "        for ann in annotations:\n",
    "            file.write(f\"{ann[0]} {ann[1]} {ann[2]} {ann[3]} {ann[4]}\\n\")\n",
    "\n",
    "# Translate and crop annotations\n",
    "def translate_annotations(annotations, crop_x, crop_y, crop_width, crop_height, img_width, img_height):\n",
    "    new_annotations = []\n",
    "    for class_id, x_center, y_center, width, height in annotations:\n",
    "        # Convert normalized center coordinates to absolute pixel values\n",
    "        abs_x_center = x_center * img_width\n",
    "        abs_y_center = y_center * img_height\n",
    "        abs_width = width * img_width\n",
    "        abs_height = height * img_height\n",
    "\n",
    "        # Check if the annotation is within the cropped region\n",
    "        if (crop_x <= abs_x_center <= crop_x + crop_width and\n",
    "            crop_y <= abs_y_center <= crop_y + crop_height):\n",
    "            # Adjust coordinates relative to the new cropped image\n",
    "            new_x_center = (abs_x_center - crop_x) / crop_width\n",
    "            new_y_center = (abs_y_center - crop_y) / crop_height\n",
    "            new_width = abs_width / crop_width\n",
    "            new_height = abs_height / crop_height\n",
    "            new_annotations.append((class_id, new_x_center, new_y_center, new_width, new_height))\n",
    "    return new_annotations\n",
    "\n",
    "# Main function for processing images and annotations\n",
    "def process_image_with_annotations(image_path, annotation_path, output_image, output_label, crop_size=800):\n",
    "    # Load image\n",
    "    img = cv2.imread(image_path)\n",
    "    img_height, img_width = img.shape[:2]\n",
    "    \n",
    "    # Load annotations\n",
    "    annotations = load_yolo_annotations(annotation_path)\n",
    "    \n",
    "    # Calculate the grid and process each crop\n",
    "    x_steps = (img_width + crop_size - 1) // crop_size  # ceil division\n",
    "    y_steps = (img_height + crop_size - 1) // crop_size\n",
    "    \n",
    "    for i in range(x_steps):\n",
    "        for j in range(y_steps):\n",
    "            # Determine the crop region\n",
    "            crop_x = i * crop_size if i < x_steps - 1 else img_width - crop_size\n",
    "            crop_y = j * crop_size if j < y_steps - 1 else img_height - crop_size\n",
    "            crop_width = min(crop_size, img_width - crop_x)\n",
    "            crop_height = min(crop_size, img_height - crop_y)\n",
    "\n",
    "            # Crop the image\n",
    "            cropped_img = img[crop_y:crop_y + crop_height, crop_x:crop_x + crop_width]\n",
    "\n",
    "            # Translate annotations to the cropped image\n",
    "            cropped_annotations = translate_annotations(annotations, crop_x, crop_y, crop_width, crop_height, img_width, img_height)\n",
    "\n",
    "            # Save cropped image and corresponding annotations\n",
    "            cropped_image_path = os.path.join(output_image, f\"{os.path.splitext(os.path.basename(image_path))[0]}_{i}_{j}.jpg\")\n",
    "            cropped_annotation_path = os.path.join(output_label, f\"{os.path.splitext(os.path.basename(annotation_path))[0]}_{i}_{j}.txt\")\n",
    "            \n",
    "            cv2.imwrite(cropped_image_path, cropped_img)\n",
    "            save_yolo_annotations(cropped_annotations, cropped_annotation_path)"
   ]
  },
  {
   "cell_type": "code",
   "execution_count": 17,
   "metadata": {},
   "outputs": [],
   "source": [
    "# Example usage\n",
    "output_image = \"../valid/images\"\n",
    "output_label = \"../valid/labels\"\n",
    "os.makedirs(output_image, exist_ok=True)\n",
    "os.makedirs(output_label, exist_ok=True)\n",
    "\n",
    "\n",
    "image_path = \"../valid/labeled_jpg/validation.jpg\"\n",
    "label_path = \"../valid/labeled_jpg/validation.txt\"\n",
    "process_image_with_annotations(image_path, label_path, output_image, output_label)"
   ]
  },
  {
   "cell_type": "code",
   "execution_count": 18,
   "metadata": {},
   "outputs": [],
   "source": [
    "import cv2\n",
    "import matplotlib.pyplot as plt\n",
    "import matplotlib.patches as patches"
   ]
  },
  {
   "cell_type": "code",
   "execution_count": 19,
   "metadata": {},
   "outputs": [],
   "source": [
    "# Load YOLO annotations\n",
    "def load_yolo_annotations(annotation_file):\n",
    "    annotations = []\n",
    "    with open(annotation_file, 'r') as file:\n",
    "        for line in file:\n",
    "            class_id, x_center, y_center, width, height = map(float, line.split())\n",
    "            annotations.append((class_id, x_center, y_center, width, height))\n",
    "    return annotations\n",
    "\n",
    "# Function to save image with YOLO annotations\n",
    "def save_image_with_annotations(image_path, annotation_path, output_folder):\n",
    "    # Load image\n",
    "    img = cv2.imread(image_path)\n",
    "    img_height, img_width = img.shape[:2]\n",
    "    \n",
    "    # Load annotations\n",
    "    annotations = load_yolo_annotations(annotation_path)\n",
    "    \n",
    "    # Draw bounding boxes on the image\n",
    "    for ann in annotations:\n",
    "        class_id, x_center, y_center, width, height = ann\n",
    "        \n",
    "        # Convert normalized coordinates to pixel values\n",
    "        box_x = int((x_center - width / 2) * img_width)\n",
    "        box_y = int((y_center - height / 2) * img_height)\n",
    "        box_width = int(width * img_width)\n",
    "        box_height = int(height * img_height)\n",
    "\n",
    "        # Draw rectangle for bounding box\n",
    "        cv2.rectangle(img, (box_x, box_y), (box_x + box_width, box_y + box_height), (0, 0, 255), 2)\n",
    "\n",
    "        # Put class ID label on the top-left corner of the bounding box\n",
    "        label = f\"Class: {int(class_id)}\"\n",
    "        cv2.putText(img, label, (box_x, box_y - 10), cv2.FONT_HERSHEY_SIMPLEX, 0.5, (255, 255, 0), 2)\n",
    "\n",
    "    # Save annotated image to output folder\n",
    "    os.makedirs(output_folder, exist_ok=True)\n",
    "    output_path = os.path.join(output_folder, os.path.basename(image_path))\n",
    "    cv2.imwrite(output_path, img)\n",
    "    print(f\"Saved annotated image to {output_path}\")"
   ]
  },
  {
   "cell_type": "code",
   "execution_count": 20,
   "metadata": {},
   "outputs": [
    {
     "name": "stdout",
     "output_type": "stream",
     "text": [
      "Saved annotated image to ../valid/visualise\\validation_0_0.jpg\n",
      "Saved annotated image to ../valid/visualise\\validation_0_1.jpg\n",
      "Saved annotated image to ../valid/visualise\\validation_0_2.jpg\n",
      "Saved annotated image to ../valid/visualise\\validation_0_3.jpg\n",
      "Saved annotated image to ../valid/visualise\\validation_0_4.jpg\n",
      "Saved annotated image to ../valid/visualise\\validation_0_5.jpg\n",
      "Saved annotated image to ../valid/visualise\\validation_0_6.jpg\n",
      "Saved annotated image to ../valid/visualise\\validation_0_7.jpg\n",
      "Saved annotated image to ../valid/visualise\\validation_1_0.jpg\n",
      "Saved annotated image to ../valid/visualise\\validation_1_1.jpg\n",
      "Saved annotated image to ../valid/visualise\\validation_1_2.jpg\n",
      "Saved annotated image to ../valid/visualise\\validation_1_3.jpg\n",
      "Saved annotated image to ../valid/visualise\\validation_1_4.jpg\n",
      "Saved annotated image to ../valid/visualise\\validation_1_5.jpg\n",
      "Saved annotated image to ../valid/visualise\\validation_1_6.jpg\n",
      "Saved annotated image to ../valid/visualise\\validation_1_7.jpg\n",
      "Saved annotated image to ../valid/visualise\\validation_2_0.jpg\n",
      "Saved annotated image to ../valid/visualise\\validation_2_1.jpg\n",
      "Saved annotated image to ../valid/visualise\\validation_2_2.jpg\n",
      "Saved annotated image to ../valid/visualise\\validation_2_3.jpg\n",
      "Saved annotated image to ../valid/visualise\\validation_2_4.jpg\n",
      "Saved annotated image to ../valid/visualise\\validation_2_5.jpg\n",
      "Saved annotated image to ../valid/visualise\\validation_2_6.jpg\n",
      "Saved annotated image to ../valid/visualise\\validation_2_7.jpg\n",
      "Saved annotated image to ../valid/visualise\\validation_3_0.jpg\n",
      "Saved annotated image to ../valid/visualise\\validation_3_1.jpg\n",
      "Saved annotated image to ../valid/visualise\\validation_3_2.jpg\n",
      "Saved annotated image to ../valid/visualise\\validation_3_3.jpg\n",
      "Saved annotated image to ../valid/visualise\\validation_3_4.jpg\n",
      "Saved annotated image to ../valid/visualise\\validation_3_5.jpg\n",
      "Saved annotated image to ../valid/visualise\\validation_3_6.jpg\n",
      "Saved annotated image to ../valid/visualise\\validation_3_7.jpg\n",
      "Saved annotated image to ../valid/visualise\\validation_4_0.jpg\n",
      "Saved annotated image to ../valid/visualise\\validation_4_1.jpg\n",
      "Saved annotated image to ../valid/visualise\\validation_4_2.jpg\n",
      "Saved annotated image to ../valid/visualise\\validation_4_3.jpg\n",
      "Saved annotated image to ../valid/visualise\\validation_4_4.jpg\n",
      "Saved annotated image to ../valid/visualise\\validation_4_5.jpg\n",
      "Saved annotated image to ../valid/visualise\\validation_4_6.jpg\n",
      "Saved annotated image to ../valid/visualise\\validation_4_7.jpg\n",
      "Saved annotated image to ../valid/visualise\\validation_5_0.jpg\n",
      "Saved annotated image to ../valid/visualise\\validation_5_1.jpg\n",
      "Saved annotated image to ../valid/visualise\\validation_5_2.jpg\n",
      "Saved annotated image to ../valid/visualise\\validation_5_3.jpg\n",
      "Saved annotated image to ../valid/visualise\\validation_5_4.jpg\n",
      "Saved annotated image to ../valid/visualise\\validation_5_5.jpg\n",
      "Saved annotated image to ../valid/visualise\\validation_5_6.jpg\n",
      "Saved annotated image to ../valid/visualise\\validation_5_7.jpg\n",
      "Saved annotated image to ../valid/visualise\\validation_6_0.jpg\n",
      "Saved annotated image to ../valid/visualise\\validation_6_1.jpg\n",
      "Saved annotated image to ../valid/visualise\\validation_6_2.jpg\n",
      "Saved annotated image to ../valid/visualise\\validation_6_3.jpg\n",
      "Saved annotated image to ../valid/visualise\\validation_6_4.jpg\n",
      "Saved annotated image to ../valid/visualise\\validation_6_5.jpg\n",
      "Saved annotated image to ../valid/visualise\\validation_6_6.jpg\n",
      "Saved annotated image to ../valid/visualise\\validation_6_7.jpg\n",
      "Saved annotated image to ../valid/visualise\\validation_7_0.jpg\n",
      "Saved annotated image to ../valid/visualise\\validation_7_1.jpg\n",
      "Saved annotated image to ../valid/visualise\\validation_7_2.jpg\n",
      "Saved annotated image to ../valid/visualise\\validation_7_3.jpg\n",
      "Saved annotated image to ../valid/visualise\\validation_7_4.jpg\n",
      "Saved annotated image to ../valid/visualise\\validation_7_5.jpg\n",
      "Saved annotated image to ../valid/visualise\\validation_7_6.jpg\n",
      "Saved annotated image to ../valid/visualise\\validation_7_7.jpg\n"
     ]
    }
   ],
   "source": [
    "# Example usage\n",
    "output_folder = '../valid/visualise'\n",
    "for image in os.listdir(\"../valid/images\"):\n",
    "    if not image.endswith(\".jpg\"):\n",
    "        continue\n",
    "    image_path = os.path.join(\"../valid/images\", image)\n",
    "    annotation_path = os.path.join(\"../valid/labels\", os.path.splitext(image)[0] + \".txt\")\n",
    "    save_image_with_annotations(image_path, annotation_path, output_folder)"
   ]
  },
  {
   "cell_type": "code",
   "execution_count": null,
   "metadata": {},
   "outputs": [],
   "source": []
  }
 ],
 "metadata": {
  "kernelspec": {
   "display_name": "ship",
   "language": "python",
   "name": "python3"
  },
  "language_info": {
   "codemirror_mode": {
    "name": "ipython",
    "version": 3
   },
   "file_extension": ".py",
   "mimetype": "text/x-python",
   "name": "python",
   "nbconvert_exporter": "python",
   "pygments_lexer": "ipython3",
   "version": "3.8.19"
  }
 },
 "nbformat": 4,
 "nbformat_minor": 2
}
